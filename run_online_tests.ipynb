{
 "metadata": {
  "language_info": {
   "codemirror_mode": {
    "name": "ipython",
    "version": 3
   },
   "file_extension": ".py",
   "mimetype": "text/x-python",
   "name": "python",
   "nbconvert_exporter": "python",
   "pygments_lexer": "ipython3",
   "version": "3.8.3-final"
  },
  "orig_nbformat": 2,
  "kernelspec": {
   "name": "Python 3.8.3 64-bit ('cinema_project': conda)",
   "display_name": "Python 3.8.3 64-bit ('cinema_project': conda)",
   "metadata": {
    "interpreter": {
     "hash": "429a913d07243cd84000faa6ee2d4e904d5fb3f67e0f2497a7ba0e43e83bfe39"
    }
   }
  }
 },
 "nbformat": 4,
 "nbformat_minor": 2,
 "cells": [
  {
   "source": [
    "# Title"
   ],
   "cell_type": "markdown",
   "metadata": {}
  },
  {
   "cell_type": "code",
   "execution_count": 1,
   "metadata": {
    "tags": []
   },
   "outputs": [],
   "source": [
    "from utils.test_file import generate_group_sequence\n",
    "from algorithms.online import FirstFit, BestFit, WorstFit, MinCovidChairs, Hybrid_BF_CC\n",
    "import pandas as pd\n",
    "import pickle\n",
    "import plotly.express as px\n",
    "import itertools\n",
    "from online_batch import run_algorithm_with_original_groups, repeat_algorithm_with_different_groups, get_file_names"
   ]
  },
  {
   "source": [
    "## Set variables\n",
    "\n",
    "We need to define:\n",
    "\n",
    "* which files (=grids) we are going to run\n",
    "* how many random groups we gonna test per grids\n",
    "* the number of groups\n",
    "* which algorithms"
   ],
   "cell_type": "markdown",
   "metadata": {}
  },
  {
   "cell_type": "code",
   "execution_count": 2,
   "metadata": {},
   "outputs": [],
   "source": [
    "FILE_DIR = \"input/online\"\n",
    "# 100 different group sequences from each 50 groups long\n",
    "GROUPS_LIST = [generate_group_sequence(50) for i in range(10)]\n",
    "ALGORITHMS = [FirstFit, BestFit, WorstFit, MinCovidChairs, Hybrid_BF_CC]"
   ]
  },
  {
   "source": [
    "Gather all the files that we want to run on."
   ],
   "cell_type": "markdown",
   "metadata": {}
  },
  {
   "cell_type": "code",
   "execution_count": 3,
   "metadata": {},
   "outputs": [],
   "source": [
    "file_names = get_file_names(FILE_DIR)"
   ]
  },
  {
   "source": [
    "Run the algorithms and gather the results in a dataframe"
   ],
   "cell_type": "markdown",
   "metadata": {}
  },
  {
   "cell_type": "code",
   "execution_count": 4,
   "metadata": {
    "tags": []
   },
   "outputs": [],
   "source": [
    "%%capture\n",
    "result = {}\n",
    "for file in file_names:\n",
    "    grid_path = f\"{FILE_DIR}/{file}\"\n",
    "\n",
    "    grid_result = {}\n",
    "    for algorithm in ALGORITHMS:\n",
    "        alg_filled_chairs = []\n",
    "        alg_filled_chairs.append(run_algorithm_with_original_groups(algorithm, grid_path))\n",
    "        alg_filled_chairs = alg_filled_chairs + repeat_algorithm_with_different_groups(algorithm, grid_path, GROUPS_LIST)\n",
    "        alg_name = str(algorithm.__name__)\n",
    "        grid_result.update({alg_name: alg_filled_chairs})\n",
    "    \n",
    "    result.update({file: grid_result})\n"
   ]
  },
  {
   "cell_type": "code",
   "execution_count": 5,
   "metadata": {
    "tags": []
   },
   "outputs": [
    {
     "output_type": "stream",
     "name": "stdout",
     "text": "The following grids were solved:\ndict_keys([&#39;Online1.txt&#39;, &#39;Online10.txt&#39;, &#39;Online11.txt&#39;, &#39;Online12.txt&#39;, &#39;Online2.txt&#39;, &#39;Online3.txt&#39;, &#39;Online4.txt&#39;, &#39;Online5.txt&#39;, &#39;Online6.txt&#39;, &#39;Online7.txt&#39;, &#39;Online8.txt&#39;, &#39;Online9.txt&#39;])\n"
    }
   ],
   "source": [
    "print(\"The following grids were solved:\")    \n",
    "print(result.keys())"
   ]
  },
  {
   "source": [
    "Put everything in a dataframe:"
   ],
   "cell_type": "markdown",
   "metadata": {}
  },
  {
   "cell_type": "code",
   "execution_count": 6,
   "metadata": {},
   "outputs": [],
   "source": [
    "df_list = []\n",
    "for grid, algs in result.items():\n",
    "    alg_series = []\n",
    "    for alg, value_list in algs.items():\n",
    "        alg_series.append(pd.Series(value_list, name=alg))\n",
    "    df = pd.DataFrame(alg_series).transpose()\n",
    "    df = df.assign(grid=grid[0:-4]).set_index('grid', append=True, drop=True)\n",
    "    df_list.append(df)\n",
    "df = pd.concat(df_list)"
   ]
  },
  {
   "source": [
    "Let's extract the records with the original groups from the input grid files, and put it in a seperate dataframe"
   ],
   "cell_type": "markdown",
   "metadata": {}
  },
  {
   "cell_type": "code",
   "execution_count": 7,
   "metadata": {},
   "outputs": [
    {
     "output_type": "execute_result",
     "data": {
      "text/plain": "          FirstFit  BestFit  WorstFit  MinCovidChairs  Hybrid_BF_CC\ngrid                                                               \nOnline1          5        5         5               5             5\nOnline10        74       67        73              79            67\nOnline11        45       52        39              52            52\nOnline12       144      147       120             141           147\nOnline2          9        9         5               5             9\nOnline3         15       11        13              15            15\nOnline4         12       12        12              16            16\nOnline5         22       26        22              22            26\nOnline6         29       29        27              33            33\nOnline7         41       41        31              34            43\nOnline8         38       36        38              40            36\nOnline9         69       64        61              69            64",
      "text/html": "<div>\n<style scoped>\n    .dataframe tbody tr th:only-of-type {\n        vertical-align: middle;\n    }\n\n    .dataframe tbody tr th {\n        vertical-align: top;\n    }\n\n    .dataframe thead th {\n        text-align: right;\n    }\n</style>\n<table border=\"1\" class=\"dataframe\">\n  <thead>\n    <tr style=\"text-align: right;\">\n      <th></th>\n      <th>FirstFit</th>\n      <th>BestFit</th>\n      <th>WorstFit</th>\n      <th>MinCovidChairs</th>\n      <th>Hybrid_BF_CC</th>\n    </tr>\n    <tr>\n      <th>grid</th>\n      <th></th>\n      <th></th>\n      <th></th>\n      <th></th>\n      <th></th>\n    </tr>\n  </thead>\n  <tbody>\n    <tr>\n      <th>Online1</th>\n      <td>5</td>\n      <td>5</td>\n      <td>5</td>\n      <td>5</td>\n      <td>5</td>\n    </tr>\n    <tr>\n      <th>Online10</th>\n      <td>74</td>\n      <td>67</td>\n      <td>73</td>\n      <td>79</td>\n      <td>67</td>\n    </tr>\n    <tr>\n      <th>Online11</th>\n      <td>45</td>\n      <td>52</td>\n      <td>39</td>\n      <td>52</td>\n      <td>52</td>\n    </tr>\n    <tr>\n      <th>Online12</th>\n      <td>144</td>\n      <td>147</td>\n      <td>120</td>\n      <td>141</td>\n      <td>147</td>\n    </tr>\n    <tr>\n      <th>Online2</th>\n      <td>9</td>\n      <td>9</td>\n      <td>5</td>\n      <td>5</td>\n      <td>9</td>\n    </tr>\n    <tr>\n      <th>Online3</th>\n      <td>15</td>\n      <td>11</td>\n      <td>13</td>\n      <td>15</td>\n      <td>15</td>\n    </tr>\n    <tr>\n      <th>Online4</th>\n      <td>12</td>\n      <td>12</td>\n      <td>12</td>\n      <td>16</td>\n      <td>16</td>\n    </tr>\n    <tr>\n      <th>Online5</th>\n      <td>22</td>\n      <td>26</td>\n      <td>22</td>\n      <td>22</td>\n      <td>26</td>\n    </tr>\n    <tr>\n      <th>Online6</th>\n      <td>29</td>\n      <td>29</td>\n      <td>27</td>\n      <td>33</td>\n      <td>33</td>\n    </tr>\n    <tr>\n      <th>Online7</th>\n      <td>41</td>\n      <td>41</td>\n      <td>31</td>\n      <td>34</td>\n      <td>43</td>\n    </tr>\n    <tr>\n      <th>Online8</th>\n      <td>38</td>\n      <td>36</td>\n      <td>38</td>\n      <td>40</td>\n      <td>36</td>\n    </tr>\n    <tr>\n      <th>Online9</th>\n      <td>69</td>\n      <td>64</td>\n      <td>61</td>\n      <td>69</td>\n      <td>64</td>\n    </tr>\n  </tbody>\n</table>\n</div>"
     },
     "metadata": {},
     "execution_count": 7
    }
   ],
   "source": [
    "# The first group is the original group included in the grid file\n",
    "df_real_groups = df.xs(0, level=None)\n",
    "df_real_groups"
   ]
  },
  {
   "source": [
    "And export the dataframe"
   ],
   "cell_type": "markdown",
   "metadata": {}
  },
  {
   "cell_type": "code",
   "execution_count": 8,
   "metadata": {},
   "outputs": [],
   "source": [
    "df_real_groups.to_pickle(\"results/online_results.p\")"
   ]
  },
  {
   "source": [
    "We also make a separate dataframe for the generated group simulation records: "
   ],
   "cell_type": "markdown",
   "metadata": {}
  },
  {
   "cell_type": "code",
   "execution_count": 9,
   "metadata": {},
   "outputs": [
    {
     "output_type": "execute_result",
     "data": {
      "text/plain": "             FirstFit  BestFit  WorstFit  MinCovidChairs  Hybrid_BF_CC\n   grid                                                               \n1  Online1          5        5         5               5             5\n   Online10        67       67        64              72            67\n   Online11        57       59        51              61            61\n   Online12       130      140       115             141           132\n   Online2          8        8         8               8             8\n...               ...      ...       ...             ...           ...\n10 Online5         25       24        23              25            27\n   Online6         28       30        25              30            32\n   Online7         41       41        33              39            40\n   Online8         44       45        43              46            45\n   Online9         66       64        60              68            63\n\n[120 rows x 5 columns]",
      "text/html": "<div>\n<style scoped>\n    .dataframe tbody tr th:only-of-type {\n        vertical-align: middle;\n    }\n\n    .dataframe tbody tr th {\n        vertical-align: top;\n    }\n\n    .dataframe thead th {\n        text-align: right;\n    }\n</style>\n<table border=\"1\" class=\"dataframe\">\n  <thead>\n    <tr style=\"text-align: right;\">\n      <th></th>\n      <th></th>\n      <th>FirstFit</th>\n      <th>BestFit</th>\n      <th>WorstFit</th>\n      <th>MinCovidChairs</th>\n      <th>Hybrid_BF_CC</th>\n    </tr>\n    <tr>\n      <th></th>\n      <th>grid</th>\n      <th></th>\n      <th></th>\n      <th></th>\n      <th></th>\n      <th></th>\n    </tr>\n  </thead>\n  <tbody>\n    <tr>\n      <th rowspan=\"5\" valign=\"top\">1</th>\n      <th>Online1</th>\n      <td>5</td>\n      <td>5</td>\n      <td>5</td>\n      <td>5</td>\n      <td>5</td>\n    </tr>\n    <tr>\n      <th>Online10</th>\n      <td>67</td>\n      <td>67</td>\n      <td>64</td>\n      <td>72</td>\n      <td>67</td>\n    </tr>\n    <tr>\n      <th>Online11</th>\n      <td>57</td>\n      <td>59</td>\n      <td>51</td>\n      <td>61</td>\n      <td>61</td>\n    </tr>\n    <tr>\n      <th>Online12</th>\n      <td>130</td>\n      <td>140</td>\n      <td>115</td>\n      <td>141</td>\n      <td>132</td>\n    </tr>\n    <tr>\n      <th>Online2</th>\n      <td>8</td>\n      <td>8</td>\n      <td>8</td>\n      <td>8</td>\n      <td>8</td>\n    </tr>\n    <tr>\n      <th>...</th>\n      <th>...</th>\n      <td>...</td>\n      <td>...</td>\n      <td>...</td>\n      <td>...</td>\n      <td>...</td>\n    </tr>\n    <tr>\n      <th rowspan=\"5\" valign=\"top\">10</th>\n      <th>Online5</th>\n      <td>25</td>\n      <td>24</td>\n      <td>23</td>\n      <td>25</td>\n      <td>27</td>\n    </tr>\n    <tr>\n      <th>Online6</th>\n      <td>28</td>\n      <td>30</td>\n      <td>25</td>\n      <td>30</td>\n      <td>32</td>\n    </tr>\n    <tr>\n      <th>Online7</th>\n      <td>41</td>\n      <td>41</td>\n      <td>33</td>\n      <td>39</td>\n      <td>40</td>\n    </tr>\n    <tr>\n      <th>Online8</th>\n      <td>44</td>\n      <td>45</td>\n      <td>43</td>\n      <td>46</td>\n      <td>45</td>\n    </tr>\n    <tr>\n      <th>Online9</th>\n      <td>66</td>\n      <td>64</td>\n      <td>60</td>\n      <td>68</td>\n      <td>63</td>\n    </tr>\n  </tbody>\n</table>\n<p>120 rows × 5 columns</p>\n</div>"
     },
     "metadata": {},
     "execution_count": 9
    }
   ],
   "source": [
    "# All the groups except group [0] belongs to the simulation\n",
    "df_sim = df.loc[pd.IndexSlice[range(1,len(GROUPS_LIST)+1),:]]\n",
    "df_sim"
   ]
  },
  {
   "source": [
    "The following analyses are on the simulation results."
   ],
   "cell_type": "markdown",
   "metadata": {}
  },
  {
   "cell_type": "code",
   "execution_count": 40,
   "metadata": {
    "tags": []
   },
   "outputs": [
    {
     "output_type": "execute_result",
     "data": {
      "text/plain": "        grid       algorithm  seats\n0    Online1        FirstFit    4.9\n1   Online10        FirstFit   69.8\n2   Online11        FirstFit   56.3\n3   Online12        FirstFit  130.6\n4    Online2        FirstFit    7.3\n5    Online3        FirstFit   15.4\n6    Online4        FirstFit   25.3\n7    Online5        FirstFit   23.3\n8    Online6        FirstFit   29.3\n9    Online7        FirstFit   37.9\n10   Online8        FirstFit   43.1\n11   Online9        FirstFit   61.8\n12   Online1         BestFit    5.8\n13  Online10         BestFit   68.3\n14  Online11         BestFit   56.4\n15  Online12         BestFit  133.1\n16   Online2         BestFit    7.1\n17   Online3         BestFit   15.4\n18   Online4         BestFit   25.2\n19   Online5         BestFit   22.2\n20   Online6         BestFit   31.1\n21   Online7         BestFit   38.2\n22   Online8         BestFit   43.0\n23   Online9         BestFit   63.1\n24   Online1        WorstFit    3.9\n25  Online10        WorstFit   66.1\n26  Online11        WorstFit   46.6\n27  Online12        WorstFit  110.2\n28   Online2        WorstFit    6.5\n29   Online3        WorstFit   13.8\n30   Online4        WorstFit   21.2\n31   Online5        WorstFit   21.8\n32   Online6        WorstFit   25.4\n33   Online7        WorstFit   32.9\n34   Online8        WorstFit   42.4\n35   Online9        WorstFit   56.1\n36   Online1  MinCovidChairs    5.8\n37  Online10  MinCovidChairs   73.7\n38  Online11  MinCovidChairs   59.7\n39  Online12  MinCovidChairs  138.7\n40   Online2  MinCovidChairs    6.8\n41   Online3  MinCovidChairs   16.0\n42   Online4  MinCovidChairs   25.0\n43   Online5  MinCovidChairs   24.3\n44   Online6  MinCovidChairs   31.1\n45   Online7  MinCovidChairs   38.6\n46   Online8  MinCovidChairs   45.5\n47   Online9  MinCovidChairs   64.6\n48   Online1    Hybrid_BF_CC    5.8\n49  Online10    Hybrid_BF_CC   68.5\n50  Online11    Hybrid_BF_CC   59.3\n51  Online12    Hybrid_BF_CC  137.3\n52   Online2    Hybrid_BF_CC    7.2\n53   Online3    Hybrid_BF_CC   16.0\n54   Online4    Hybrid_BF_CC   26.4\n55   Online5    Hybrid_BF_CC   23.1\n56   Online6    Hybrid_BF_CC   31.4\n57   Online7    Hybrid_BF_CC   38.7\n58   Online8    Hybrid_BF_CC   43.3\n59   Online9    Hybrid_BF_CC   62.9",
      "text/html": "<div>\n<style scoped>\n    .dataframe tbody tr th:only-of-type {\n        vertical-align: middle;\n    }\n\n    .dataframe tbody tr th {\n        vertical-align: top;\n    }\n\n    .dataframe thead th {\n        text-align: right;\n    }\n</style>\n<table border=\"1\" class=\"dataframe\">\n  <thead>\n    <tr style=\"text-align: right;\">\n      <th></th>\n      <th>grid</th>\n      <th>algorithm</th>\n      <th>seats</th>\n    </tr>\n  </thead>\n  <tbody>\n    <tr>\n      <th>0</th>\n      <td>Online1</td>\n      <td>FirstFit</td>\n      <td>4.9</td>\n    </tr>\n    <tr>\n      <th>1</th>\n      <td>Online10</td>\n      <td>FirstFit</td>\n      <td>69.8</td>\n    </tr>\n    <tr>\n      <th>2</th>\n      <td>Online11</td>\n      <td>FirstFit</td>\n      <td>56.3</td>\n    </tr>\n    <tr>\n      <th>3</th>\n      <td>Online12</td>\n      <td>FirstFit</td>\n      <td>130.6</td>\n    </tr>\n    <tr>\n      <th>4</th>\n      <td>Online2</td>\n      <td>FirstFit</td>\n      <td>7.3</td>\n    </tr>\n    <tr>\n      <th>5</th>\n      <td>Online3</td>\n      <td>FirstFit</td>\n      <td>15.4</td>\n    </tr>\n    <tr>\n      <th>6</th>\n      <td>Online4</td>\n      <td>FirstFit</td>\n      <td>25.3</td>\n    </tr>\n    <tr>\n      <th>7</th>\n      <td>Online5</td>\n      <td>FirstFit</td>\n      <td>23.3</td>\n    </tr>\n    <tr>\n      <th>8</th>\n      <td>Online6</td>\n      <td>FirstFit</td>\n      <td>29.3</td>\n    </tr>\n    <tr>\n      <th>9</th>\n      <td>Online7</td>\n      <td>FirstFit</td>\n      <td>37.9</td>\n    </tr>\n    <tr>\n      <th>10</th>\n      <td>Online8</td>\n      <td>FirstFit</td>\n      <td>43.1</td>\n    </tr>\n    <tr>\n      <th>11</th>\n      <td>Online9</td>\n      <td>FirstFit</td>\n      <td>61.8</td>\n    </tr>\n    <tr>\n      <th>12</th>\n      <td>Online1</td>\n      <td>BestFit</td>\n      <td>5.8</td>\n    </tr>\n    <tr>\n      <th>13</th>\n      <td>Online10</td>\n      <td>BestFit</td>\n      <td>68.3</td>\n    </tr>\n    <tr>\n      <th>14</th>\n      <td>Online11</td>\n      <td>BestFit</td>\n      <td>56.4</td>\n    </tr>\n    <tr>\n      <th>15</th>\n      <td>Online12</td>\n      <td>BestFit</td>\n      <td>133.1</td>\n    </tr>\n    <tr>\n      <th>16</th>\n      <td>Online2</td>\n      <td>BestFit</td>\n      <td>7.1</td>\n    </tr>\n    <tr>\n      <th>17</th>\n      <td>Online3</td>\n      <td>BestFit</td>\n      <td>15.4</td>\n    </tr>\n    <tr>\n      <th>18</th>\n      <td>Online4</td>\n      <td>BestFit</td>\n      <td>25.2</td>\n    </tr>\n    <tr>\n      <th>19</th>\n      <td>Online5</td>\n      <td>BestFit</td>\n      <td>22.2</td>\n    </tr>\n    <tr>\n      <th>20</th>\n      <td>Online6</td>\n      <td>BestFit</td>\n      <td>31.1</td>\n    </tr>\n    <tr>\n      <th>21</th>\n      <td>Online7</td>\n      <td>BestFit</td>\n      <td>38.2</td>\n    </tr>\n    <tr>\n      <th>22</th>\n      <td>Online8</td>\n      <td>BestFit</td>\n      <td>43.0</td>\n    </tr>\n    <tr>\n      <th>23</th>\n      <td>Online9</td>\n      <td>BestFit</td>\n      <td>63.1</td>\n    </tr>\n    <tr>\n      <th>24</th>\n      <td>Online1</td>\n      <td>WorstFit</td>\n      <td>3.9</td>\n    </tr>\n    <tr>\n      <th>25</th>\n      <td>Online10</td>\n      <td>WorstFit</td>\n      <td>66.1</td>\n    </tr>\n    <tr>\n      <th>26</th>\n      <td>Online11</td>\n      <td>WorstFit</td>\n      <td>46.6</td>\n    </tr>\n    <tr>\n      <th>27</th>\n      <td>Online12</td>\n      <td>WorstFit</td>\n      <td>110.2</td>\n    </tr>\n    <tr>\n      <th>28</th>\n      <td>Online2</td>\n      <td>WorstFit</td>\n      <td>6.5</td>\n    </tr>\n    <tr>\n      <th>29</th>\n      <td>Online3</td>\n      <td>WorstFit</td>\n      <td>13.8</td>\n    </tr>\n    <tr>\n      <th>30</th>\n      <td>Online4</td>\n      <td>WorstFit</td>\n      <td>21.2</td>\n    </tr>\n    <tr>\n      <th>31</th>\n      <td>Online5</td>\n      <td>WorstFit</td>\n      <td>21.8</td>\n    </tr>\n    <tr>\n      <th>32</th>\n      <td>Online6</td>\n      <td>WorstFit</td>\n      <td>25.4</td>\n    </tr>\n    <tr>\n      <th>33</th>\n      <td>Online7</td>\n      <td>WorstFit</td>\n      <td>32.9</td>\n    </tr>\n    <tr>\n      <th>34</th>\n      <td>Online8</td>\n      <td>WorstFit</td>\n      <td>42.4</td>\n    </tr>\n    <tr>\n      <th>35</th>\n      <td>Online9</td>\n      <td>WorstFit</td>\n      <td>56.1</td>\n    </tr>\n    <tr>\n      <th>36</th>\n      <td>Online1</td>\n      <td>MinCovidChairs</td>\n      <td>5.8</td>\n    </tr>\n    <tr>\n      <th>37</th>\n      <td>Online10</td>\n      <td>MinCovidChairs</td>\n      <td>73.7</td>\n    </tr>\n    <tr>\n      <th>38</th>\n      <td>Online11</td>\n      <td>MinCovidChairs</td>\n      <td>59.7</td>\n    </tr>\n    <tr>\n      <th>39</th>\n      <td>Online12</td>\n      <td>MinCovidChairs</td>\n      <td>138.7</td>\n    </tr>\n    <tr>\n      <th>40</th>\n      <td>Online2</td>\n      <td>MinCovidChairs</td>\n      <td>6.8</td>\n    </tr>\n    <tr>\n      <th>41</th>\n      <td>Online3</td>\n      <td>MinCovidChairs</td>\n      <td>16.0</td>\n    </tr>\n    <tr>\n      <th>42</th>\n      <td>Online4</td>\n      <td>MinCovidChairs</td>\n      <td>25.0</td>\n    </tr>\n    <tr>\n      <th>43</th>\n      <td>Online5</td>\n      <td>MinCovidChairs</td>\n      <td>24.3</td>\n    </tr>\n    <tr>\n      <th>44</th>\n      <td>Online6</td>\n      <td>MinCovidChairs</td>\n      <td>31.1</td>\n    </tr>\n    <tr>\n      <th>45</th>\n      <td>Online7</td>\n      <td>MinCovidChairs</td>\n      <td>38.6</td>\n    </tr>\n    <tr>\n      <th>46</th>\n      <td>Online8</td>\n      <td>MinCovidChairs</td>\n      <td>45.5</td>\n    </tr>\n    <tr>\n      <th>47</th>\n      <td>Online9</td>\n      <td>MinCovidChairs</td>\n      <td>64.6</td>\n    </tr>\n    <tr>\n      <th>48</th>\n      <td>Online1</td>\n      <td>Hybrid_BF_CC</td>\n      <td>5.8</td>\n    </tr>\n    <tr>\n      <th>49</th>\n      <td>Online10</td>\n      <td>Hybrid_BF_CC</td>\n      <td>68.5</td>\n    </tr>\n    <tr>\n      <th>50</th>\n      <td>Online11</td>\n      <td>Hybrid_BF_CC</td>\n      <td>59.3</td>\n    </tr>\n    <tr>\n      <th>51</th>\n      <td>Online12</td>\n      <td>Hybrid_BF_CC</td>\n      <td>137.3</td>\n    </tr>\n    <tr>\n      <th>52</th>\n      <td>Online2</td>\n      <td>Hybrid_BF_CC</td>\n      <td>7.2</td>\n    </tr>\n    <tr>\n      <th>53</th>\n      <td>Online3</td>\n      <td>Hybrid_BF_CC</td>\n      <td>16.0</td>\n    </tr>\n    <tr>\n      <th>54</th>\n      <td>Online4</td>\n      <td>Hybrid_BF_CC</td>\n      <td>26.4</td>\n    </tr>\n    <tr>\n      <th>55</th>\n      <td>Online5</td>\n      <td>Hybrid_BF_CC</td>\n      <td>23.1</td>\n    </tr>\n    <tr>\n      <th>56</th>\n      <td>Online6</td>\n      <td>Hybrid_BF_CC</td>\n      <td>31.4</td>\n    </tr>\n    <tr>\n      <th>57</th>\n      <td>Online7</td>\n      <td>Hybrid_BF_CC</td>\n      <td>38.7</td>\n    </tr>\n    <tr>\n      <th>58</th>\n      <td>Online8</td>\n      <td>Hybrid_BF_CC</td>\n      <td>43.3</td>\n    </tr>\n    <tr>\n      <th>59</th>\n      <td>Online9</td>\n      <td>Hybrid_BF_CC</td>\n      <td>62.9</td>\n    </tr>\n  </tbody>\n</table>\n</div>"
     },
     "metadata": {},
     "execution_count": 40
    }
   ],
   "source": [
    "df_sim_mean = df_sim.groupby(['grid']).mean().reset_index().melt(id_vars='grid', value_name='seats', var_name='algorithm')\n",
    "# df_sim_avg"
   ]
  },
  {
   "cell_type": "code",
   "execution_count": 33,
   "metadata": {},
   "outputs": [
    {
     "output_type": "execute_result",
     "data": {
      "text/plain": "        grid       algorithm       std\n0    Online1        FirstFit  1.100505\n1   Online10        FirstFit  2.820559\n2   Online11        FirstFit  2.668749\n3   Online12        FirstFit  4.812022\n4    Online2        FirstFit  0.948683\n5    Online3        FirstFit  0.966092\n6    Online4        FirstFit  1.494434\n7    Online5        FirstFit  1.337494\n8    Online6        FirstFit  2.359378\n9    Online7        FirstFit  2.330951\n10   Online8        FirstFit  1.449138\n11   Online9        FirstFit  2.299758\n12   Online1         BestFit  1.398412\n13  Online10         BestFit  2.584140\n14  Online11         BestFit  2.547330\n15  Online12         BestFit  4.677369\n16   Online2         BestFit  1.197219\n17   Online3         BestFit  1.429841\n18   Online4         BestFit  1.932184\n19   Online5         BestFit  2.149935\n20   Online6         BestFit  2.078995\n21   Online7         BestFit  2.394438\n22   Online8         BestFit  2.494438\n23   Online9         BestFit  3.247221\n24   Online1        WorstFit  0.316228\n25  Online10        WorstFit  1.911951\n26  Online11        WorstFit  2.756810\n27  Online12        WorstFit  4.638007\n28   Online2        WorstFit  0.527046\n29   Online3        WorstFit  1.475730\n30   Online4        WorstFit  1.751190\n31   Online5        WorstFit  1.619328\n32   Online6        WorstFit  1.955050\n33   Online7        WorstFit  2.643651\n34   Online8        WorstFit  1.955050\n35   Online9        WorstFit  3.071373\n36   Online1  MinCovidChairs  1.398412\n37  Online10  MinCovidChairs  3.164034\n38  Online11  MinCovidChairs  1.418136\n39  Online12  MinCovidChairs  2.750757\n40   Online2  MinCovidChairs  0.421637\n41   Online3  MinCovidChairs  0.942809\n42   Online4  MinCovidChairs  1.054093\n43   Online5  MinCovidChairs  1.251666\n44   Online6  MinCovidChairs  1.791957\n45   Online7  MinCovidChairs  1.074968\n46   Online8  MinCovidChairs  1.715938\n47   Online9  MinCovidChairs  2.270585\n48   Online1    Hybrid_BF_CC  1.398412\n49  Online10    Hybrid_BF_CC  3.341656\n50  Online11    Hybrid_BF_CC  2.359378\n51  Online12    Hybrid_BF_CC  4.347413\n52   Online2    Hybrid_BF_CC  1.135292\n53   Online3    Hybrid_BF_CC  0.942809\n54   Online4    Hybrid_BF_CC  1.173788\n55   Online5    Hybrid_BF_CC  1.595131\n56   Online6    Hybrid_BF_CC  1.776388\n57   Online7    Hybrid_BF_CC  2.496664\n58   Online8    Hybrid_BF_CC  2.110819\n59   Online9    Hybrid_BF_CC  3.665151",
      "text/html": "<div>\n<style scoped>\n    .dataframe tbody tr th:only-of-type {\n        vertical-align: middle;\n    }\n\n    .dataframe tbody tr th {\n        vertical-align: top;\n    }\n\n    .dataframe thead th {\n        text-align: right;\n    }\n</style>\n<table border=\"1\" class=\"dataframe\">\n  <thead>\n    <tr style=\"text-align: right;\">\n      <th></th>\n      <th>grid</th>\n      <th>algorithm</th>\n      <th>std</th>\n    </tr>\n  </thead>\n  <tbody>\n    <tr>\n      <th>0</th>\n      <td>Online1</td>\n      <td>FirstFit</td>\n      <td>1.100505</td>\n    </tr>\n    <tr>\n      <th>1</th>\n      <td>Online10</td>\n      <td>FirstFit</td>\n      <td>2.820559</td>\n    </tr>\n    <tr>\n      <th>2</th>\n      <td>Online11</td>\n      <td>FirstFit</td>\n      <td>2.668749</td>\n    </tr>\n    <tr>\n      <th>3</th>\n      <td>Online12</td>\n      <td>FirstFit</td>\n      <td>4.812022</td>\n    </tr>\n    <tr>\n      <th>4</th>\n      <td>Online2</td>\n      <td>FirstFit</td>\n      <td>0.948683</td>\n    </tr>\n    <tr>\n      <th>5</th>\n      <td>Online3</td>\n      <td>FirstFit</td>\n      <td>0.966092</td>\n    </tr>\n    <tr>\n      <th>6</th>\n      <td>Online4</td>\n      <td>FirstFit</td>\n      <td>1.494434</td>\n    </tr>\n    <tr>\n      <th>7</th>\n      <td>Online5</td>\n      <td>FirstFit</td>\n      <td>1.337494</td>\n    </tr>\n    <tr>\n      <th>8</th>\n      <td>Online6</td>\n      <td>FirstFit</td>\n      <td>2.359378</td>\n    </tr>\n    <tr>\n      <th>9</th>\n      <td>Online7</td>\n      <td>FirstFit</td>\n      <td>2.330951</td>\n    </tr>\n    <tr>\n      <th>10</th>\n      <td>Online8</td>\n      <td>FirstFit</td>\n      <td>1.449138</td>\n    </tr>\n    <tr>\n      <th>11</th>\n      <td>Online9</td>\n      <td>FirstFit</td>\n      <td>2.299758</td>\n    </tr>\n    <tr>\n      <th>12</th>\n      <td>Online1</td>\n      <td>BestFit</td>\n      <td>1.398412</td>\n    </tr>\n    <tr>\n      <th>13</th>\n      <td>Online10</td>\n      <td>BestFit</td>\n      <td>2.584140</td>\n    </tr>\n    <tr>\n      <th>14</th>\n      <td>Online11</td>\n      <td>BestFit</td>\n      <td>2.547330</td>\n    </tr>\n    <tr>\n      <th>15</th>\n      <td>Online12</td>\n      <td>BestFit</td>\n      <td>4.677369</td>\n    </tr>\n    <tr>\n      <th>16</th>\n      <td>Online2</td>\n      <td>BestFit</td>\n      <td>1.197219</td>\n    </tr>\n    <tr>\n      <th>17</th>\n      <td>Online3</td>\n      <td>BestFit</td>\n      <td>1.429841</td>\n    </tr>\n    <tr>\n      <th>18</th>\n      <td>Online4</td>\n      <td>BestFit</td>\n      <td>1.932184</td>\n    </tr>\n    <tr>\n      <th>19</th>\n      <td>Online5</td>\n      <td>BestFit</td>\n      <td>2.149935</td>\n    </tr>\n    <tr>\n      <th>20</th>\n      <td>Online6</td>\n      <td>BestFit</td>\n      <td>2.078995</td>\n    </tr>\n    <tr>\n      <th>21</th>\n      <td>Online7</td>\n      <td>BestFit</td>\n      <td>2.394438</td>\n    </tr>\n    <tr>\n      <th>22</th>\n      <td>Online8</td>\n      <td>BestFit</td>\n      <td>2.494438</td>\n    </tr>\n    <tr>\n      <th>23</th>\n      <td>Online9</td>\n      <td>BestFit</td>\n      <td>3.247221</td>\n    </tr>\n    <tr>\n      <th>24</th>\n      <td>Online1</td>\n      <td>WorstFit</td>\n      <td>0.316228</td>\n    </tr>\n    <tr>\n      <th>25</th>\n      <td>Online10</td>\n      <td>WorstFit</td>\n      <td>1.911951</td>\n    </tr>\n    <tr>\n      <th>26</th>\n      <td>Online11</td>\n      <td>WorstFit</td>\n      <td>2.756810</td>\n    </tr>\n    <tr>\n      <th>27</th>\n      <td>Online12</td>\n      <td>WorstFit</td>\n      <td>4.638007</td>\n    </tr>\n    <tr>\n      <th>28</th>\n      <td>Online2</td>\n      <td>WorstFit</td>\n      <td>0.527046</td>\n    </tr>\n    <tr>\n      <th>29</th>\n      <td>Online3</td>\n      <td>WorstFit</td>\n      <td>1.475730</td>\n    </tr>\n    <tr>\n      <th>30</th>\n      <td>Online4</td>\n      <td>WorstFit</td>\n      <td>1.751190</td>\n    </tr>\n    <tr>\n      <th>31</th>\n      <td>Online5</td>\n      <td>WorstFit</td>\n      <td>1.619328</td>\n    </tr>\n    <tr>\n      <th>32</th>\n      <td>Online6</td>\n      <td>WorstFit</td>\n      <td>1.955050</td>\n    </tr>\n    <tr>\n      <th>33</th>\n      <td>Online7</td>\n      <td>WorstFit</td>\n      <td>2.643651</td>\n    </tr>\n    <tr>\n      <th>34</th>\n      <td>Online8</td>\n      <td>WorstFit</td>\n      <td>1.955050</td>\n    </tr>\n    <tr>\n      <th>35</th>\n      <td>Online9</td>\n      <td>WorstFit</td>\n      <td>3.071373</td>\n    </tr>\n    <tr>\n      <th>36</th>\n      <td>Online1</td>\n      <td>MinCovidChairs</td>\n      <td>1.398412</td>\n    </tr>\n    <tr>\n      <th>37</th>\n      <td>Online10</td>\n      <td>MinCovidChairs</td>\n      <td>3.164034</td>\n    </tr>\n    <tr>\n      <th>38</th>\n      <td>Online11</td>\n      <td>MinCovidChairs</td>\n      <td>1.418136</td>\n    </tr>\n    <tr>\n      <th>39</th>\n      <td>Online12</td>\n      <td>MinCovidChairs</td>\n      <td>2.750757</td>\n    </tr>\n    <tr>\n      <th>40</th>\n      <td>Online2</td>\n      <td>MinCovidChairs</td>\n      <td>0.421637</td>\n    </tr>\n    <tr>\n      <th>41</th>\n      <td>Online3</td>\n      <td>MinCovidChairs</td>\n      <td>0.942809</td>\n    </tr>\n    <tr>\n      <th>42</th>\n      <td>Online4</td>\n      <td>MinCovidChairs</td>\n      <td>1.054093</td>\n    </tr>\n    <tr>\n      <th>43</th>\n      <td>Online5</td>\n      <td>MinCovidChairs</td>\n      <td>1.251666</td>\n    </tr>\n    <tr>\n      <th>44</th>\n      <td>Online6</td>\n      <td>MinCovidChairs</td>\n      <td>1.791957</td>\n    </tr>\n    <tr>\n      <th>45</th>\n      <td>Online7</td>\n      <td>MinCovidChairs</td>\n      <td>1.074968</td>\n    </tr>\n    <tr>\n      <th>46</th>\n      <td>Online8</td>\n      <td>MinCovidChairs</td>\n      <td>1.715938</td>\n    </tr>\n    <tr>\n      <th>47</th>\n      <td>Online9</td>\n      <td>MinCovidChairs</td>\n      <td>2.270585</td>\n    </tr>\n    <tr>\n      <th>48</th>\n      <td>Online1</td>\n      <td>Hybrid_BF_CC</td>\n      <td>1.398412</td>\n    </tr>\n    <tr>\n      <th>49</th>\n      <td>Online10</td>\n      <td>Hybrid_BF_CC</td>\n      <td>3.341656</td>\n    </tr>\n    <tr>\n      <th>50</th>\n      <td>Online11</td>\n      <td>Hybrid_BF_CC</td>\n      <td>2.359378</td>\n    </tr>\n    <tr>\n      <th>51</th>\n      <td>Online12</td>\n      <td>Hybrid_BF_CC</td>\n      <td>4.347413</td>\n    </tr>\n    <tr>\n      <th>52</th>\n      <td>Online2</td>\n      <td>Hybrid_BF_CC</td>\n      <td>1.135292</td>\n    </tr>\n    <tr>\n      <th>53</th>\n      <td>Online3</td>\n      <td>Hybrid_BF_CC</td>\n      <td>0.942809</td>\n    </tr>\n    <tr>\n      <th>54</th>\n      <td>Online4</td>\n      <td>Hybrid_BF_CC</td>\n      <td>1.173788</td>\n    </tr>\n    <tr>\n      <th>55</th>\n      <td>Online5</td>\n      <td>Hybrid_BF_CC</td>\n      <td>1.595131</td>\n    </tr>\n    <tr>\n      <th>56</th>\n      <td>Online6</td>\n      <td>Hybrid_BF_CC</td>\n      <td>1.776388</td>\n    </tr>\n    <tr>\n      <th>57</th>\n      <td>Online7</td>\n      <td>Hybrid_BF_CC</td>\n      <td>2.496664</td>\n    </tr>\n    <tr>\n      <th>58</th>\n      <td>Online8</td>\n      <td>Hybrid_BF_CC</td>\n      <td>2.110819</td>\n    </tr>\n    <tr>\n      <th>59</th>\n      <td>Online9</td>\n      <td>Hybrid_BF_CC</td>\n      <td>3.665151</td>\n    </tr>\n  </tbody>\n</table>\n</div>"
     },
     "metadata": {},
     "execution_count": 33
    }
   ],
   "source": [
    "df_sim_std = df_sim.groupby(['grid']).std().reset_index().melt(id_vars='grid', value_name='std', var_name='algorithm')\n",
    "# df_sim_std"
   ]
  },
  {
   "cell_type": "code",
   "execution_count": 41,
   "metadata": {},
   "outputs": [
    {
     "output_type": "execute_result",
     "data": {
      "text/plain": "        grid       algorithm  seats       std\n0    Online1        FirstFit    4.9  1.100505\n1   Online10        FirstFit   69.8  2.820559\n2   Online11        FirstFit   56.3  2.668749\n3   Online12        FirstFit  130.6  4.812022\n4    Online2        FirstFit    7.3  0.948683\n5    Online3        FirstFit   15.4  0.966092\n6    Online4        FirstFit   25.3  1.494434\n7    Online5        FirstFit   23.3  1.337494\n8    Online6        FirstFit   29.3  2.359378\n9    Online7        FirstFit   37.9  2.330951\n10   Online8        FirstFit   43.1  1.449138\n11   Online9        FirstFit   61.8  2.299758\n12   Online1         BestFit    5.8  1.398412\n13  Online10         BestFit   68.3  2.584140\n14  Online11         BestFit   56.4  2.547330\n15  Online12         BestFit  133.1  4.677369\n16   Online2         BestFit    7.1  1.197219\n17   Online3         BestFit   15.4  1.429841\n18   Online4         BestFit   25.2  1.932184\n19   Online5         BestFit   22.2  2.149935\n20   Online6         BestFit   31.1  2.078995\n21   Online7         BestFit   38.2  2.394438\n22   Online8         BestFit   43.0  2.494438\n23   Online9         BestFit   63.1  3.247221\n24   Online1        WorstFit    3.9  0.316228\n25  Online10        WorstFit   66.1  1.911951\n26  Online11        WorstFit   46.6  2.756810\n27  Online12        WorstFit  110.2  4.638007\n28   Online2        WorstFit    6.5  0.527046\n29   Online3        WorstFit   13.8  1.475730\n30   Online4        WorstFit   21.2  1.751190\n31   Online5        WorstFit   21.8  1.619328\n32   Online6        WorstFit   25.4  1.955050\n33   Online7        WorstFit   32.9  2.643651\n34   Online8        WorstFit   42.4  1.955050\n35   Online9        WorstFit   56.1  3.071373\n36   Online1  MinCovidChairs    5.8  1.398412\n37  Online10  MinCovidChairs   73.7  3.164034\n38  Online11  MinCovidChairs   59.7  1.418136\n39  Online12  MinCovidChairs  138.7  2.750757\n40   Online2  MinCovidChairs    6.8  0.421637\n41   Online3  MinCovidChairs   16.0  0.942809\n42   Online4  MinCovidChairs   25.0  1.054093\n43   Online5  MinCovidChairs   24.3  1.251666\n44   Online6  MinCovidChairs   31.1  1.791957\n45   Online7  MinCovidChairs   38.6  1.074968\n46   Online8  MinCovidChairs   45.5  1.715938\n47   Online9  MinCovidChairs   64.6  2.270585\n48   Online1    Hybrid_BF_CC    5.8  1.398412\n49  Online10    Hybrid_BF_CC   68.5  3.341656\n50  Online11    Hybrid_BF_CC   59.3  2.359378\n51  Online12    Hybrid_BF_CC  137.3  4.347413\n52   Online2    Hybrid_BF_CC    7.2  1.135292\n53   Online3    Hybrid_BF_CC   16.0  0.942809\n54   Online4    Hybrid_BF_CC   26.4  1.173788\n55   Online5    Hybrid_BF_CC   23.1  1.595131\n56   Online6    Hybrid_BF_CC   31.4  1.776388\n57   Online7    Hybrid_BF_CC   38.7  2.496664\n58   Online8    Hybrid_BF_CC   43.3  2.110819\n59   Online9    Hybrid_BF_CC   62.9  3.665151",
      "text/html": "<div>\n<style scoped>\n    .dataframe tbody tr th:only-of-type {\n        vertical-align: middle;\n    }\n\n    .dataframe tbody tr th {\n        vertical-align: top;\n    }\n\n    .dataframe thead th {\n        text-align: right;\n    }\n</style>\n<table border=\"1\" class=\"dataframe\">\n  <thead>\n    <tr style=\"text-align: right;\">\n      <th></th>\n      <th>grid</th>\n      <th>algorithm</th>\n      <th>seats</th>\n      <th>std</th>\n    </tr>\n  </thead>\n  <tbody>\n    <tr>\n      <th>0</th>\n      <td>Online1</td>\n      <td>FirstFit</td>\n      <td>4.9</td>\n      <td>1.100505</td>\n    </tr>\n    <tr>\n      <th>1</th>\n      <td>Online10</td>\n      <td>FirstFit</td>\n      <td>69.8</td>\n      <td>2.820559</td>\n    </tr>\n    <tr>\n      <th>2</th>\n      <td>Online11</td>\n      <td>FirstFit</td>\n      <td>56.3</td>\n      <td>2.668749</td>\n    </tr>\n    <tr>\n      <th>3</th>\n      <td>Online12</td>\n      <td>FirstFit</td>\n      <td>130.6</td>\n      <td>4.812022</td>\n    </tr>\n    <tr>\n      <th>4</th>\n      <td>Online2</td>\n      <td>FirstFit</td>\n      <td>7.3</td>\n      <td>0.948683</td>\n    </tr>\n    <tr>\n      <th>5</th>\n      <td>Online3</td>\n      <td>FirstFit</td>\n      <td>15.4</td>\n      <td>0.966092</td>\n    </tr>\n    <tr>\n      <th>6</th>\n      <td>Online4</td>\n      <td>FirstFit</td>\n      <td>25.3</td>\n      <td>1.494434</td>\n    </tr>\n    <tr>\n      <th>7</th>\n      <td>Online5</td>\n      <td>FirstFit</td>\n      <td>23.3</td>\n      <td>1.337494</td>\n    </tr>\n    <tr>\n      <th>8</th>\n      <td>Online6</td>\n      <td>FirstFit</td>\n      <td>29.3</td>\n      <td>2.359378</td>\n    </tr>\n    <tr>\n      <th>9</th>\n      <td>Online7</td>\n      <td>FirstFit</td>\n      <td>37.9</td>\n      <td>2.330951</td>\n    </tr>\n    <tr>\n      <th>10</th>\n      <td>Online8</td>\n      <td>FirstFit</td>\n      <td>43.1</td>\n      <td>1.449138</td>\n    </tr>\n    <tr>\n      <th>11</th>\n      <td>Online9</td>\n      <td>FirstFit</td>\n      <td>61.8</td>\n      <td>2.299758</td>\n    </tr>\n    <tr>\n      <th>12</th>\n      <td>Online1</td>\n      <td>BestFit</td>\n      <td>5.8</td>\n      <td>1.398412</td>\n    </tr>\n    <tr>\n      <th>13</th>\n      <td>Online10</td>\n      <td>BestFit</td>\n      <td>68.3</td>\n      <td>2.584140</td>\n    </tr>\n    <tr>\n      <th>14</th>\n      <td>Online11</td>\n      <td>BestFit</td>\n      <td>56.4</td>\n      <td>2.547330</td>\n    </tr>\n    <tr>\n      <th>15</th>\n      <td>Online12</td>\n      <td>BestFit</td>\n      <td>133.1</td>\n      <td>4.677369</td>\n    </tr>\n    <tr>\n      <th>16</th>\n      <td>Online2</td>\n      <td>BestFit</td>\n      <td>7.1</td>\n      <td>1.197219</td>\n    </tr>\n    <tr>\n      <th>17</th>\n      <td>Online3</td>\n      <td>BestFit</td>\n      <td>15.4</td>\n      <td>1.429841</td>\n    </tr>\n    <tr>\n      <th>18</th>\n      <td>Online4</td>\n      <td>BestFit</td>\n      <td>25.2</td>\n      <td>1.932184</td>\n    </tr>\n    <tr>\n      <th>19</th>\n      <td>Online5</td>\n      <td>BestFit</td>\n      <td>22.2</td>\n      <td>2.149935</td>\n    </tr>\n    <tr>\n      <th>20</th>\n      <td>Online6</td>\n      <td>BestFit</td>\n      <td>31.1</td>\n      <td>2.078995</td>\n    </tr>\n    <tr>\n      <th>21</th>\n      <td>Online7</td>\n      <td>BestFit</td>\n      <td>38.2</td>\n      <td>2.394438</td>\n    </tr>\n    <tr>\n      <th>22</th>\n      <td>Online8</td>\n      <td>BestFit</td>\n      <td>43.0</td>\n      <td>2.494438</td>\n    </tr>\n    <tr>\n      <th>23</th>\n      <td>Online9</td>\n      <td>BestFit</td>\n      <td>63.1</td>\n      <td>3.247221</td>\n    </tr>\n    <tr>\n      <th>24</th>\n      <td>Online1</td>\n      <td>WorstFit</td>\n      <td>3.9</td>\n      <td>0.316228</td>\n    </tr>\n    <tr>\n      <th>25</th>\n      <td>Online10</td>\n      <td>WorstFit</td>\n      <td>66.1</td>\n      <td>1.911951</td>\n    </tr>\n    <tr>\n      <th>26</th>\n      <td>Online11</td>\n      <td>WorstFit</td>\n      <td>46.6</td>\n      <td>2.756810</td>\n    </tr>\n    <tr>\n      <th>27</th>\n      <td>Online12</td>\n      <td>WorstFit</td>\n      <td>110.2</td>\n      <td>4.638007</td>\n    </tr>\n    <tr>\n      <th>28</th>\n      <td>Online2</td>\n      <td>WorstFit</td>\n      <td>6.5</td>\n      <td>0.527046</td>\n    </tr>\n    <tr>\n      <th>29</th>\n      <td>Online3</td>\n      <td>WorstFit</td>\n      <td>13.8</td>\n      <td>1.475730</td>\n    </tr>\n    <tr>\n      <th>30</th>\n      <td>Online4</td>\n      <td>WorstFit</td>\n      <td>21.2</td>\n      <td>1.751190</td>\n    </tr>\n    <tr>\n      <th>31</th>\n      <td>Online5</td>\n      <td>WorstFit</td>\n      <td>21.8</td>\n      <td>1.619328</td>\n    </tr>\n    <tr>\n      <th>32</th>\n      <td>Online6</td>\n      <td>WorstFit</td>\n      <td>25.4</td>\n      <td>1.955050</td>\n    </tr>\n    <tr>\n      <th>33</th>\n      <td>Online7</td>\n      <td>WorstFit</td>\n      <td>32.9</td>\n      <td>2.643651</td>\n    </tr>\n    <tr>\n      <th>34</th>\n      <td>Online8</td>\n      <td>WorstFit</td>\n      <td>42.4</td>\n      <td>1.955050</td>\n    </tr>\n    <tr>\n      <th>35</th>\n      <td>Online9</td>\n      <td>WorstFit</td>\n      <td>56.1</td>\n      <td>3.071373</td>\n    </tr>\n    <tr>\n      <th>36</th>\n      <td>Online1</td>\n      <td>MinCovidChairs</td>\n      <td>5.8</td>\n      <td>1.398412</td>\n    </tr>\n    <tr>\n      <th>37</th>\n      <td>Online10</td>\n      <td>MinCovidChairs</td>\n      <td>73.7</td>\n      <td>3.164034</td>\n    </tr>\n    <tr>\n      <th>38</th>\n      <td>Online11</td>\n      <td>MinCovidChairs</td>\n      <td>59.7</td>\n      <td>1.418136</td>\n    </tr>\n    <tr>\n      <th>39</th>\n      <td>Online12</td>\n      <td>MinCovidChairs</td>\n      <td>138.7</td>\n      <td>2.750757</td>\n    </tr>\n    <tr>\n      <th>40</th>\n      <td>Online2</td>\n      <td>MinCovidChairs</td>\n      <td>6.8</td>\n      <td>0.421637</td>\n    </tr>\n    <tr>\n      <th>41</th>\n      <td>Online3</td>\n      <td>MinCovidChairs</td>\n      <td>16.0</td>\n      <td>0.942809</td>\n    </tr>\n    <tr>\n      <th>42</th>\n      <td>Online4</td>\n      <td>MinCovidChairs</td>\n      <td>25.0</td>\n      <td>1.054093</td>\n    </tr>\n    <tr>\n      <th>43</th>\n      <td>Online5</td>\n      <td>MinCovidChairs</td>\n      <td>24.3</td>\n      <td>1.251666</td>\n    </tr>\n    <tr>\n      <th>44</th>\n      <td>Online6</td>\n      <td>MinCovidChairs</td>\n      <td>31.1</td>\n      <td>1.791957</td>\n    </tr>\n    <tr>\n      <th>45</th>\n      <td>Online7</td>\n      <td>MinCovidChairs</td>\n      <td>38.6</td>\n      <td>1.074968</td>\n    </tr>\n    <tr>\n      <th>46</th>\n      <td>Online8</td>\n      <td>MinCovidChairs</td>\n      <td>45.5</td>\n      <td>1.715938</td>\n    </tr>\n    <tr>\n      <th>47</th>\n      <td>Online9</td>\n      <td>MinCovidChairs</td>\n      <td>64.6</td>\n      <td>2.270585</td>\n    </tr>\n    <tr>\n      <th>48</th>\n      <td>Online1</td>\n      <td>Hybrid_BF_CC</td>\n      <td>5.8</td>\n      <td>1.398412</td>\n    </tr>\n    <tr>\n      <th>49</th>\n      <td>Online10</td>\n      <td>Hybrid_BF_CC</td>\n      <td>68.5</td>\n      <td>3.341656</td>\n    </tr>\n    <tr>\n      <th>50</th>\n      <td>Online11</td>\n      <td>Hybrid_BF_CC</td>\n      <td>59.3</td>\n      <td>2.359378</td>\n    </tr>\n    <tr>\n      <th>51</th>\n      <td>Online12</td>\n      <td>Hybrid_BF_CC</td>\n      <td>137.3</td>\n      <td>4.347413</td>\n    </tr>\n    <tr>\n      <th>52</th>\n      <td>Online2</td>\n      <td>Hybrid_BF_CC</td>\n      <td>7.2</td>\n      <td>1.135292</td>\n    </tr>\n    <tr>\n      <th>53</th>\n      <td>Online3</td>\n      <td>Hybrid_BF_CC</td>\n      <td>16.0</td>\n      <td>0.942809</td>\n    </tr>\n    <tr>\n      <th>54</th>\n      <td>Online4</td>\n      <td>Hybrid_BF_CC</td>\n      <td>26.4</td>\n      <td>1.173788</td>\n    </tr>\n    <tr>\n      <th>55</th>\n      <td>Online5</td>\n      <td>Hybrid_BF_CC</td>\n      <td>23.1</td>\n      <td>1.595131</td>\n    </tr>\n    <tr>\n      <th>56</th>\n      <td>Online6</td>\n      <td>Hybrid_BF_CC</td>\n      <td>31.4</td>\n      <td>1.776388</td>\n    </tr>\n    <tr>\n      <th>57</th>\n      <td>Online7</td>\n      <td>Hybrid_BF_CC</td>\n      <td>38.7</td>\n      <td>2.496664</td>\n    </tr>\n    <tr>\n      <th>58</th>\n      <td>Online8</td>\n      <td>Hybrid_BF_CC</td>\n      <td>43.3</td>\n      <td>2.110819</td>\n    </tr>\n    <tr>\n      <th>59</th>\n      <td>Online9</td>\n      <td>Hybrid_BF_CC</td>\n      <td>62.9</td>\n      <td>3.665151</td>\n    </tr>\n  </tbody>\n</table>\n</div>"
     },
     "metadata": {},
     "execution_count": 41
    }
   ],
   "source": [
    "df_sim_comb = df_sim_mean.merge(df_sim_std, on=['grid', 'algorithm'])\n",
    "# df_sim_comb"
   ]
  },
  {
   "source": [
    "The mean performance of each algorithm per grid:"
   ],
   "cell_type": "markdown",
   "metadata": {}
  },
  {
   "cell_type": "code",
   "execution_count": 42,
   "metadata": {},
   "outputs": [
    {
     "output_type": "display_data",
     "data": {
      "application/vnd.plotly.v1+json": {
       "config": {
        "plotlyServerURL": "https://plot.ly"
       },
       "data": [
        {
         "alignmentgroup": "True",
         "error_y": {
          "array": [
           1.1005049346146119,
           2.8205594401741587,
           2.668749186833079,
           4.812021982031623,
           0.9486832980505137,
           0.9660917830792959,
           1.4944341180973262,
           1.3374935098492586,
           2.359378449224852,
           2.3309511649396115,
           1.449137674618944,
           2.299758441421379
          ]
         },
         "hovertemplate": "algorithm=FirstFit<br>grid=%{x}<br>seats=%{y}<extra></extra>",
         "legendgroup": "FirstFit",
         "marker": {
          "color": "#636efa"
         },
         "name": "FirstFit",
         "offsetgroup": "FirstFit",
         "orientation": "v",
         "showlegend": true,
         "textposition": "auto",
         "type": "bar",
         "x": [
          "Online1",
          "Online10",
          "Online11",
          "Online12",
          "Online2",
          "Online3",
          "Online4",
          "Online5",
          "Online6",
          "Online7",
          "Online8",
          "Online9"
         ],
         "xaxis": "x",
         "y": [
          4.9,
          69.8,
          56.3,
          130.6,
          7.3,
          15.4,
          25.3,
          23.3,
          29.3,
          37.9,
          43.1,
          61.8
         ],
         "yaxis": "y"
        },
        {
         "alignmentgroup": "True",
         "error_y": {
          "array": [
           1.3984117975602022,
           2.5841396591085752,
           2.5473297566057065,
           4.677368680976282,
           1.1972189997378648,
           1.4298407059684815,
           1.9321835661585918,
           2.14993539954628,
           2.078995483935023,
           2.39443799947573,
           2.494438257849295,
           3.2472210341220147
          ]
         },
         "hovertemplate": "algorithm=BestFit<br>grid=%{x}<br>seats=%{y}<extra></extra>",
         "legendgroup": "BestFit",
         "marker": {
          "color": "#EF553B"
         },
         "name": "BestFit",
         "offsetgroup": "BestFit",
         "orientation": "v",
         "showlegend": true,
         "textposition": "auto",
         "type": "bar",
         "x": [
          "Online1",
          "Online10",
          "Online11",
          "Online12",
          "Online2",
          "Online3",
          "Online4",
          "Online5",
          "Online6",
          "Online7",
          "Online8",
          "Online9"
         ],
         "xaxis": "x",
         "y": [
          5.8,
          68.3,
          56.4,
          133.1,
          7.1,
          15.4,
          25.2,
          22.2,
          31.1,
          38.2,
          43,
          63.1
         ],
         "yaxis": "y"
        },
        {
         "alignmentgroup": "True",
         "error_y": {
          "array": [
           0.31622776601683794,
           1.9119507199599959,
           2.7568097504180447,
           4.638007234913623,
           0.5270462766947295,
           1.4757295747452437,
           1.7511900715418252,
           1.6193277068654823,
           1.9550504398153576,
           2.6436506745197805,
           1.955050439815357,
           3.0713731999438525
          ]
         },
         "hovertemplate": "algorithm=WorstFit<br>grid=%{x}<br>seats=%{y}<extra></extra>",
         "legendgroup": "WorstFit",
         "marker": {
          "color": "#00cc96"
         },
         "name": "WorstFit",
         "offsetgroup": "WorstFit",
         "orientation": "v",
         "showlegend": true,
         "textposition": "auto",
         "type": "bar",
         "x": [
          "Online1",
          "Online10",
          "Online11",
          "Online12",
          "Online2",
          "Online3",
          "Online4",
          "Online5",
          "Online6",
          "Online7",
          "Online8",
          "Online9"
         ],
         "xaxis": "x",
         "y": [
          3.9,
          66.1,
          46.6,
          110.2,
          6.5,
          13.8,
          21.2,
          21.8,
          25.4,
          32.9,
          42.4,
          56.1
         ],
         "yaxis": "y"
        },
        {
         "alignmentgroup": "True",
         "error_y": {
          "array": [
           1.3984117975602022,
           3.164033993355805,
           1.4181364924121764,
           2.7507574714370358,
           0.4216370213557842,
           0.9428090415820634,
           1.0540925533894603,
           1.2516655570345727,
           1.791957340762081,
           1.0749676997731417,
           1.7159383568311672,
           2.2705848487901883
          ]
         },
         "hovertemplate": "algorithm=MinCovidChairs<br>grid=%{x}<br>seats=%{y}<extra></extra>",
         "legendgroup": "MinCovidChairs",
         "marker": {
          "color": "#ab63fa"
         },
         "name": "MinCovidChairs",
         "offsetgroup": "MinCovidChairs",
         "orientation": "v",
         "showlegend": true,
         "textposition": "auto",
         "type": "bar",
         "x": [
          "Online1",
          "Online10",
          "Online11",
          "Online12",
          "Online2",
          "Online3",
          "Online4",
          "Online5",
          "Online6",
          "Online7",
          "Online8",
          "Online9"
         ],
         "xaxis": "x",
         "y": [
          5.8,
          73.7,
          59.7,
          138.7,
          6.8,
          16,
          25,
          24.3,
          31.1,
          38.6,
          45.5,
          64.6
         ],
         "yaxis": "y"
        },
        {
         "alignmentgroup": "True",
         "error_y": {
          "array": [
           1.3984117975602022,
           3.341656275960571,
           2.359378449224852,
           4.347413023856831,
           1.1352924243950935,
           0.9428090415820634,
           1.1737877907772671,
           1.5951314818673863,
           1.776388345929897,
           2.496664441476533,
           2.110818693198342,
           3.665151201974258
          ]
         },
         "hovertemplate": "algorithm=Hybrid_BF_CC<br>grid=%{x}<br>seats=%{y}<extra></extra>",
         "legendgroup": "Hybrid_BF_CC",
         "marker": {
          "color": "#FFA15A"
         },
         "name": "Hybrid_BF_CC",
         "offsetgroup": "Hybrid_BF_CC",
         "orientation": "v",
         "showlegend": true,
         "textposition": "auto",
         "type": "bar",
         "x": [
          "Online1",
          "Online10",
          "Online11",
          "Online12",
          "Online2",
          "Online3",
          "Online4",
          "Online5",
          "Online6",
          "Online7",
          "Online8",
          "Online9"
         ],
         "xaxis": "x",
         "y": [
          5.8,
          68.5,
          59.3,
          137.3,
          7.2,
          16,
          26.4,
          23.1,
          31.4,
          38.7,
          43.3,
          62.9
         ],
         "yaxis": "y"
        }
       ],
       "layout": {
        "barmode": "group",
        "legend": {
         "title": {
          "text": "algorithm"
         },
         "tracegroupgap": 0
        },
        "margin": {
         "t": 60
        },
        "template": {
         "data": {
          "bar": [
           {
            "error_x": {
             "color": "#2a3f5f"
            },
            "error_y": {
             "color": "#2a3f5f"
            },
            "marker": {
             "line": {
              "color": "#E5ECF6",
              "width": 0.5
             }
            },
            "type": "bar"
           }
          ],
          "barpolar": [
           {
            "marker": {
             "line": {
              "color": "#E5ECF6",
              "width": 0.5
             }
            },
            "type": "barpolar"
           }
          ],
          "carpet": [
           {
            "aaxis": {
             "endlinecolor": "#2a3f5f",
             "gridcolor": "white",
             "linecolor": "white",
             "minorgridcolor": "white",
             "startlinecolor": "#2a3f5f"
            },
            "baxis": {
             "endlinecolor": "#2a3f5f",
             "gridcolor": "white",
             "linecolor": "white",
             "minorgridcolor": "white",
             "startlinecolor": "#2a3f5f"
            },
            "type": "carpet"
           }
          ],
          "choropleth": [
           {
            "colorbar": {
             "outlinewidth": 0,
             "ticks": ""
            },
            "type": "choropleth"
           }
          ],
          "contour": [
           {
            "colorbar": {
             "outlinewidth": 0,
             "ticks": ""
            },
            "colorscale": [
             [
              0,
              "#0d0887"
             ],
             [
              0.1111111111111111,
              "#46039f"
             ],
             [
              0.2222222222222222,
              "#7201a8"
             ],
             [
              0.3333333333333333,
              "#9c179e"
             ],
             [
              0.4444444444444444,
              "#bd3786"
             ],
             [
              0.5555555555555556,
              "#d8576b"
             ],
             [
              0.6666666666666666,
              "#ed7953"
             ],
             [
              0.7777777777777778,
              "#fb9f3a"
             ],
             [
              0.8888888888888888,
              "#fdca26"
             ],
             [
              1,
              "#f0f921"
             ]
            ],
            "type": "contour"
           }
          ],
          "contourcarpet": [
           {
            "colorbar": {
             "outlinewidth": 0,
             "ticks": ""
            },
            "type": "contourcarpet"
           }
          ],
          "heatmap": [
           {
            "colorbar": {
             "outlinewidth": 0,
             "ticks": ""
            },
            "colorscale": [
             [
              0,
              "#0d0887"
             ],
             [
              0.1111111111111111,
              "#46039f"
             ],
             [
              0.2222222222222222,
              "#7201a8"
             ],
             [
              0.3333333333333333,
              "#9c179e"
             ],
             [
              0.4444444444444444,
              "#bd3786"
             ],
             [
              0.5555555555555556,
              "#d8576b"
             ],
             [
              0.6666666666666666,
              "#ed7953"
             ],
             [
              0.7777777777777778,
              "#fb9f3a"
             ],
             [
              0.8888888888888888,
              "#fdca26"
             ],
             [
              1,
              "#f0f921"
             ]
            ],
            "type": "heatmap"
           }
          ],
          "heatmapgl": [
           {
            "colorbar": {
             "outlinewidth": 0,
             "ticks": ""
            },
            "colorscale": [
             [
              0,
              "#0d0887"
             ],
             [
              0.1111111111111111,
              "#46039f"
             ],
             [
              0.2222222222222222,
              "#7201a8"
             ],
             [
              0.3333333333333333,
              "#9c179e"
             ],
             [
              0.4444444444444444,
              "#bd3786"
             ],
             [
              0.5555555555555556,
              "#d8576b"
             ],
             [
              0.6666666666666666,
              "#ed7953"
             ],
             [
              0.7777777777777778,
              "#fb9f3a"
             ],
             [
              0.8888888888888888,
              "#fdca26"
             ],
             [
              1,
              "#f0f921"
             ]
            ],
            "type": "heatmapgl"
           }
          ],
          "histogram": [
           {
            "marker": {
             "colorbar": {
              "outlinewidth": 0,
              "ticks": ""
             }
            },
            "type": "histogram"
           }
          ],
          "histogram2d": [
           {
            "colorbar": {
             "outlinewidth": 0,
             "ticks": ""
            },
            "colorscale": [
             [
              0,
              "#0d0887"
             ],
             [
              0.1111111111111111,
              "#46039f"
             ],
             [
              0.2222222222222222,
              "#7201a8"
             ],
             [
              0.3333333333333333,
              "#9c179e"
             ],
             [
              0.4444444444444444,
              "#bd3786"
             ],
             [
              0.5555555555555556,
              "#d8576b"
             ],
             [
              0.6666666666666666,
              "#ed7953"
             ],
             [
              0.7777777777777778,
              "#fb9f3a"
             ],
             [
              0.8888888888888888,
              "#fdca26"
             ],
             [
              1,
              "#f0f921"
             ]
            ],
            "type": "histogram2d"
           }
          ],
          "histogram2dcontour": [
           {
            "colorbar": {
             "outlinewidth": 0,
             "ticks": ""
            },
            "colorscale": [
             [
              0,
              "#0d0887"
             ],
             [
              0.1111111111111111,
              "#46039f"
             ],
             [
              0.2222222222222222,
              "#7201a8"
             ],
             [
              0.3333333333333333,
              "#9c179e"
             ],
             [
              0.4444444444444444,
              "#bd3786"
             ],
             [
              0.5555555555555556,
              "#d8576b"
             ],
             [
              0.6666666666666666,
              "#ed7953"
             ],
             [
              0.7777777777777778,
              "#fb9f3a"
             ],
             [
              0.8888888888888888,
              "#fdca26"
             ],
             [
              1,
              "#f0f921"
             ]
            ],
            "type": "histogram2dcontour"
           }
          ],
          "mesh3d": [
           {
            "colorbar": {
             "outlinewidth": 0,
             "ticks": ""
            },
            "type": "mesh3d"
           }
          ],
          "parcoords": [
           {
            "line": {
             "colorbar": {
              "outlinewidth": 0,
              "ticks": ""
             }
            },
            "type": "parcoords"
           }
          ],
          "pie": [
           {
            "automargin": true,
            "type": "pie"
           }
          ],
          "scatter": [
           {
            "marker": {
             "colorbar": {
              "outlinewidth": 0,
              "ticks": ""
             }
            },
            "type": "scatter"
           }
          ],
          "scatter3d": [
           {
            "line": {
             "colorbar": {
              "outlinewidth": 0,
              "ticks": ""
             }
            },
            "marker": {
             "colorbar": {
              "outlinewidth": 0,
              "ticks": ""
             }
            },
            "type": "scatter3d"
           }
          ],
          "scattercarpet": [
           {
            "marker": {
             "colorbar": {
              "outlinewidth": 0,
              "ticks": ""
             }
            },
            "type": "scattercarpet"
           }
          ],
          "scattergeo": [
           {
            "marker": {
             "colorbar": {
              "outlinewidth": 0,
              "ticks": ""
             }
            },
            "type": "scattergeo"
           }
          ],
          "scattergl": [
           {
            "marker": {
             "colorbar": {
              "outlinewidth": 0,
              "ticks": ""
             }
            },
            "type": "scattergl"
           }
          ],
          "scattermapbox": [
           {
            "marker": {
             "colorbar": {
              "outlinewidth": 0,
              "ticks": ""
             }
            },
            "type": "scattermapbox"
           }
          ],
          "scatterpolar": [
           {
            "marker": {
             "colorbar": {
              "outlinewidth": 0,
              "ticks": ""
             }
            },
            "type": "scatterpolar"
           }
          ],
          "scatterpolargl": [
           {
            "marker": {
             "colorbar": {
              "outlinewidth": 0,
              "ticks": ""
             }
            },
            "type": "scatterpolargl"
           }
          ],
          "scatterternary": [
           {
            "marker": {
             "colorbar": {
              "outlinewidth": 0,
              "ticks": ""
             }
            },
            "type": "scatterternary"
           }
          ],
          "surface": [
           {
            "colorbar": {
             "outlinewidth": 0,
             "ticks": ""
            },
            "colorscale": [
             [
              0,
              "#0d0887"
             ],
             [
              0.1111111111111111,
              "#46039f"
             ],
             [
              0.2222222222222222,
              "#7201a8"
             ],
             [
              0.3333333333333333,
              "#9c179e"
             ],
             [
              0.4444444444444444,
              "#bd3786"
             ],
             [
              0.5555555555555556,
              "#d8576b"
             ],
             [
              0.6666666666666666,
              "#ed7953"
             ],
             [
              0.7777777777777778,
              "#fb9f3a"
             ],
             [
              0.8888888888888888,
              "#fdca26"
             ],
             [
              1,
              "#f0f921"
             ]
            ],
            "type": "surface"
           }
          ],
          "table": [
           {
            "cells": {
             "fill": {
              "color": "#EBF0F8"
             },
             "line": {
              "color": "white"
             }
            },
            "header": {
             "fill": {
              "color": "#C8D4E3"
             },
             "line": {
              "color": "white"
             }
            },
            "type": "table"
           }
          ]
         },
         "layout": {
          "annotationdefaults": {
           "arrowcolor": "#2a3f5f",
           "arrowhead": 0,
           "arrowwidth": 1
          },
          "coloraxis": {
           "colorbar": {
            "outlinewidth": 0,
            "ticks": ""
           }
          },
          "colorscale": {
           "diverging": [
            [
             0,
             "#8e0152"
            ],
            [
             0.1,
             "#c51b7d"
            ],
            [
             0.2,
             "#de77ae"
            ],
            [
             0.3,
             "#f1b6da"
            ],
            [
             0.4,
             "#fde0ef"
            ],
            [
             0.5,
             "#f7f7f7"
            ],
            [
             0.6,
             "#e6f5d0"
            ],
            [
             0.7,
             "#b8e186"
            ],
            [
             0.8,
             "#7fbc41"
            ],
            [
             0.9,
             "#4d9221"
            ],
            [
             1,
             "#276419"
            ]
           ],
           "sequential": [
            [
             0,
             "#0d0887"
            ],
            [
             0.1111111111111111,
             "#46039f"
            ],
            [
             0.2222222222222222,
             "#7201a8"
            ],
            [
             0.3333333333333333,
             "#9c179e"
            ],
            [
             0.4444444444444444,
             "#bd3786"
            ],
            [
             0.5555555555555556,
             "#d8576b"
            ],
            [
             0.6666666666666666,
             "#ed7953"
            ],
            [
             0.7777777777777778,
             "#fb9f3a"
            ],
            [
             0.8888888888888888,
             "#fdca26"
            ],
            [
             1,
             "#f0f921"
            ]
           ],
           "sequentialminus": [
            [
             0,
             "#0d0887"
            ],
            [
             0.1111111111111111,
             "#46039f"
            ],
            [
             0.2222222222222222,
             "#7201a8"
            ],
            [
             0.3333333333333333,
             "#9c179e"
            ],
            [
             0.4444444444444444,
             "#bd3786"
            ],
            [
             0.5555555555555556,
             "#d8576b"
            ],
            [
             0.6666666666666666,
             "#ed7953"
            ],
            [
             0.7777777777777778,
             "#fb9f3a"
            ],
            [
             0.8888888888888888,
             "#fdca26"
            ],
            [
             1,
             "#f0f921"
            ]
           ]
          },
          "colorway": [
           "#636efa",
           "#EF553B",
           "#00cc96",
           "#ab63fa",
           "#FFA15A",
           "#19d3f3",
           "#FF6692",
           "#B6E880",
           "#FF97FF",
           "#FECB52"
          ],
          "font": {
           "color": "#2a3f5f"
          },
          "geo": {
           "bgcolor": "white",
           "lakecolor": "white",
           "landcolor": "#E5ECF6",
           "showlakes": true,
           "showland": true,
           "subunitcolor": "white"
          },
          "hoverlabel": {
           "align": "left"
          },
          "hovermode": "closest",
          "mapbox": {
           "style": "light"
          },
          "paper_bgcolor": "white",
          "plot_bgcolor": "#E5ECF6",
          "polar": {
           "angularaxis": {
            "gridcolor": "white",
            "linecolor": "white",
            "ticks": ""
           },
           "bgcolor": "#E5ECF6",
           "radialaxis": {
            "gridcolor": "white",
            "linecolor": "white",
            "ticks": ""
           }
          },
          "scene": {
           "xaxis": {
            "backgroundcolor": "#E5ECF6",
            "gridcolor": "white",
            "gridwidth": 2,
            "linecolor": "white",
            "showbackground": true,
            "ticks": "",
            "zerolinecolor": "white"
           },
           "yaxis": {
            "backgroundcolor": "#E5ECF6",
            "gridcolor": "white",
            "gridwidth": 2,
            "linecolor": "white",
            "showbackground": true,
            "ticks": "",
            "zerolinecolor": "white"
           },
           "zaxis": {
            "backgroundcolor": "#E5ECF6",
            "gridcolor": "white",
            "gridwidth": 2,
            "linecolor": "white",
            "showbackground": true,
            "ticks": "",
            "zerolinecolor": "white"
           }
          },
          "shapedefaults": {
           "line": {
            "color": "#2a3f5f"
           }
          },
          "ternary": {
           "aaxis": {
            "gridcolor": "white",
            "linecolor": "white",
            "ticks": ""
           },
           "baxis": {
            "gridcolor": "white",
            "linecolor": "white",
            "ticks": ""
           },
           "bgcolor": "#E5ECF6",
           "caxis": {
            "gridcolor": "white",
            "linecolor": "white",
            "ticks": ""
           }
          },
          "title": {
           "x": 0.05
          },
          "xaxis": {
           "automargin": true,
           "gridcolor": "white",
           "linecolor": "white",
           "ticks": "",
           "title": {
            "standoff": 15
           },
           "zerolinecolor": "white",
           "zerolinewidth": 2
          },
          "yaxis": {
           "automargin": true,
           "gridcolor": "white",
           "linecolor": "white",
           "ticks": "",
           "title": {
            "standoff": 15
           },
           "zerolinecolor": "white",
           "zerolinewidth": 2
          }
         }
        },
        "xaxis": {
         "anchor": "y",
         "domain": [
          0,
          1
         ],
         "title": {
          "text": "grid"
         }
        },
        "yaxis": {
         "anchor": "x",
         "domain": [
          0,
          1
         ],
         "title": {
          "text": "seats"
         }
        }
       }
      }
     },
     "metadata": {}
    }
   ],
   "source": [
    "bar_mean = px.bar(df_sim_comb, x='grid', color='algorithm', y='seats', barmode='group', error_y='std')\n",
    "bar_mean.show()"
   ]
  },
  {
   "source": [
    "Best performance of each algorithm per grid:"
   ],
   "cell_type": "markdown",
   "metadata": {}
  },
  {
   "cell_type": "code",
   "execution_count": 43,
   "metadata": {},
   "outputs": [
    {
     "output_type": "display_data",
     "data": {
      "application/vnd.plotly.v1+json": {
       "config": {
        "plotlyServerURL": "https://plot.ly"
       },
       "data": [
        {
         "alignmentgroup": "True",
         "hovertemplate": "algorithm=FirstFit<br>grid=%{x}<br>seats=%{y}<extra></extra>",
         "legendgroup": "FirstFit",
         "marker": {
          "color": "#636efa"
         },
         "name": "FirstFit",
         "offsetgroup": "FirstFit",
         "orientation": "v",
         "showlegend": true,
         "textposition": "auto",
         "type": "bar",
         "x": [
          "Online1",
          "Online10",
          "Online11",
          "Online12",
          "Online2",
          "Online3",
          "Online4",
          "Online5",
          "Online6",
          "Online7",
          "Online8",
          "Online9"
         ],
         "xaxis": "x",
         "y": [
          7,
          74,
          60,
          137,
          9,
          17,
          28,
          25,
          33,
          42,
          45,
          65
         ],
         "yaxis": "y"
        },
        {
         "alignmentgroup": "True",
         "hovertemplate": "algorithm=BestFit<br>grid=%{x}<br>seats=%{y}<extra></extra>",
         "legendgroup": "BestFit",
         "marker": {
          "color": "#EF553B"
         },
         "name": "BestFit",
         "offsetgroup": "BestFit",
         "orientation": "v",
         "showlegend": true,
         "textposition": "auto",
         "type": "bar",
         "x": [
          "Online1",
          "Online10",
          "Online11",
          "Online12",
          "Online2",
          "Online3",
          "Online4",
          "Online5",
          "Online6",
          "Online7",
          "Online8",
          "Online9"
         ],
         "xaxis": "x",
         "y": [
          7,
          72,
          61,
          137,
          9,
          17,
          28,
          25,
          34,
          42,
          48,
          66
         ],
         "yaxis": "y"
        },
        {
         "alignmentgroup": "True",
         "hovertemplate": "algorithm=WorstFit<br>grid=%{x}<br>seats=%{y}<extra></extra>",
         "legendgroup": "WorstFit",
         "marker": {
          "color": "#00cc96"
         },
         "name": "WorstFit",
         "offsetgroup": "WorstFit",
         "orientation": "v",
         "showlegend": true,
         "textposition": "auto",
         "type": "bar",
         "x": [
          "Online1",
          "Online10",
          "Online11",
          "Online12",
          "Online2",
          "Online3",
          "Online4",
          "Online5",
          "Online6",
          "Online7",
          "Online8",
          "Online9"
         ],
         "xaxis": "x",
         "y": [
          4,
          69,
          50,
          119,
          7,
          16,
          25,
          24,
          29,
          36,
          45,
          61
         ],
         "yaxis": "y"
        },
        {
         "alignmentgroup": "True",
         "hovertemplate": "algorithm=MinCovidChairs<br>grid=%{x}<br>seats=%{y}<extra></extra>",
         "legendgroup": "MinCovidChairs",
         "marker": {
          "color": "#ab63fa"
         },
         "name": "MinCovidChairs",
         "offsetgroup": "MinCovidChairs",
         "orientation": "v",
         "showlegend": true,
         "textposition": "auto",
         "type": "bar",
         "x": [
          "Online1",
          "Online10",
          "Online11",
          "Online12",
          "Online2",
          "Online3",
          "Online4",
          "Online5",
          "Online6",
          "Online7",
          "Online8",
          "Online9"
         ],
         "xaxis": "x",
         "y": [
          7,
          78,
          63,
          143,
          7,
          17,
          27,
          26,
          33,
          40,
          48,
          68
         ],
         "yaxis": "y"
        },
        {
         "alignmentgroup": "True",
         "hovertemplate": "algorithm=Hybrid_BF_CC<br>grid=%{x}<br>seats=%{y}<extra></extra>",
         "legendgroup": "Hybrid_BF_CC",
         "marker": {
          "color": "#FFA15A"
         },
         "name": "Hybrid_BF_CC",
         "offsetgroup": "Hybrid_BF_CC",
         "orientation": "v",
         "showlegend": true,
         "textposition": "auto",
         "type": "bar",
         "x": [
          "Online1",
          "Online10",
          "Online11",
          "Online12",
          "Online2",
          "Online3",
          "Online4",
          "Online5",
          "Online6",
          "Online7",
          "Online8",
          "Online9"
         ],
         "xaxis": "x",
         "y": [
          7,
          74,
          63,
          145,
          9,
          17,
          29,
          27,
          33,
          43,
          47,
          69
         ],
         "yaxis": "y"
        }
       ],
       "layout": {
        "barmode": "group",
        "legend": {
         "title": {
          "text": "algorithm"
         },
         "tracegroupgap": 0
        },
        "margin": {
         "t": 60
        },
        "template": {
         "data": {
          "bar": [
           {
            "error_x": {
             "color": "#2a3f5f"
            },
            "error_y": {
             "color": "#2a3f5f"
            },
            "marker": {
             "line": {
              "color": "#E5ECF6",
              "width": 0.5
             }
            },
            "type": "bar"
           }
          ],
          "barpolar": [
           {
            "marker": {
             "line": {
              "color": "#E5ECF6",
              "width": 0.5
             }
            },
            "type": "barpolar"
           }
          ],
          "carpet": [
           {
            "aaxis": {
             "endlinecolor": "#2a3f5f",
             "gridcolor": "white",
             "linecolor": "white",
             "minorgridcolor": "white",
             "startlinecolor": "#2a3f5f"
            },
            "baxis": {
             "endlinecolor": "#2a3f5f",
             "gridcolor": "white",
             "linecolor": "white",
             "minorgridcolor": "white",
             "startlinecolor": "#2a3f5f"
            },
            "type": "carpet"
           }
          ],
          "choropleth": [
           {
            "colorbar": {
             "outlinewidth": 0,
             "ticks": ""
            },
            "type": "choropleth"
           }
          ],
          "contour": [
           {
            "colorbar": {
             "outlinewidth": 0,
             "ticks": ""
            },
            "colorscale": [
             [
              0,
              "#0d0887"
             ],
             [
              0.1111111111111111,
              "#46039f"
             ],
             [
              0.2222222222222222,
              "#7201a8"
             ],
             [
              0.3333333333333333,
              "#9c179e"
             ],
             [
              0.4444444444444444,
              "#bd3786"
             ],
             [
              0.5555555555555556,
              "#d8576b"
             ],
             [
              0.6666666666666666,
              "#ed7953"
             ],
             [
              0.7777777777777778,
              "#fb9f3a"
             ],
             [
              0.8888888888888888,
              "#fdca26"
             ],
             [
              1,
              "#f0f921"
             ]
            ],
            "type": "contour"
           }
          ],
          "contourcarpet": [
           {
            "colorbar": {
             "outlinewidth": 0,
             "ticks": ""
            },
            "type": "contourcarpet"
           }
          ],
          "heatmap": [
           {
            "colorbar": {
             "outlinewidth": 0,
             "ticks": ""
            },
            "colorscale": [
             [
              0,
              "#0d0887"
             ],
             [
              0.1111111111111111,
              "#46039f"
             ],
             [
              0.2222222222222222,
              "#7201a8"
             ],
             [
              0.3333333333333333,
              "#9c179e"
             ],
             [
              0.4444444444444444,
              "#bd3786"
             ],
             [
              0.5555555555555556,
              "#d8576b"
             ],
             [
              0.6666666666666666,
              "#ed7953"
             ],
             [
              0.7777777777777778,
              "#fb9f3a"
             ],
             [
              0.8888888888888888,
              "#fdca26"
             ],
             [
              1,
              "#f0f921"
             ]
            ],
            "type": "heatmap"
           }
          ],
          "heatmapgl": [
           {
            "colorbar": {
             "outlinewidth": 0,
             "ticks": ""
            },
            "colorscale": [
             [
              0,
              "#0d0887"
             ],
             [
              0.1111111111111111,
              "#46039f"
             ],
             [
              0.2222222222222222,
              "#7201a8"
             ],
             [
              0.3333333333333333,
              "#9c179e"
             ],
             [
              0.4444444444444444,
              "#bd3786"
             ],
             [
              0.5555555555555556,
              "#d8576b"
             ],
             [
              0.6666666666666666,
              "#ed7953"
             ],
             [
              0.7777777777777778,
              "#fb9f3a"
             ],
             [
              0.8888888888888888,
              "#fdca26"
             ],
             [
              1,
              "#f0f921"
             ]
            ],
            "type": "heatmapgl"
           }
          ],
          "histogram": [
           {
            "marker": {
             "colorbar": {
              "outlinewidth": 0,
              "ticks": ""
             }
            },
            "type": "histogram"
           }
          ],
          "histogram2d": [
           {
            "colorbar": {
             "outlinewidth": 0,
             "ticks": ""
            },
            "colorscale": [
             [
              0,
              "#0d0887"
             ],
             [
              0.1111111111111111,
              "#46039f"
             ],
             [
              0.2222222222222222,
              "#7201a8"
             ],
             [
              0.3333333333333333,
              "#9c179e"
             ],
             [
              0.4444444444444444,
              "#bd3786"
             ],
             [
              0.5555555555555556,
              "#d8576b"
             ],
             [
              0.6666666666666666,
              "#ed7953"
             ],
             [
              0.7777777777777778,
              "#fb9f3a"
             ],
             [
              0.8888888888888888,
              "#fdca26"
             ],
             [
              1,
              "#f0f921"
             ]
            ],
            "type": "histogram2d"
           }
          ],
          "histogram2dcontour": [
           {
            "colorbar": {
             "outlinewidth": 0,
             "ticks": ""
            },
            "colorscale": [
             [
              0,
              "#0d0887"
             ],
             [
              0.1111111111111111,
              "#46039f"
             ],
             [
              0.2222222222222222,
              "#7201a8"
             ],
             [
              0.3333333333333333,
              "#9c179e"
             ],
             [
              0.4444444444444444,
              "#bd3786"
             ],
             [
              0.5555555555555556,
              "#d8576b"
             ],
             [
              0.6666666666666666,
              "#ed7953"
             ],
             [
              0.7777777777777778,
              "#fb9f3a"
             ],
             [
              0.8888888888888888,
              "#fdca26"
             ],
             [
              1,
              "#f0f921"
             ]
            ],
            "type": "histogram2dcontour"
           }
          ],
          "mesh3d": [
           {
            "colorbar": {
             "outlinewidth": 0,
             "ticks": ""
            },
            "type": "mesh3d"
           }
          ],
          "parcoords": [
           {
            "line": {
             "colorbar": {
              "outlinewidth": 0,
              "ticks": ""
             }
            },
            "type": "parcoords"
           }
          ],
          "pie": [
           {
            "automargin": true,
            "type": "pie"
           }
          ],
          "scatter": [
           {
            "marker": {
             "colorbar": {
              "outlinewidth": 0,
              "ticks": ""
             }
            },
            "type": "scatter"
           }
          ],
          "scatter3d": [
           {
            "line": {
             "colorbar": {
              "outlinewidth": 0,
              "ticks": ""
             }
            },
            "marker": {
             "colorbar": {
              "outlinewidth": 0,
              "ticks": ""
             }
            },
            "type": "scatter3d"
           }
          ],
          "scattercarpet": [
           {
            "marker": {
             "colorbar": {
              "outlinewidth": 0,
              "ticks": ""
             }
            },
            "type": "scattercarpet"
           }
          ],
          "scattergeo": [
           {
            "marker": {
             "colorbar": {
              "outlinewidth": 0,
              "ticks": ""
             }
            },
            "type": "scattergeo"
           }
          ],
          "scattergl": [
           {
            "marker": {
             "colorbar": {
              "outlinewidth": 0,
              "ticks": ""
             }
            },
            "type": "scattergl"
           }
          ],
          "scattermapbox": [
           {
            "marker": {
             "colorbar": {
              "outlinewidth": 0,
              "ticks": ""
             }
            },
            "type": "scattermapbox"
           }
          ],
          "scatterpolar": [
           {
            "marker": {
             "colorbar": {
              "outlinewidth": 0,
              "ticks": ""
             }
            },
            "type": "scatterpolar"
           }
          ],
          "scatterpolargl": [
           {
            "marker": {
             "colorbar": {
              "outlinewidth": 0,
              "ticks": ""
             }
            },
            "type": "scatterpolargl"
           }
          ],
          "scatterternary": [
           {
            "marker": {
             "colorbar": {
              "outlinewidth": 0,
              "ticks": ""
             }
            },
            "type": "scatterternary"
           }
          ],
          "surface": [
           {
            "colorbar": {
             "outlinewidth": 0,
             "ticks": ""
            },
            "colorscale": [
             [
              0,
              "#0d0887"
             ],
             [
              0.1111111111111111,
              "#46039f"
             ],
             [
              0.2222222222222222,
              "#7201a8"
             ],
             [
              0.3333333333333333,
              "#9c179e"
             ],
             [
              0.4444444444444444,
              "#bd3786"
             ],
             [
              0.5555555555555556,
              "#d8576b"
             ],
             [
              0.6666666666666666,
              "#ed7953"
             ],
             [
              0.7777777777777778,
              "#fb9f3a"
             ],
             [
              0.8888888888888888,
              "#fdca26"
             ],
             [
              1,
              "#f0f921"
             ]
            ],
            "type": "surface"
           }
          ],
          "table": [
           {
            "cells": {
             "fill": {
              "color": "#EBF0F8"
             },
             "line": {
              "color": "white"
             }
            },
            "header": {
             "fill": {
              "color": "#C8D4E3"
             },
             "line": {
              "color": "white"
             }
            },
            "type": "table"
           }
          ]
         },
         "layout": {
          "annotationdefaults": {
           "arrowcolor": "#2a3f5f",
           "arrowhead": 0,
           "arrowwidth": 1
          },
          "coloraxis": {
           "colorbar": {
            "outlinewidth": 0,
            "ticks": ""
           }
          },
          "colorscale": {
           "diverging": [
            [
             0,
             "#8e0152"
            ],
            [
             0.1,
             "#c51b7d"
            ],
            [
             0.2,
             "#de77ae"
            ],
            [
             0.3,
             "#f1b6da"
            ],
            [
             0.4,
             "#fde0ef"
            ],
            [
             0.5,
             "#f7f7f7"
            ],
            [
             0.6,
             "#e6f5d0"
            ],
            [
             0.7,
             "#b8e186"
            ],
            [
             0.8,
             "#7fbc41"
            ],
            [
             0.9,
             "#4d9221"
            ],
            [
             1,
             "#276419"
            ]
           ],
           "sequential": [
            [
             0,
             "#0d0887"
            ],
            [
             0.1111111111111111,
             "#46039f"
            ],
            [
             0.2222222222222222,
             "#7201a8"
            ],
            [
             0.3333333333333333,
             "#9c179e"
            ],
            [
             0.4444444444444444,
             "#bd3786"
            ],
            [
             0.5555555555555556,
             "#d8576b"
            ],
            [
             0.6666666666666666,
             "#ed7953"
            ],
            [
             0.7777777777777778,
             "#fb9f3a"
            ],
            [
             0.8888888888888888,
             "#fdca26"
            ],
            [
             1,
             "#f0f921"
            ]
           ],
           "sequentialminus": [
            [
             0,
             "#0d0887"
            ],
            [
             0.1111111111111111,
             "#46039f"
            ],
            [
             0.2222222222222222,
             "#7201a8"
            ],
            [
             0.3333333333333333,
             "#9c179e"
            ],
            [
             0.4444444444444444,
             "#bd3786"
            ],
            [
             0.5555555555555556,
             "#d8576b"
            ],
            [
             0.6666666666666666,
             "#ed7953"
            ],
            [
             0.7777777777777778,
             "#fb9f3a"
            ],
            [
             0.8888888888888888,
             "#fdca26"
            ],
            [
             1,
             "#f0f921"
            ]
           ]
          },
          "colorway": [
           "#636efa",
           "#EF553B",
           "#00cc96",
           "#ab63fa",
           "#FFA15A",
           "#19d3f3",
           "#FF6692",
           "#B6E880",
           "#FF97FF",
           "#FECB52"
          ],
          "font": {
           "color": "#2a3f5f"
          },
          "geo": {
           "bgcolor": "white",
           "lakecolor": "white",
           "landcolor": "#E5ECF6",
           "showlakes": true,
           "showland": true,
           "subunitcolor": "white"
          },
          "hoverlabel": {
           "align": "left"
          },
          "hovermode": "closest",
          "mapbox": {
           "style": "light"
          },
          "paper_bgcolor": "white",
          "plot_bgcolor": "#E5ECF6",
          "polar": {
           "angularaxis": {
            "gridcolor": "white",
            "linecolor": "white",
            "ticks": ""
           },
           "bgcolor": "#E5ECF6",
           "radialaxis": {
            "gridcolor": "white",
            "linecolor": "white",
            "ticks": ""
           }
          },
          "scene": {
           "xaxis": {
            "backgroundcolor": "#E5ECF6",
            "gridcolor": "white",
            "gridwidth": 2,
            "linecolor": "white",
            "showbackground": true,
            "ticks": "",
            "zerolinecolor": "white"
           },
           "yaxis": {
            "backgroundcolor": "#E5ECF6",
            "gridcolor": "white",
            "gridwidth": 2,
            "linecolor": "white",
            "showbackground": true,
            "ticks": "",
            "zerolinecolor": "white"
           },
           "zaxis": {
            "backgroundcolor": "#E5ECF6",
            "gridcolor": "white",
            "gridwidth": 2,
            "linecolor": "white",
            "showbackground": true,
            "ticks": "",
            "zerolinecolor": "white"
           }
          },
          "shapedefaults": {
           "line": {
            "color": "#2a3f5f"
           }
          },
          "ternary": {
           "aaxis": {
            "gridcolor": "white",
            "linecolor": "white",
            "ticks": ""
           },
           "baxis": {
            "gridcolor": "white",
            "linecolor": "white",
            "ticks": ""
           },
           "bgcolor": "#E5ECF6",
           "caxis": {
            "gridcolor": "white",
            "linecolor": "white",
            "ticks": ""
           }
          },
          "title": {
           "x": 0.05
          },
          "xaxis": {
           "automargin": true,
           "gridcolor": "white",
           "linecolor": "white",
           "ticks": "",
           "title": {
            "standoff": 15
           },
           "zerolinecolor": "white",
           "zerolinewidth": 2
          },
          "yaxis": {
           "automargin": true,
           "gridcolor": "white",
           "linecolor": "white",
           "ticks": "",
           "title": {
            "standoff": 15
           },
           "zerolinecolor": "white",
           "zerolinewidth": 2
          }
         }
        },
        "xaxis": {
         "anchor": "y",
         "domain": [
          0,
          1
         ],
         "title": {
          "text": "grid"
         }
        },
        "yaxis": {
         "anchor": "x",
         "domain": [
          0,
          1
         ],
         "title": {
          "text": "seats"
         }
        }
       }
      }
     },
     "metadata": {}
    }
   ],
   "source": [
    "df_sim_max = df_sim.groupby(['grid']).max().reset_index().melt(id_vars='grid', value_name='seats', var_name='algorithm')\n",
    "px.bar(df_sim_max, x='grid', color='algorithm', y='seats', barmode='group').show()"
   ]
  },
  {
   "source": [
    "### Ranking of algorithm in respect to each other per grid?"
   ],
   "cell_type": "markdown",
   "metadata": {}
  },
  {
   "source": [
    "# For each grid - group_sequence combination, rank the algorithms in respect to each other\n",
    "df_sim.index.names = ['group_sequence', 'grid']\n",
    "df_ranking = df_sim.reset_index().melt(id_vars=['group_sequence','grid'], value_name='seats', var_name='algorithm').sort_values(['grid', 'group_sequence'])\n",
    "rank = df_ranking.groupby(['grid', 'group_sequence'])\n",
    "rank = rank['seats'].rank(method='min', ascending=False)\n",
    "df_ranking['rank'] = rank\n",
    "df_ranking"
   ],
   "cell_type": "code",
   "metadata": {},
   "execution_count": 51,
   "outputs": [
    {
     "output_type": "execute_result",
     "data": {
      "text/plain": "     group_sequence     grid       algorithm  seats  rank\n0                 1  Online1        FirstFit      5   1.0\n120               1  Online1         BestFit      5   1.0\n240               1  Online1        WorstFit      5   1.0\n360               1  Online1  MinCovidChairs      5   1.0\n480               1  Online1    Hybrid_BF_CC      5   1.0\n..              ...      ...             ...    ...   ...\n119              10  Online9        FirstFit     66   2.0\n239              10  Online9         BestFit     64   3.0\n359              10  Online9        WorstFit     60   5.0\n479              10  Online9  MinCovidChairs     68   1.0\n599              10  Online9    Hybrid_BF_CC     63   4.0\n\n[600 rows x 5 columns]",
      "text/html": "<div>\n<style scoped>\n    .dataframe tbody tr th:only-of-type {\n        vertical-align: middle;\n    }\n\n    .dataframe tbody tr th {\n        vertical-align: top;\n    }\n\n    .dataframe thead th {\n        text-align: right;\n    }\n</style>\n<table border=\"1\" class=\"dataframe\">\n  <thead>\n    <tr style=\"text-align: right;\">\n      <th></th>\n      <th>group_sequence</th>\n      <th>grid</th>\n      <th>algorithm</th>\n      <th>seats</th>\n      <th>rank</th>\n    </tr>\n  </thead>\n  <tbody>\n    <tr>\n      <th>0</th>\n      <td>1</td>\n      <td>Online1</td>\n      <td>FirstFit</td>\n      <td>5</td>\n      <td>1.0</td>\n    </tr>\n    <tr>\n      <th>120</th>\n      <td>1</td>\n      <td>Online1</td>\n      <td>BestFit</td>\n      <td>5</td>\n      <td>1.0</td>\n    </tr>\n    <tr>\n      <th>240</th>\n      <td>1</td>\n      <td>Online1</td>\n      <td>WorstFit</td>\n      <td>5</td>\n      <td>1.0</td>\n    </tr>\n    <tr>\n      <th>360</th>\n      <td>1</td>\n      <td>Online1</td>\n      <td>MinCovidChairs</td>\n      <td>5</td>\n      <td>1.0</td>\n    </tr>\n    <tr>\n      <th>480</th>\n      <td>1</td>\n      <td>Online1</td>\n      <td>Hybrid_BF_CC</td>\n      <td>5</td>\n      <td>1.0</td>\n    </tr>\n    <tr>\n      <th>...</th>\n      <td>...</td>\n      <td>...</td>\n      <td>...</td>\n      <td>...</td>\n      <td>...</td>\n    </tr>\n    <tr>\n      <th>119</th>\n      <td>10</td>\n      <td>Online9</td>\n      <td>FirstFit</td>\n      <td>66</td>\n      <td>2.0</td>\n    </tr>\n    <tr>\n      <th>239</th>\n      <td>10</td>\n      <td>Online9</td>\n      <td>BestFit</td>\n      <td>64</td>\n      <td>3.0</td>\n    </tr>\n    <tr>\n      <th>359</th>\n      <td>10</td>\n      <td>Online9</td>\n      <td>WorstFit</td>\n      <td>60</td>\n      <td>5.0</td>\n    </tr>\n    <tr>\n      <th>479</th>\n      <td>10</td>\n      <td>Online9</td>\n      <td>MinCovidChairs</td>\n      <td>68</td>\n      <td>1.0</td>\n    </tr>\n    <tr>\n      <th>599</th>\n      <td>10</td>\n      <td>Online9</td>\n      <td>Hybrid_BF_CC</td>\n      <td>63</td>\n      <td>4.0</td>\n    </tr>\n  </tbody>\n</table>\n<p>600 rows × 5 columns</p>\n</div>"
     },
     "metadata": {},
     "execution_count": 51
    }
   ]
  },
  {
   "cell_type": "code",
   "execution_count": 52,
   "metadata": {},
   "outputs": [
    {
     "output_type": "execute_result",
     "data": {
      "text/plain": "        grid       algorithm  0  1  2  3  4  5\n0    Online1        FirstFit  0  0  0  0  0  0\n1    Online1         BestFit  0  0  0  0  0  0\n2    Online1        WorstFit  0  0  0  0  0  0\n3    Online1  MinCovidChairs  0  0  0  0  0  0\n4    Online1    Hybrid_BF_CC  0  0  0  0  0  0\n5   Online10        FirstFit  0  0  0  0  0  0\n6   Online10         BestFit  0  0  0  0  0  0\n7   Online10        WorstFit  0  0  0  0  0  0\n8   Online10  MinCovidChairs  0  0  0  0  0  0\n9   Online10    Hybrid_BF_CC  0  0  0  0  0  0\n10  Online11        FirstFit  0  0  0  0  0  0\n11  Online11         BestFit  0  0  0  0  0  0\n12  Online11        WorstFit  0  0  0  0  0  0\n13  Online11  MinCovidChairs  0  0  0  0  0  0\n14  Online11    Hybrid_BF_CC  0  0  0  0  0  0\n15  Online12        FirstFit  0  0  0  0  0  0\n16  Online12         BestFit  0  0  0  0  0  0\n17  Online12        WorstFit  0  0  0  0  0  0\n18  Online12  MinCovidChairs  0  0  0  0  0  0\n19  Online12    Hybrid_BF_CC  0  0  0  0  0  0\n20   Online2        FirstFit  0  0  0  0  0  0\n21   Online2         BestFit  0  0  0  0  0  0\n22   Online2        WorstFit  0  0  0  0  0  0\n23   Online2  MinCovidChairs  0  0  0  0  0  0\n24   Online2    Hybrid_BF_CC  0  0  0  0  0  0\n25   Online3        FirstFit  0  0  0  0  0  0\n26   Online3         BestFit  0  0  0  0  0  0\n27   Online3        WorstFit  0  0  0  0  0  0\n28   Online3  MinCovidChairs  0  0  0  0  0  0\n29   Online3    Hybrid_BF_CC  0  0  0  0  0  0\n30   Online4        FirstFit  0  0  0  0  0  0\n31   Online4         BestFit  0  0  0  0  0  0\n32   Online4        WorstFit  0  0  0  0  0  0\n33   Online4  MinCovidChairs  0  0  0  0  0  0\n34   Online4    Hybrid_BF_CC  0  0  0  0  0  0\n35   Online5        FirstFit  0  0  0  0  0  0\n36   Online5         BestFit  0  0  0  0  0  0\n37   Online5        WorstFit  0  0  0  0  0  0\n38   Online5  MinCovidChairs  0  0  0  0  0  0\n39   Online5    Hybrid_BF_CC  0  0  0  0  0  0\n40   Online6        FirstFit  0  0  0  0  0  0\n41   Online6         BestFit  0  0  0  0  0  0\n42   Online6        WorstFit  0  0  0  0  0  0\n43   Online6  MinCovidChairs  0  0  0  0  0  0\n44   Online6    Hybrid_BF_CC  0  0  0  0  0  0\n45   Online7        FirstFit  0  0  0  0  0  0\n46   Online7         BestFit  0  0  0  0  0  0\n47   Online7        WorstFit  0  0  0  0  0  0\n48   Online7  MinCovidChairs  0  0  0  0  0  0\n49   Online7    Hybrid_BF_CC  0  0  0  0  0  0\n50   Online8        FirstFit  0  0  0  0  0  0\n51   Online8         BestFit  0  0  0  0  0  0\n52   Online8        WorstFit  0  0  0  0  0  0\n53   Online8  MinCovidChairs  0  0  0  0  0  0\n54   Online8    Hybrid_BF_CC  0  0  0  0  0  0\n55   Online9        FirstFit  0  0  0  0  0  0\n56   Online9         BestFit  0  0  0  0  0  0\n57   Online9        WorstFit  0  0  0  0  0  0\n58   Online9  MinCovidChairs  0  0  0  0  0  0\n59   Online9    Hybrid_BF_CC  0  0  0  0  0  0",
      "text/html": "<div>\n<style scoped>\n    .dataframe tbody tr th:only-of-type {\n        vertical-align: middle;\n    }\n\n    .dataframe tbody tr th {\n        vertical-align: top;\n    }\n\n    .dataframe thead th {\n        text-align: right;\n    }\n</style>\n<table border=\"1\" class=\"dataframe\">\n  <thead>\n    <tr style=\"text-align: right;\">\n      <th></th>\n      <th>grid</th>\n      <th>algorithm</th>\n      <th>0</th>\n      <th>1</th>\n      <th>2</th>\n      <th>3</th>\n      <th>4</th>\n      <th>5</th>\n    </tr>\n  </thead>\n  <tbody>\n    <tr>\n      <th>0</th>\n      <td>Online1</td>\n      <td>FirstFit</td>\n      <td>0</td>\n      <td>0</td>\n      <td>0</td>\n      <td>0</td>\n      <td>0</td>\n      <td>0</td>\n    </tr>\n    <tr>\n      <th>1</th>\n      <td>Online1</td>\n      <td>BestFit</td>\n      <td>0</td>\n      <td>0</td>\n      <td>0</td>\n      <td>0</td>\n      <td>0</td>\n      <td>0</td>\n    </tr>\n    <tr>\n      <th>2</th>\n      <td>Online1</td>\n      <td>WorstFit</td>\n      <td>0</td>\n      <td>0</td>\n      <td>0</td>\n      <td>0</td>\n      <td>0</td>\n      <td>0</td>\n    </tr>\n    <tr>\n      <th>3</th>\n      <td>Online1</td>\n      <td>MinCovidChairs</td>\n      <td>0</td>\n      <td>0</td>\n      <td>0</td>\n      <td>0</td>\n      <td>0</td>\n      <td>0</td>\n    </tr>\n    <tr>\n      <th>4</th>\n      <td>Online1</td>\n      <td>Hybrid_BF_CC</td>\n      <td>0</td>\n      <td>0</td>\n      <td>0</td>\n      <td>0</td>\n      <td>0</td>\n      <td>0</td>\n    </tr>\n    <tr>\n      <th>5</th>\n      <td>Online10</td>\n      <td>FirstFit</td>\n      <td>0</td>\n      <td>0</td>\n      <td>0</td>\n      <td>0</td>\n      <td>0</td>\n      <td>0</td>\n    </tr>\n    <tr>\n      <th>6</th>\n      <td>Online10</td>\n      <td>BestFit</td>\n      <td>0</td>\n      <td>0</td>\n      <td>0</td>\n      <td>0</td>\n      <td>0</td>\n      <td>0</td>\n    </tr>\n    <tr>\n      <th>7</th>\n      <td>Online10</td>\n      <td>WorstFit</td>\n      <td>0</td>\n      <td>0</td>\n      <td>0</td>\n      <td>0</td>\n      <td>0</td>\n      <td>0</td>\n    </tr>\n    <tr>\n      <th>8</th>\n      <td>Online10</td>\n      <td>MinCovidChairs</td>\n      <td>0</td>\n      <td>0</td>\n      <td>0</td>\n      <td>0</td>\n      <td>0</td>\n      <td>0</td>\n    </tr>\n    <tr>\n      <th>9</th>\n      <td>Online10</td>\n      <td>Hybrid_BF_CC</td>\n      <td>0</td>\n      <td>0</td>\n      <td>0</td>\n      <td>0</td>\n      <td>0</td>\n      <td>0</td>\n    </tr>\n    <tr>\n      <th>10</th>\n      <td>Online11</td>\n      <td>FirstFit</td>\n      <td>0</td>\n      <td>0</td>\n      <td>0</td>\n      <td>0</td>\n      <td>0</td>\n      <td>0</td>\n    </tr>\n    <tr>\n      <th>11</th>\n      <td>Online11</td>\n      <td>BestFit</td>\n      <td>0</td>\n      <td>0</td>\n      <td>0</td>\n      <td>0</td>\n      <td>0</td>\n      <td>0</td>\n    </tr>\n    <tr>\n      <th>12</th>\n      <td>Online11</td>\n      <td>WorstFit</td>\n      <td>0</td>\n      <td>0</td>\n      <td>0</td>\n      <td>0</td>\n      <td>0</td>\n      <td>0</td>\n    </tr>\n    <tr>\n      <th>13</th>\n      <td>Online11</td>\n      <td>MinCovidChairs</td>\n      <td>0</td>\n      <td>0</td>\n      <td>0</td>\n      <td>0</td>\n      <td>0</td>\n      <td>0</td>\n    </tr>\n    <tr>\n      <th>14</th>\n      <td>Online11</td>\n      <td>Hybrid_BF_CC</td>\n      <td>0</td>\n      <td>0</td>\n      <td>0</td>\n      <td>0</td>\n      <td>0</td>\n      <td>0</td>\n    </tr>\n    <tr>\n      <th>15</th>\n      <td>Online12</td>\n      <td>FirstFit</td>\n      <td>0</td>\n      <td>0</td>\n      <td>0</td>\n      <td>0</td>\n      <td>0</td>\n      <td>0</td>\n    </tr>\n    <tr>\n      <th>16</th>\n      <td>Online12</td>\n      <td>BestFit</td>\n      <td>0</td>\n      <td>0</td>\n      <td>0</td>\n      <td>0</td>\n      <td>0</td>\n      <td>0</td>\n    </tr>\n    <tr>\n      <th>17</th>\n      <td>Online12</td>\n      <td>WorstFit</td>\n      <td>0</td>\n      <td>0</td>\n      <td>0</td>\n      <td>0</td>\n      <td>0</td>\n      <td>0</td>\n    </tr>\n    <tr>\n      <th>18</th>\n      <td>Online12</td>\n      <td>MinCovidChairs</td>\n      <td>0</td>\n      <td>0</td>\n      <td>0</td>\n      <td>0</td>\n      <td>0</td>\n      <td>0</td>\n    </tr>\n    <tr>\n      <th>19</th>\n      <td>Online12</td>\n      <td>Hybrid_BF_CC</td>\n      <td>0</td>\n      <td>0</td>\n      <td>0</td>\n      <td>0</td>\n      <td>0</td>\n      <td>0</td>\n    </tr>\n    <tr>\n      <th>20</th>\n      <td>Online2</td>\n      <td>FirstFit</td>\n      <td>0</td>\n      <td>0</td>\n      <td>0</td>\n      <td>0</td>\n      <td>0</td>\n      <td>0</td>\n    </tr>\n    <tr>\n      <th>21</th>\n      <td>Online2</td>\n      <td>BestFit</td>\n      <td>0</td>\n      <td>0</td>\n      <td>0</td>\n      <td>0</td>\n      <td>0</td>\n      <td>0</td>\n    </tr>\n    <tr>\n      <th>22</th>\n      <td>Online2</td>\n      <td>WorstFit</td>\n      <td>0</td>\n      <td>0</td>\n      <td>0</td>\n      <td>0</td>\n      <td>0</td>\n      <td>0</td>\n    </tr>\n    <tr>\n      <th>23</th>\n      <td>Online2</td>\n      <td>MinCovidChairs</td>\n      <td>0</td>\n      <td>0</td>\n      <td>0</td>\n      <td>0</td>\n      <td>0</td>\n      <td>0</td>\n    </tr>\n    <tr>\n      <th>24</th>\n      <td>Online2</td>\n      <td>Hybrid_BF_CC</td>\n      <td>0</td>\n      <td>0</td>\n      <td>0</td>\n      <td>0</td>\n      <td>0</td>\n      <td>0</td>\n    </tr>\n    <tr>\n      <th>25</th>\n      <td>Online3</td>\n      <td>FirstFit</td>\n      <td>0</td>\n      <td>0</td>\n      <td>0</td>\n      <td>0</td>\n      <td>0</td>\n      <td>0</td>\n    </tr>\n    <tr>\n      <th>26</th>\n      <td>Online3</td>\n      <td>BestFit</td>\n      <td>0</td>\n      <td>0</td>\n      <td>0</td>\n      <td>0</td>\n      <td>0</td>\n      <td>0</td>\n    </tr>\n    <tr>\n      <th>27</th>\n      <td>Online3</td>\n      <td>WorstFit</td>\n      <td>0</td>\n      <td>0</td>\n      <td>0</td>\n      <td>0</td>\n      <td>0</td>\n      <td>0</td>\n    </tr>\n    <tr>\n      <th>28</th>\n      <td>Online3</td>\n      <td>MinCovidChairs</td>\n      <td>0</td>\n      <td>0</td>\n      <td>0</td>\n      <td>0</td>\n      <td>0</td>\n      <td>0</td>\n    </tr>\n    <tr>\n      <th>29</th>\n      <td>Online3</td>\n      <td>Hybrid_BF_CC</td>\n      <td>0</td>\n      <td>0</td>\n      <td>0</td>\n      <td>0</td>\n      <td>0</td>\n      <td>0</td>\n    </tr>\n    <tr>\n      <th>30</th>\n      <td>Online4</td>\n      <td>FirstFit</td>\n      <td>0</td>\n      <td>0</td>\n      <td>0</td>\n      <td>0</td>\n      <td>0</td>\n      <td>0</td>\n    </tr>\n    <tr>\n      <th>31</th>\n      <td>Online4</td>\n      <td>BestFit</td>\n      <td>0</td>\n      <td>0</td>\n      <td>0</td>\n      <td>0</td>\n      <td>0</td>\n      <td>0</td>\n    </tr>\n    <tr>\n      <th>32</th>\n      <td>Online4</td>\n      <td>WorstFit</td>\n      <td>0</td>\n      <td>0</td>\n      <td>0</td>\n      <td>0</td>\n      <td>0</td>\n      <td>0</td>\n    </tr>\n    <tr>\n      <th>33</th>\n      <td>Online4</td>\n      <td>MinCovidChairs</td>\n      <td>0</td>\n      <td>0</td>\n      <td>0</td>\n      <td>0</td>\n      <td>0</td>\n      <td>0</td>\n    </tr>\n    <tr>\n      <th>34</th>\n      <td>Online4</td>\n      <td>Hybrid_BF_CC</td>\n      <td>0</td>\n      <td>0</td>\n      <td>0</td>\n      <td>0</td>\n      <td>0</td>\n      <td>0</td>\n    </tr>\n    <tr>\n      <th>35</th>\n      <td>Online5</td>\n      <td>FirstFit</td>\n      <td>0</td>\n      <td>0</td>\n      <td>0</td>\n      <td>0</td>\n      <td>0</td>\n      <td>0</td>\n    </tr>\n    <tr>\n      <th>36</th>\n      <td>Online5</td>\n      <td>BestFit</td>\n      <td>0</td>\n      <td>0</td>\n      <td>0</td>\n      <td>0</td>\n      <td>0</td>\n      <td>0</td>\n    </tr>\n    <tr>\n      <th>37</th>\n      <td>Online5</td>\n      <td>WorstFit</td>\n      <td>0</td>\n      <td>0</td>\n      <td>0</td>\n      <td>0</td>\n      <td>0</td>\n      <td>0</td>\n    </tr>\n    <tr>\n      <th>38</th>\n      <td>Online5</td>\n      <td>MinCovidChairs</td>\n      <td>0</td>\n      <td>0</td>\n      <td>0</td>\n      <td>0</td>\n      <td>0</td>\n      <td>0</td>\n    </tr>\n    <tr>\n      <th>39</th>\n      <td>Online5</td>\n      <td>Hybrid_BF_CC</td>\n      <td>0</td>\n      <td>0</td>\n      <td>0</td>\n      <td>0</td>\n      <td>0</td>\n      <td>0</td>\n    </tr>\n    <tr>\n      <th>40</th>\n      <td>Online6</td>\n      <td>FirstFit</td>\n      <td>0</td>\n      <td>0</td>\n      <td>0</td>\n      <td>0</td>\n      <td>0</td>\n      <td>0</td>\n    </tr>\n    <tr>\n      <th>41</th>\n      <td>Online6</td>\n      <td>BestFit</td>\n      <td>0</td>\n      <td>0</td>\n      <td>0</td>\n      <td>0</td>\n      <td>0</td>\n      <td>0</td>\n    </tr>\n    <tr>\n      <th>42</th>\n      <td>Online6</td>\n      <td>WorstFit</td>\n      <td>0</td>\n      <td>0</td>\n      <td>0</td>\n      <td>0</td>\n      <td>0</td>\n      <td>0</td>\n    </tr>\n    <tr>\n      <th>43</th>\n      <td>Online6</td>\n      <td>MinCovidChairs</td>\n      <td>0</td>\n      <td>0</td>\n      <td>0</td>\n      <td>0</td>\n      <td>0</td>\n      <td>0</td>\n    </tr>\n    <tr>\n      <th>44</th>\n      <td>Online6</td>\n      <td>Hybrid_BF_CC</td>\n      <td>0</td>\n      <td>0</td>\n      <td>0</td>\n      <td>0</td>\n      <td>0</td>\n      <td>0</td>\n    </tr>\n    <tr>\n      <th>45</th>\n      <td>Online7</td>\n      <td>FirstFit</td>\n      <td>0</td>\n      <td>0</td>\n      <td>0</td>\n      <td>0</td>\n      <td>0</td>\n      <td>0</td>\n    </tr>\n    <tr>\n      <th>46</th>\n      <td>Online7</td>\n      <td>BestFit</td>\n      <td>0</td>\n      <td>0</td>\n      <td>0</td>\n      <td>0</td>\n      <td>0</td>\n      <td>0</td>\n    </tr>\n    <tr>\n      <th>47</th>\n      <td>Online7</td>\n      <td>WorstFit</td>\n      <td>0</td>\n      <td>0</td>\n      <td>0</td>\n      <td>0</td>\n      <td>0</td>\n      <td>0</td>\n    </tr>\n    <tr>\n      <th>48</th>\n      <td>Online7</td>\n      <td>MinCovidChairs</td>\n      <td>0</td>\n      <td>0</td>\n      <td>0</td>\n      <td>0</td>\n      <td>0</td>\n      <td>0</td>\n    </tr>\n    <tr>\n      <th>49</th>\n      <td>Online7</td>\n      <td>Hybrid_BF_CC</td>\n      <td>0</td>\n      <td>0</td>\n      <td>0</td>\n      <td>0</td>\n      <td>0</td>\n      <td>0</td>\n    </tr>\n    <tr>\n      <th>50</th>\n      <td>Online8</td>\n      <td>FirstFit</td>\n      <td>0</td>\n      <td>0</td>\n      <td>0</td>\n      <td>0</td>\n      <td>0</td>\n      <td>0</td>\n    </tr>\n    <tr>\n      <th>51</th>\n      <td>Online8</td>\n      <td>BestFit</td>\n      <td>0</td>\n      <td>0</td>\n      <td>0</td>\n      <td>0</td>\n      <td>0</td>\n      <td>0</td>\n    </tr>\n    <tr>\n      <th>52</th>\n      <td>Online8</td>\n      <td>WorstFit</td>\n      <td>0</td>\n      <td>0</td>\n      <td>0</td>\n      <td>0</td>\n      <td>0</td>\n      <td>0</td>\n    </tr>\n    <tr>\n      <th>53</th>\n      <td>Online8</td>\n      <td>MinCovidChairs</td>\n      <td>0</td>\n      <td>0</td>\n      <td>0</td>\n      <td>0</td>\n      <td>0</td>\n      <td>0</td>\n    </tr>\n    <tr>\n      <th>54</th>\n      <td>Online8</td>\n      <td>Hybrid_BF_CC</td>\n      <td>0</td>\n      <td>0</td>\n      <td>0</td>\n      <td>0</td>\n      <td>0</td>\n      <td>0</td>\n    </tr>\n    <tr>\n      <th>55</th>\n      <td>Online9</td>\n      <td>FirstFit</td>\n      <td>0</td>\n      <td>0</td>\n      <td>0</td>\n      <td>0</td>\n      <td>0</td>\n      <td>0</td>\n    </tr>\n    <tr>\n      <th>56</th>\n      <td>Online9</td>\n      <td>BestFit</td>\n      <td>0</td>\n      <td>0</td>\n      <td>0</td>\n      <td>0</td>\n      <td>0</td>\n      <td>0</td>\n    </tr>\n    <tr>\n      <th>57</th>\n      <td>Online9</td>\n      <td>WorstFit</td>\n      <td>0</td>\n      <td>0</td>\n      <td>0</td>\n      <td>0</td>\n      <td>0</td>\n      <td>0</td>\n    </tr>\n    <tr>\n      <th>58</th>\n      <td>Online9</td>\n      <td>MinCovidChairs</td>\n      <td>0</td>\n      <td>0</td>\n      <td>0</td>\n      <td>0</td>\n      <td>0</td>\n      <td>0</td>\n    </tr>\n    <tr>\n      <th>59</th>\n      <td>Online9</td>\n      <td>Hybrid_BF_CC</td>\n      <td>0</td>\n      <td>0</td>\n      <td>0</td>\n      <td>0</td>\n      <td>0</td>\n      <td>0</td>\n    </tr>\n  </tbody>\n</table>\n</div>"
     },
     "metadata": {},
     "execution_count": 52
    }
   ],
   "source": [
    "# initialize scoreboard dataframe\n",
    "df_ranking_result = pd.DataFrame(\n",
    "    list(itertools.product(\n",
    "        df_ranking['grid'].unique(), df_ranking['algorithm'].unique()\n",
    "        ))\n",
    "        ,columns=['grid', 'algorithm']).assign(**{'0':0,'1':0,'2':0,'3':0,'4':0,'5':0})\n",
    "df_ranking_result"
   ]
  }
 ]
}