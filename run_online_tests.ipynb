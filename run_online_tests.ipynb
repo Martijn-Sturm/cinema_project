{
 "metadata": {
  "language_info": {
   "codemirror_mode": {
    "name": "ipython",
    "version": 3
   },
   "file_extension": ".py",
   "mimetype": "text/x-python",
   "name": "python",
   "nbconvert_exporter": "python",
   "pygments_lexer": "ipython3",
   "version": "3.8.3-final"
  },
  "orig_nbformat": 2,
  "kernelspec": {
   "name": "Python 3.8.3 64-bit ('cinema_project': conda)",
   "display_name": "Python 3.8.3 64-bit ('cinema_project': conda)",
   "metadata": {
    "interpreter": {
     "hash": "429a913d07243cd84000faa6ee2d4e904d5fb3f67e0f2497a7ba0e43e83bfe39"
    }
   }
  }
 },
 "nbformat": 4,
 "nbformat_minor": 2,
 "cells": [
  {
   "source": [
    "# Title"
   ],
   "cell_type": "markdown",
   "metadata": {}
  },
  {
   "cell_type": "code",
   "execution_count": 1,
   "metadata": {
    "tags": []
   },
   "outputs": [],
   "source": [
    "from utils.test_file import generate_group_sequence\n",
    "from algorithms.online import FirstFit, BestFit, WorstFit, MinCovidChairs, Hybrid_BF_CC\n",
    "import pandas as pd\n",
    "from online_batch import run_algorithm_with_original_groups, repeat_algorithm_with_different_groups, get_file_names"
   ]
  },
  {
   "source": [
    "## Set variables\n",
    "\n",
    "We need to define:\n",
    "\n",
    "* which files (=grids) we are going to run\n",
    "* how many random groups we gonna test per grids\n",
    "* the number of groups\n",
    "* which algorithms"
   ],
   "cell_type": "markdown",
   "metadata": {}
  },
  {
   "cell_type": "code",
   "execution_count": 2,
   "metadata": {},
   "outputs": [],
   "source": [
    "FILE_DIR = \"input/online\"\n",
    "# 100 different group sequences from each 50 groups long\n",
    "GROUPS_LIST = [generate_group_sequence(50) for i in range(10)]\n",
    "ALGORITHMS = [FirstFit, BestFit, WorstFit, MinCovidChairs, Hybrid_BF_CC]"
   ]
  },
  {
   "source": [
    "Gather all the files that we want to run on."
   ],
   "cell_type": "markdown",
   "metadata": {}
  },
  {
   "cell_type": "code",
   "execution_count": 3,
   "metadata": {},
   "outputs": [],
   "source": [
    "file_names = get_file_names(FILE_DIR)"
   ]
  },
  {
   "source": [
    "Run the algorithms and gather the results in a dataframe"
   ],
   "cell_type": "markdown",
   "metadata": {}
  },
  {
   "cell_type": "code",
   "execution_count": 4,
   "metadata": {
    "tags": []
   },
   "outputs": [],
   "source": [
    "%%capture\n",
    "result = {}\n",
    "for file in file_names:\n",
    "    grid_path = f\"{FILE_DIR}/{file}\"\n",
    "\n",
    "    grid_result = {}\n",
    "    for algorithm in ALGORITHMS:\n",
    "        alg_filled_chairs = []\n",
    "        alg_filled_chairs.append(run_algorithm_with_original_groups(algorithm, grid_path))\n",
    "        alg_filled_chairs = alg_filled_chairs + repeat_algorithm_with_different_groups(algorithm, grid_path, GROUPS_LIST)\n",
    "        alg_name = str(algorithm.__name__)\n",
    "        grid_result.update({alg_name: alg_filled_chairs})\n",
    "    \n",
    "    result.update({file: grid_result})\n"
   ]
  },
  {
   "cell_type": "code",
   "execution_count": 5,
   "metadata": {
    "tags": []
   },
   "outputs": [
    {
     "output_type": "stream",
     "name": "stdout",
     "text": "The following grids were solved:\ndict_keys([&#39;Online1.txt&#39;, &#39;Online10.txt&#39;, &#39;Online11.txt&#39;, &#39;Online12.txt&#39;, &#39;Online2.txt&#39;, &#39;Online3.txt&#39;, &#39;Online4.txt&#39;, &#39;Online5.txt&#39;, &#39;Online6.txt&#39;, &#39;Online7.txt&#39;, &#39;Online8.txt&#39;, &#39;Online9.txt&#39;])\n"
    }
   ],
   "source": [
    "print(\"The following grids were solved:\")    \n",
    "print(result.keys())"
   ]
  },
  {
   "source": [
    "Put everything in a dataframe:"
   ],
   "cell_type": "markdown",
   "metadata": {}
  },
  {
   "cell_type": "code",
   "execution_count": 6,
   "metadata": {},
   "outputs": [],
   "source": [
    "df_list = []\n",
    "for grid, algs in result.items():\n",
    "    alg_series = []\n",
    "    for alg, value_list in algs.items():\n",
    "        alg_series.append(pd.Series(value_list, name=alg))\n",
    "    df = pd.DataFrame(alg_series).transpose()\n",
    "    df = df.assign(grid=grid).set_index('grid', append=True, drop=True)\n",
    "    df_list.append(df)\n",
    "df = pd.concat(df_list)"
   ]
  },
  {
   "source": [
    "Let's extract the records with the original groups from the input grid files, and put it in a seperate dataframe"
   ],
   "cell_type": "markdown",
   "metadata": {}
  },
  {
   "cell_type": "code",
   "execution_count": 7,
   "metadata": {},
   "outputs": [
    {
     "output_type": "execute_result",
     "data": {
      "text/plain": "              FirstFit  BestFit  WorstFit  MinCovidChairs  Hybrid_BF_CC\ngrid                                                                   \nOnline1.txt          5        5         5               5             5\nOnline10.txt        74       67        73              79            67\nOnline11.txt        45       52        39              52            52\nOnline12.txt       144      147       120             141           146\nOnline2.txt          9        9         5               5             9\nOnline3.txt         15       11        13              15            15\nOnline4.txt         12       12        12              16            16\nOnline5.txt         22       26        22              22            26\nOnline6.txt         29       29        27              33            34\nOnline7.txt         41       41        31              34            41\nOnline8.txt         38       36        38              40            36\nOnline9.txt         69       64        61              69            64",
      "text/html": "<div>\n<style scoped>\n    .dataframe tbody tr th:only-of-type {\n        vertical-align: middle;\n    }\n\n    .dataframe tbody tr th {\n        vertical-align: top;\n    }\n\n    .dataframe thead th {\n        text-align: right;\n    }\n</style>\n<table border=\"1\" class=\"dataframe\">\n  <thead>\n    <tr style=\"text-align: right;\">\n      <th></th>\n      <th>FirstFit</th>\n      <th>BestFit</th>\n      <th>WorstFit</th>\n      <th>MinCovidChairs</th>\n      <th>Hybrid_BF_CC</th>\n    </tr>\n    <tr>\n      <th>grid</th>\n      <th></th>\n      <th></th>\n      <th></th>\n      <th></th>\n      <th></th>\n    </tr>\n  </thead>\n  <tbody>\n    <tr>\n      <th>Online1.txt</th>\n      <td>5</td>\n      <td>5</td>\n      <td>5</td>\n      <td>5</td>\n      <td>5</td>\n    </tr>\n    <tr>\n      <th>Online10.txt</th>\n      <td>74</td>\n      <td>67</td>\n      <td>73</td>\n      <td>79</td>\n      <td>67</td>\n    </tr>\n    <tr>\n      <th>Online11.txt</th>\n      <td>45</td>\n      <td>52</td>\n      <td>39</td>\n      <td>52</td>\n      <td>52</td>\n    </tr>\n    <tr>\n      <th>Online12.txt</th>\n      <td>144</td>\n      <td>147</td>\n      <td>120</td>\n      <td>141</td>\n      <td>146</td>\n    </tr>\n    <tr>\n      <th>Online2.txt</th>\n      <td>9</td>\n      <td>9</td>\n      <td>5</td>\n      <td>5</td>\n      <td>9</td>\n    </tr>\n    <tr>\n      <th>Online3.txt</th>\n      <td>15</td>\n      <td>11</td>\n      <td>13</td>\n      <td>15</td>\n      <td>15</td>\n    </tr>\n    <tr>\n      <th>Online4.txt</th>\n      <td>12</td>\n      <td>12</td>\n      <td>12</td>\n      <td>16</td>\n      <td>16</td>\n    </tr>\n    <tr>\n      <th>Online5.txt</th>\n      <td>22</td>\n      <td>26</td>\n      <td>22</td>\n      <td>22</td>\n      <td>26</td>\n    </tr>\n    <tr>\n      <th>Online6.txt</th>\n      <td>29</td>\n      <td>29</td>\n      <td>27</td>\n      <td>33</td>\n      <td>34</td>\n    </tr>\n    <tr>\n      <th>Online7.txt</th>\n      <td>41</td>\n      <td>41</td>\n      <td>31</td>\n      <td>34</td>\n      <td>41</td>\n    </tr>\n    <tr>\n      <th>Online8.txt</th>\n      <td>38</td>\n      <td>36</td>\n      <td>38</td>\n      <td>40</td>\n      <td>36</td>\n    </tr>\n    <tr>\n      <th>Online9.txt</th>\n      <td>69</td>\n      <td>64</td>\n      <td>61</td>\n      <td>69</td>\n      <td>64</td>\n    </tr>\n  </tbody>\n</table>\n</div>"
     },
     "metadata": {},
     "execution_count": 7
    }
   ],
   "source": [
    "df_real_groups = df.xs(0, level=None)\n",
    "df_real_groups"
   ]
  },
  {
   "source": [
    "We also make a separate dataframe for the generated group simulation records: "
   ],
   "cell_type": "markdown",
   "metadata": {}
  },
  {
   "cell_type": "code",
   "execution_count": 8,
   "metadata": {},
   "outputs": [
    {
     "output_type": "execute_result",
     "data": {
      "text/plain": "                 FirstFit  BestFit  WorstFit  MinCovidChairs  Hybrid_BF_CC\n   grid                                                                   \n1  Online1.txt          6        6         6               6             6\n   Online10.txt        65       65        67              75            65\n   Online11.txt        56       60        46              61            61\n   Online12.txt       132      139       117             137           141\n   Online2.txt          9        9         7               7             9\n...                   ...      ...       ...             ...           ...\n10 Online5.txt         21       23        23              23            25\n   Online6.txt         27       34        25              29            30\n   Online7.txt         34       38        33              39            41\n   Online8.txt         42       45        41              44            44\n   Online9.txt         62       62        58              66            62\n\n[120 rows x 5 columns]",
      "text/html": "<div>\n<style scoped>\n    .dataframe tbody tr th:only-of-type {\n        vertical-align: middle;\n    }\n\n    .dataframe tbody tr th {\n        vertical-align: top;\n    }\n\n    .dataframe thead th {\n        text-align: right;\n    }\n</style>\n<table border=\"1\" class=\"dataframe\">\n  <thead>\n    <tr style=\"text-align: right;\">\n      <th></th>\n      <th></th>\n      <th>FirstFit</th>\n      <th>BestFit</th>\n      <th>WorstFit</th>\n      <th>MinCovidChairs</th>\n      <th>Hybrid_BF_CC</th>\n    </tr>\n    <tr>\n      <th></th>\n      <th>grid</th>\n      <th></th>\n      <th></th>\n      <th></th>\n      <th></th>\n      <th></th>\n    </tr>\n  </thead>\n  <tbody>\n    <tr>\n      <th rowspan=\"5\" valign=\"top\">1</th>\n      <th>Online1.txt</th>\n      <td>6</td>\n      <td>6</td>\n      <td>6</td>\n      <td>6</td>\n      <td>6</td>\n    </tr>\n    <tr>\n      <th>Online10.txt</th>\n      <td>65</td>\n      <td>65</td>\n      <td>67</td>\n      <td>75</td>\n      <td>65</td>\n    </tr>\n    <tr>\n      <th>Online11.txt</th>\n      <td>56</td>\n      <td>60</td>\n      <td>46</td>\n      <td>61</td>\n      <td>61</td>\n    </tr>\n    <tr>\n      <th>Online12.txt</th>\n      <td>132</td>\n      <td>139</td>\n      <td>117</td>\n      <td>137</td>\n      <td>141</td>\n    </tr>\n    <tr>\n      <th>Online2.txt</th>\n      <td>9</td>\n      <td>9</td>\n      <td>7</td>\n      <td>7</td>\n      <td>9</td>\n    </tr>\n    <tr>\n      <th>...</th>\n      <th>...</th>\n      <td>...</td>\n      <td>...</td>\n      <td>...</td>\n      <td>...</td>\n      <td>...</td>\n    </tr>\n    <tr>\n      <th rowspan=\"5\" valign=\"top\">10</th>\n      <th>Online5.txt</th>\n      <td>21</td>\n      <td>23</td>\n      <td>23</td>\n      <td>23</td>\n      <td>25</td>\n    </tr>\n    <tr>\n      <th>Online6.txt</th>\n      <td>27</td>\n      <td>34</td>\n      <td>25</td>\n      <td>29</td>\n      <td>30</td>\n    </tr>\n    <tr>\n      <th>Online7.txt</th>\n      <td>34</td>\n      <td>38</td>\n      <td>33</td>\n      <td>39</td>\n      <td>41</td>\n    </tr>\n    <tr>\n      <th>Online8.txt</th>\n      <td>42</td>\n      <td>45</td>\n      <td>41</td>\n      <td>44</td>\n      <td>44</td>\n    </tr>\n    <tr>\n      <th>Online9.txt</th>\n      <td>62</td>\n      <td>62</td>\n      <td>58</td>\n      <td>66</td>\n      <td>62</td>\n    </tr>\n  </tbody>\n</table>\n<p>120 rows × 5 columns</p>\n</div>"
     },
     "metadata": {},
     "execution_count": 8
    }
   ],
   "source": [
    "df_sim = df.loc[pd.IndexSlice[range(1,11),:]]\n",
    "df_sim"
   ]
  },
  {
   "source": [
    "The following analyses are on the simulation results."
   ],
   "cell_type": "markdown",
   "metadata": {}
  },
  {
   "cell_type": "code",
   "execution_count": 9,
   "metadata": {
    "tags": []
   },
   "outputs": [
    {
     "output_type": "execute_result",
     "data": {
      "text/plain": "              FirstFit  BestFit  WorstFit  MinCovidChairs  Hybrid_BF_CC\ngrid                                                                   \nOnline1.txt        5.2      5.4       4.5             5.4           5.4\nOnline10.txt      71.3     69.3      68.3            74.4          69.3\nOnline11.txt      57.2     59.3      45.8            61.1          61.1\nOnline12.txt     132.1    134.1     116.3           139.1         138.9\nOnline2.txt        7.8      7.9       6.9             7.3           7.9\nOnline3.txt       15.6     15.1      14.9            16.0          16.3\nOnline4.txt       24.9     25.6      22.0            25.0          26.3\nOnline5.txt       23.7     23.8      22.4            25.2          24.5\nOnline6.txt       30.7     32.2      26.1            32.0          31.8\nOnline7.txt       38.9     39.6      32.4            38.8          39.5\nOnline8.txt       44.7     43.5      43.8            46.5          45.3\nOnline9.txt       62.6     62.6      58.2            65.6          62.7",
      "text/html": "<div>\n<style scoped>\n    .dataframe tbody tr th:only-of-type {\n        vertical-align: middle;\n    }\n\n    .dataframe tbody tr th {\n        vertical-align: top;\n    }\n\n    .dataframe thead th {\n        text-align: right;\n    }\n</style>\n<table border=\"1\" class=\"dataframe\">\n  <thead>\n    <tr style=\"text-align: right;\">\n      <th></th>\n      <th>FirstFit</th>\n      <th>BestFit</th>\n      <th>WorstFit</th>\n      <th>MinCovidChairs</th>\n      <th>Hybrid_BF_CC</th>\n    </tr>\n    <tr>\n      <th>grid</th>\n      <th></th>\n      <th></th>\n      <th></th>\n      <th></th>\n      <th></th>\n    </tr>\n  </thead>\n  <tbody>\n    <tr>\n      <th>Online1.txt</th>\n      <td>5.2</td>\n      <td>5.4</td>\n      <td>4.5</td>\n      <td>5.4</td>\n      <td>5.4</td>\n    </tr>\n    <tr>\n      <th>Online10.txt</th>\n      <td>71.3</td>\n      <td>69.3</td>\n      <td>68.3</td>\n      <td>74.4</td>\n      <td>69.3</td>\n    </tr>\n    <tr>\n      <th>Online11.txt</th>\n      <td>57.2</td>\n      <td>59.3</td>\n      <td>45.8</td>\n      <td>61.1</td>\n      <td>61.1</td>\n    </tr>\n    <tr>\n      <th>Online12.txt</th>\n      <td>132.1</td>\n      <td>134.1</td>\n      <td>116.3</td>\n      <td>139.1</td>\n      <td>138.9</td>\n    </tr>\n    <tr>\n      <th>Online2.txt</th>\n      <td>7.8</td>\n      <td>7.9</td>\n      <td>6.9</td>\n      <td>7.3</td>\n      <td>7.9</td>\n    </tr>\n    <tr>\n      <th>Online3.txt</th>\n      <td>15.6</td>\n      <td>15.1</td>\n      <td>14.9</td>\n      <td>16.0</td>\n      <td>16.3</td>\n    </tr>\n    <tr>\n      <th>Online4.txt</th>\n      <td>24.9</td>\n      <td>25.6</td>\n      <td>22.0</td>\n      <td>25.0</td>\n      <td>26.3</td>\n    </tr>\n    <tr>\n      <th>Online5.txt</th>\n      <td>23.7</td>\n      <td>23.8</td>\n      <td>22.4</td>\n      <td>25.2</td>\n      <td>24.5</td>\n    </tr>\n    <tr>\n      <th>Online6.txt</th>\n      <td>30.7</td>\n      <td>32.2</td>\n      <td>26.1</td>\n      <td>32.0</td>\n      <td>31.8</td>\n    </tr>\n    <tr>\n      <th>Online7.txt</th>\n      <td>38.9</td>\n      <td>39.6</td>\n      <td>32.4</td>\n      <td>38.8</td>\n      <td>39.5</td>\n    </tr>\n    <tr>\n      <th>Online8.txt</th>\n      <td>44.7</td>\n      <td>43.5</td>\n      <td>43.8</td>\n      <td>46.5</td>\n      <td>45.3</td>\n    </tr>\n    <tr>\n      <th>Online9.txt</th>\n      <td>62.6</td>\n      <td>62.6</td>\n      <td>58.2</td>\n      <td>65.6</td>\n      <td>62.7</td>\n    </tr>\n  </tbody>\n</table>\n</div>"
     },
     "metadata": {},
     "execution_count": 9
    }
   ],
   "source": [
    "df_sim.groupby(['grid']).mean()"
   ]
  },
  {
   "cell_type": "code",
   "execution_count": 11,
   "metadata": {},
   "outputs": [
    {
     "output_type": "execute_result",
     "data": {
      "text/plain": "              FirstFit   BestFit  WorstFit  MinCovidChairs  Hybrid_BF_CC\ngrid                                                                    \nOnline1.txt   1.229273  1.074968  0.971825        1.074968      1.074968\nOnline10.txt  2.983287  4.083844  3.164034        2.170509      4.083844\nOnline11.txt  1.686548  4.029061  3.326660        2.643651      2.469818\nOnline12.txt  3.107339  4.012481  5.396501        3.541814      6.436873\nOnline2.txt   0.788811  0.994429  0.567646        0.483046      0.994429\nOnline3.txt   0.843274  1.663330  1.197219        1.054093      1.159502\nOnline4.txt   1.370320  1.776388  1.825742        1.247219      0.948683\nOnline5.txt   1.567021  2.898275  1.837873        1.873796      2.173067\nOnline6.txt   2.002776  2.201010  2.233582        2.108185      1.873796\nOnline7.txt   2.766867  2.011080  2.118700        1.398412      0.849837\nOnline8.txt   2.110819  2.838231  2.699794        1.957890      1.766981\nOnline9.txt   2.503331  2.118700  2.740641        1.646545      2.584140",
      "text/html": "<div>\n<style scoped>\n    .dataframe tbody tr th:only-of-type {\n        vertical-align: middle;\n    }\n\n    .dataframe tbody tr th {\n        vertical-align: top;\n    }\n\n    .dataframe thead th {\n        text-align: right;\n    }\n</style>\n<table border=\"1\" class=\"dataframe\">\n  <thead>\n    <tr style=\"text-align: right;\">\n      <th></th>\n      <th>FirstFit</th>\n      <th>BestFit</th>\n      <th>WorstFit</th>\n      <th>MinCovidChairs</th>\n      <th>Hybrid_BF_CC</th>\n    </tr>\n    <tr>\n      <th>grid</th>\n      <th></th>\n      <th></th>\n      <th></th>\n      <th></th>\n      <th></th>\n    </tr>\n  </thead>\n  <tbody>\n    <tr>\n      <th>Online1.txt</th>\n      <td>1.229273</td>\n      <td>1.074968</td>\n      <td>0.971825</td>\n      <td>1.074968</td>\n      <td>1.074968</td>\n    </tr>\n    <tr>\n      <th>Online10.txt</th>\n      <td>2.983287</td>\n      <td>4.083844</td>\n      <td>3.164034</td>\n      <td>2.170509</td>\n      <td>4.083844</td>\n    </tr>\n    <tr>\n      <th>Online11.txt</th>\n      <td>1.686548</td>\n      <td>4.029061</td>\n      <td>3.326660</td>\n      <td>2.643651</td>\n      <td>2.469818</td>\n    </tr>\n    <tr>\n      <th>Online12.txt</th>\n      <td>3.107339</td>\n      <td>4.012481</td>\n      <td>5.396501</td>\n      <td>3.541814</td>\n      <td>6.436873</td>\n    </tr>\n    <tr>\n      <th>Online2.txt</th>\n      <td>0.788811</td>\n      <td>0.994429</td>\n      <td>0.567646</td>\n      <td>0.483046</td>\n      <td>0.994429</td>\n    </tr>\n    <tr>\n      <th>Online3.txt</th>\n      <td>0.843274</td>\n      <td>1.663330</td>\n      <td>1.197219</td>\n      <td>1.054093</td>\n      <td>1.159502</td>\n    </tr>\n    <tr>\n      <th>Online4.txt</th>\n      <td>1.370320</td>\n      <td>1.776388</td>\n      <td>1.825742</td>\n      <td>1.247219</td>\n      <td>0.948683</td>\n    </tr>\n    <tr>\n      <th>Online5.txt</th>\n      <td>1.567021</td>\n      <td>2.898275</td>\n      <td>1.837873</td>\n      <td>1.873796</td>\n      <td>2.173067</td>\n    </tr>\n    <tr>\n      <th>Online6.txt</th>\n      <td>2.002776</td>\n      <td>2.201010</td>\n      <td>2.233582</td>\n      <td>2.108185</td>\n      <td>1.873796</td>\n    </tr>\n    <tr>\n      <th>Online7.txt</th>\n      <td>2.766867</td>\n      <td>2.011080</td>\n      <td>2.118700</td>\n      <td>1.398412</td>\n      <td>0.849837</td>\n    </tr>\n    <tr>\n      <th>Online8.txt</th>\n      <td>2.110819</td>\n      <td>2.838231</td>\n      <td>2.699794</td>\n      <td>1.957890</td>\n      <td>1.766981</td>\n    </tr>\n    <tr>\n      <th>Online9.txt</th>\n      <td>2.503331</td>\n      <td>2.118700</td>\n      <td>2.740641</td>\n      <td>1.646545</td>\n      <td>2.584140</td>\n    </tr>\n  </tbody>\n</table>\n</div>"
     },
     "metadata": {},
     "execution_count": 11
    }
   ],
   "source": [
    "df_sim.groupby(['grid']).std()"
   ]
  },
  {
   "cell_type": "code",
   "execution_count": 12,
   "metadata": {},
   "outputs": [
    {
     "output_type": "execute_result",
     "data": {
      "text/plain": "              FirstFit  BestFit  WorstFit  MinCovidChairs  Hybrid_BF_CC\ngrid                                                                   \nOnline1.txt          7        7         6               7             7\nOnline10.txt        76       76        72              80            76\nOnline11.txt        60       64        50              66            64\nOnline12.txt       138      139       123             144           150\nOnline2.txt          9        9         8               8             9\nOnline3.txt         17       18        17              18            18\nOnline4.txt         27       27        24              27            27\nOnline5.txt         27       28        25              29            28\nOnline6.txt         34       36        30              35            34\nOnline7.txt         43       43        36              42            41\nOnline8.txt         48       47        48              50            47\nOnline9.txt         68       66        62              69            67",
      "text/html": "<div>\n<style scoped>\n    .dataframe tbody tr th:only-of-type {\n        vertical-align: middle;\n    }\n\n    .dataframe tbody tr th {\n        vertical-align: top;\n    }\n\n    .dataframe thead th {\n        text-align: right;\n    }\n</style>\n<table border=\"1\" class=\"dataframe\">\n  <thead>\n    <tr style=\"text-align: right;\">\n      <th></th>\n      <th>FirstFit</th>\n      <th>BestFit</th>\n      <th>WorstFit</th>\n      <th>MinCovidChairs</th>\n      <th>Hybrid_BF_CC</th>\n    </tr>\n    <tr>\n      <th>grid</th>\n      <th></th>\n      <th></th>\n      <th></th>\n      <th></th>\n      <th></th>\n    </tr>\n  </thead>\n  <tbody>\n    <tr>\n      <th>Online1.txt</th>\n      <td>7</td>\n      <td>7</td>\n      <td>6</td>\n      <td>7</td>\n      <td>7</td>\n    </tr>\n    <tr>\n      <th>Online10.txt</th>\n      <td>76</td>\n      <td>76</td>\n      <td>72</td>\n      <td>80</td>\n      <td>76</td>\n    </tr>\n    <tr>\n      <th>Online11.txt</th>\n      <td>60</td>\n      <td>64</td>\n      <td>50</td>\n      <td>66</td>\n      <td>64</td>\n    </tr>\n    <tr>\n      <th>Online12.txt</th>\n      <td>138</td>\n      <td>139</td>\n      <td>123</td>\n      <td>144</td>\n      <td>150</td>\n    </tr>\n    <tr>\n      <th>Online2.txt</th>\n      <td>9</td>\n      <td>9</td>\n      <td>8</td>\n      <td>8</td>\n      <td>9</td>\n    </tr>\n    <tr>\n      <th>Online3.txt</th>\n      <td>17</td>\n      <td>18</td>\n      <td>17</td>\n      <td>18</td>\n      <td>18</td>\n    </tr>\n    <tr>\n      <th>Online4.txt</th>\n      <td>27</td>\n      <td>27</td>\n      <td>24</td>\n      <td>27</td>\n      <td>27</td>\n    </tr>\n    <tr>\n      <th>Online5.txt</th>\n      <td>27</td>\n      <td>28</td>\n      <td>25</td>\n      <td>29</td>\n      <td>28</td>\n    </tr>\n    <tr>\n      <th>Online6.txt</th>\n      <td>34</td>\n      <td>36</td>\n      <td>30</td>\n      <td>35</td>\n      <td>34</td>\n    </tr>\n    <tr>\n      <th>Online7.txt</th>\n      <td>43</td>\n      <td>43</td>\n      <td>36</td>\n      <td>42</td>\n      <td>41</td>\n    </tr>\n    <tr>\n      <th>Online8.txt</th>\n      <td>48</td>\n      <td>47</td>\n      <td>48</td>\n      <td>50</td>\n      <td>47</td>\n    </tr>\n    <tr>\n      <th>Online9.txt</th>\n      <td>68</td>\n      <td>66</td>\n      <td>62</td>\n      <td>69</td>\n      <td>67</td>\n    </tr>\n  </tbody>\n</table>\n</div>"
     },
     "metadata": {},
     "execution_count": 12
    }
   ],
   "source": [
    "df_sim.groupby(['grid']).max()"
   ]
  }
 ]
}