{
 "cells": [
  {
   "cell_type": "markdown",
   "metadata": {},
   "source": [
    "# Comparison of performance Online Algorithms\n",
    "\n",
    "**Simulations of randomly generated group sequences on a selection of grids**"
   ]
  },
  {
   "cell_type": "code",
   "execution_count": 1,
   "metadata": {
    "tags": []
   },
   "outputs": [],
   "source": [
    "from utils.test_file import generate_group_sequence\n",
    "from algorithms.online import FirstFit, BestFit, WorstFit, MinCovidChairs, Hybrid_BF_CC\n",
    "import pandas as pd\n",
    "import numpy as np\n",
    "import pickle\n",
    "import plotly.express as px\n",
    "import itertools\n",
    "from online_batch import run_algorithm_with_original_groups, repeat_algorithm_with_different_groups, get_file_names"
   ]
  },
  {
   "cell_type": "markdown",
   "metadata": {},
   "source": [
    "## Set variables For simulation\n",
    "\n",
    "We need to define:\n",
    "\n",
    "* which files (=grids) we are going to run\n",
    "* how many random groups we gonna test per grids\n",
    "* the number of groups\n",
    "* which algorithms"
   ]
  },
  {
   "cell_type": "code",
   "execution_count": 2,
   "metadata": {},
   "outputs": [],
   "source": [
    "FILE_DIR = \"input/online\"\n",
    "# 20 different group sequences from each 50 groups long\n",
    "GROUPS_LIST = [generate_group_sequence(50) for i in range(20)]\n",
    "ALGORITHMS = [FirstFit, BestFit, WorstFit, MinCovidChairs, \n",
    "    # Hybrid_BF_CC\n",
    "    ]\n",
    "SEED = 10"
   ]
  },
  {
   "cell_type": "markdown",
   "metadata": {},
   "source": [
    "## Run the simulation\n",
    "\n",
    "Gather all the files that we want to run on."
   ]
  },
  {
   "cell_type": "code",
   "execution_count": 3,
   "metadata": {},
   "outputs": [],
   "source": [
    "file_names = get_file_names(FILE_DIR)"
   ]
  },
  {
   "cell_type": "markdown",
   "metadata": {},
   "source": [
    "Run the algorithms and gather the results in a dataframe"
   ]
  },
  {
   "cell_type": "code",
   "execution_count": 5,
   "metadata": {
    "tags": []
   },
   "outputs": [],
   "source": [
    "%%capture\n",
    "result = {}\n",
    "for file in file_names:\n",
    "    grid_path = f\"{FILE_DIR}/{file}\"\n",
    "\n",
    "    grid_result = {}\n",
    "    for algorithm in ALGORITHMS:\n",
    "        alg_filled_chairs = []\n",
    "        alg_filled_chairs.append(run_algorithm_with_original_groups(algorithm, grid_path))\n",
    "        alg_filled_chairs = alg_filled_chairs + repeat_algorithm_with_different_groups(algorithm, grid_path, GROUPS_LIST)\n",
    "        alg_name = str(algorithm.__name__)\n",
    "        grid_result.update({alg_name: alg_filled_chairs})\n",
    "    \n",
    "    result.update({file: grid_result})\n"
   ]
  },
  {
   "cell_type": "code",
   "execution_count": 6,
   "metadata": {
    "tags": []
   },
   "outputs": [
    {
     "output_type": "stream",
     "name": "stdout",
     "text": [
      "The following grids were solved:\ndict_keys(['Online1.txt', 'Online10.txt', 'Online11.txt', 'Online12.txt', 'Online2.txt', 'Online3.txt', 'Online4.txt', 'Online5.txt', 'Online6.txt', 'Online7.txt', 'Online8.txt', 'Online9.txt'])\n"
     ]
    }
   ],
   "source": [
    "print(\"The following grids were solved:\")    \n",
    "print(result.keys())"
   ]
  },
  {
   "cell_type": "markdown",
   "metadata": {},
   "source": [
    "Put everything in a dataframe:"
   ]
  },
  {
   "cell_type": "code",
   "execution_count": 7,
   "metadata": {},
   "outputs": [],
   "source": [
    "df_list = []\n",
    "for grid, algs in result.items():\n",
    "    alg_series = []\n",
    "    for alg, value_list in algs.items():\n",
    "        alg_series.append(pd.Series(value_list, name=alg))\n",
    "    df = pd.DataFrame(alg_series).transpose()\n",
    "    df = df.assign(grid=grid[0:-4]).set_index('grid', append=True, drop=True)\n",
    "    df_list.append(df)\n",
    "df = pd.concat(df_list)"
   ]
  },
  {
   "cell_type": "markdown",
   "metadata": {},
   "source": [
    "## Preprocessing\n",
    "\n",
    "Let's extract the records with the original groups from the input grid files, and put it in a seperate dataframe"
   ]
  },
  {
   "cell_type": "code",
   "execution_count": 8,
   "metadata": {},
   "outputs": [
    {
     "output_type": "execute_result",
     "data": {
      "text/plain": [
       "          FirstFit  BestFit  WorstFit  MinCovidChairs\n",
       "grid                                                 \n",
       "Online1          5        5         5               6\n",
       "Online10        74       67        73              82\n",
       "Online11        45       52        39              52\n",
       "Online12       144      147       120             148\n",
       "Online2          9        9         5               5\n",
       "Online3         15       11        13              15\n",
       "Online4         12       12        12              12\n",
       "Online5         22       26        22              22\n",
       "Online6         29       29        27              33\n",
       "Online7         41       41        31              34\n",
       "Online8         38       36        38              40\n",
       "Online9         69       64        61              71"
      ],
      "text/html": "<div>\n<style scoped>\n    .dataframe tbody tr th:only-of-type {\n        vertical-align: middle;\n    }\n\n    .dataframe tbody tr th {\n        vertical-align: top;\n    }\n\n    .dataframe thead th {\n        text-align: right;\n    }\n</style>\n<table border=\"1\" class=\"dataframe\">\n  <thead>\n    <tr style=\"text-align: right;\">\n      <th></th>\n      <th>FirstFit</th>\n      <th>BestFit</th>\n      <th>WorstFit</th>\n      <th>MinCovidChairs</th>\n    </tr>\n    <tr>\n      <th>grid</th>\n      <th></th>\n      <th></th>\n      <th></th>\n      <th></th>\n    </tr>\n  </thead>\n  <tbody>\n    <tr>\n      <th>Online1</th>\n      <td>5</td>\n      <td>5</td>\n      <td>5</td>\n      <td>6</td>\n    </tr>\n    <tr>\n      <th>Online10</th>\n      <td>74</td>\n      <td>67</td>\n      <td>73</td>\n      <td>82</td>\n    </tr>\n    <tr>\n      <th>Online11</th>\n      <td>45</td>\n      <td>52</td>\n      <td>39</td>\n      <td>52</td>\n    </tr>\n    <tr>\n      <th>Online12</th>\n      <td>144</td>\n      <td>147</td>\n      <td>120</td>\n      <td>148</td>\n    </tr>\n    <tr>\n      <th>Online2</th>\n      <td>9</td>\n      <td>9</td>\n      <td>5</td>\n      <td>5</td>\n    </tr>\n    <tr>\n      <th>Online3</th>\n      <td>15</td>\n      <td>11</td>\n      <td>13</td>\n      <td>15</td>\n    </tr>\n    <tr>\n      <th>Online4</th>\n      <td>12</td>\n      <td>12</td>\n      <td>12</td>\n      <td>12</td>\n    </tr>\n    <tr>\n      <th>Online5</th>\n      <td>22</td>\n      <td>26</td>\n      <td>22</td>\n      <td>22</td>\n    </tr>\n    <tr>\n      <th>Online6</th>\n      <td>29</td>\n      <td>29</td>\n      <td>27</td>\n      <td>33</td>\n    </tr>\n    <tr>\n      <th>Online7</th>\n      <td>41</td>\n      <td>41</td>\n      <td>31</td>\n      <td>34</td>\n    </tr>\n    <tr>\n      <th>Online8</th>\n      <td>38</td>\n      <td>36</td>\n      <td>38</td>\n      <td>40</td>\n    </tr>\n    <tr>\n      <th>Online9</th>\n      <td>69</td>\n      <td>64</td>\n      <td>61</td>\n      <td>71</td>\n    </tr>\n  </tbody>\n</table>\n</div>"
     },
     "metadata": {},
     "execution_count": 8
    }
   ],
   "source": [
    "# The first group is the original group included in the grid file\n",
    "df_real_groups = df.xs(0, level=None)\n",
    "df_real_groups"
   ]
  },
  {
   "cell_type": "markdown",
   "metadata": {},
   "source": [
    "And export the dataframe, so it can be used elsewhere to do comparison with results from offline algorithm"
   ]
  },
  {
   "cell_type": "code",
   "execution_count": 9,
   "metadata": {},
   "outputs": [],
   "source": [
    "df_real_groups.to_pickle(\"results/online_results.p\")"
   ]
  },
  {
   "cell_type": "markdown",
   "metadata": {},
   "source": [
    "Gather the other data to separate dataframe for the generated group simulation records: "
   ]
  },
  {
   "cell_type": "code",
   "execution_count": 10,
   "metadata": {},
   "outputs": [
    {
     "output_type": "execute_result",
     "data": {
      "text/plain": [
       "             FirstFit  BestFit  WorstFit  MinCovidChairs\n",
       "   grid                                                 \n",
       "1  Online1          4        6         3               6\n",
       "   Online10        68       68        65              77\n",
       "   Online11        60       58        48              62\n",
       "   Online12       129      130       109             139\n",
       "   Online2          8        8         6               7\n",
       "...               ...      ...       ...             ...\n",
       "20 Online5         26       30        26              28\n",
       "   Online6         28       31        26              31\n",
       "   Online7         37       37        39              41\n",
       "   Online8         46       50        44              50\n",
       "   Online9         67       64        57              70\n",
       "\n",
       "[240 rows x 4 columns]"
      ],
      "text/html": "<div>\n<style scoped>\n    .dataframe tbody tr th:only-of-type {\n        vertical-align: middle;\n    }\n\n    .dataframe tbody tr th {\n        vertical-align: top;\n    }\n\n    .dataframe thead th {\n        text-align: right;\n    }\n</style>\n<table border=\"1\" class=\"dataframe\">\n  <thead>\n    <tr style=\"text-align: right;\">\n      <th></th>\n      <th></th>\n      <th>FirstFit</th>\n      <th>BestFit</th>\n      <th>WorstFit</th>\n      <th>MinCovidChairs</th>\n    </tr>\n    <tr>\n      <th></th>\n      <th>grid</th>\n      <th></th>\n      <th></th>\n      <th></th>\n      <th></th>\n    </tr>\n  </thead>\n  <tbody>\n    <tr>\n      <th rowspan=\"5\" valign=\"top\">1</th>\n      <th>Online1</th>\n      <td>4</td>\n      <td>6</td>\n      <td>3</td>\n      <td>6</td>\n    </tr>\n    <tr>\n      <th>Online10</th>\n      <td>68</td>\n      <td>68</td>\n      <td>65</td>\n      <td>77</td>\n    </tr>\n    <tr>\n      <th>Online11</th>\n      <td>60</td>\n      <td>58</td>\n      <td>48</td>\n      <td>62</td>\n    </tr>\n    <tr>\n      <th>Online12</th>\n      <td>129</td>\n      <td>130</td>\n      <td>109</td>\n      <td>139</td>\n    </tr>\n    <tr>\n      <th>Online2</th>\n      <td>8</td>\n      <td>8</td>\n      <td>6</td>\n      <td>7</td>\n    </tr>\n    <tr>\n      <th>...</th>\n      <th>...</th>\n      <td>...</td>\n      <td>...</td>\n      <td>...</td>\n      <td>...</td>\n    </tr>\n    <tr>\n      <th rowspan=\"5\" valign=\"top\">20</th>\n      <th>Online5</th>\n      <td>26</td>\n      <td>30</td>\n      <td>26</td>\n      <td>28</td>\n    </tr>\n    <tr>\n      <th>Online6</th>\n      <td>28</td>\n      <td>31</td>\n      <td>26</td>\n      <td>31</td>\n    </tr>\n    <tr>\n      <th>Online7</th>\n      <td>37</td>\n      <td>37</td>\n      <td>39</td>\n      <td>41</td>\n    </tr>\n    <tr>\n      <th>Online8</th>\n      <td>46</td>\n      <td>50</td>\n      <td>44</td>\n      <td>50</td>\n    </tr>\n    <tr>\n      <th>Online9</th>\n      <td>67</td>\n      <td>64</td>\n      <td>57</td>\n      <td>70</td>\n    </tr>\n  </tbody>\n</table>\n<p>240 rows × 4 columns</p>\n</div>"
     },
     "metadata": {},
     "execution_count": 10
    }
   ],
   "source": [
    "# All the groups except group [0] belongs to the simulation\n",
    "df_sim = df.loc[pd.IndexSlice[range(1,len(GROUPS_LIST)+1),:]]\n",
    "df_sim"
   ]
  },
  {
   "cell_type": "markdown",
   "metadata": {},
   "source": [
    "## Analysis\n",
    "\n",
    "**The following analyses are on the simulation results.**\n",
    "\n",
    "### Mean seats filled per algorithm per grid\n",
    "\n",
    "The mean is taken over all the group sequences that were generated"
   ]
  },
  {
   "cell_type": "code",
   "execution_count": 11,
   "metadata": {
    "tags": []
   },
   "outputs": [],
   "source": [
    "df_sim_mean = df_sim.groupby(['grid']).mean().reset_index().melt(id_vars='grid', value_name='seats', var_name='algorithm')\n",
    "# df_sim_avg"
   ]
  },
  {
   "cell_type": "code",
   "execution_count": 12,
   "metadata": {},
   "outputs": [],
   "source": [
    "df_sim_std = df_sim.groupby(['grid']).std().reset_index().melt(id_vars='grid', value_name='std', var_name='algorithm')\n",
    "# df_sim_std"
   ]
  },
  {
   "cell_type": "code",
   "execution_count": 13,
   "metadata": {},
   "outputs": [],
   "source": [
    "df_sim_comb = df_sim_mean.merge(df_sim_std, on=['grid', 'algorithm'])\n",
    "# df_sim_comb"
   ]
  },
  {
   "cell_type": "markdown",
   "metadata": {},
   "source": [
    "The mean performance of each algorithm per grid:"
   ]
  },
  {
   "cell_type": "code",
   "execution_count": 14,
   "metadata": {},
   "outputs": [
    {
     "output_type": "display_data",
     "data": {
      "application/vnd.plotly.v1+json": {
       "config": {
        "plotlyServerURL": "https://plot.ly"
       },
       "data": [
        {
         "alignmentgroup": "True",
         "error_y": {
          "array": [
           1.2732056517228265,
           5.169495547007109,
           3.2811262507992915,
           5.140141304631513,
           1.025978352085154,
           1.5312533566021214,
           1.4964871146156005,
           1.6254554017744982,
           2.2219005615155596,
           2.2070461326349626,
           2.5526044491233284,
           3.407036063331601
          ]
         },
         "hovertemplate": "algorithm=FirstFit<br>grid=%{x}<br>seats=%{y}<extra></extra>",
         "legendgroup": "FirstFit",
         "marker": {
          "color": "#636efa"
         },
         "name": "FirstFit",
         "offsetgroup": "FirstFit",
         "orientation": "v",
         "showlegend": true,
         "textposition": "auto",
         "type": "bar",
         "x": [
          "Online1",
          "Online10",
          "Online11",
          "Online12",
          "Online2",
          "Online3",
          "Online4",
          "Online5",
          "Online6",
          "Online7",
          "Online8",
          "Online9"
         ],
         "xaxis": "x",
         "y": [
          5.4,
          71.75,
          56.65,
          132,
          7,
          15.35,
          25.35,
          23.3,
          30.1,
          38.85,
          44.1,
          62.15
         ],
         "yaxis": "y"
        },
        {
         "alignmentgroup": "True",
         "error_y": {
          "array": [
           1.1742858972247996,
           5.020746432239142,
           2.9037181246409633,
           6.990783406141184,
           1.1876558069531231,
           1.6189665319514628,
           1.8381913307436346,
           3.0996604228273306,
           2.0641042405337657,
           2.0589982234597786,
           3.81961695516848,
           3.3320611607453086
          ]
         },
         "hovertemplate": "algorithm=BestFit<br>grid=%{x}<br>seats=%{y}<extra></extra>",
         "legendgroup": "BestFit",
         "marker": {
          "color": "#EF553B"
         },
         "name": "BestFit",
         "offsetgroup": "BestFit",
         "orientation": "v",
         "showlegend": true,
         "textposition": "auto",
         "type": "bar",
         "x": [
          "Online1",
          "Online10",
          "Online11",
          "Online12",
          "Online2",
          "Online3",
          "Online4",
          "Online5",
          "Online6",
          "Online7",
          "Online8",
          "Online9"
         ],
         "xaxis": "x",
         "y": [
          5.7,
          68.95,
          58.3,
          134.35,
          6.6,
          15.1,
          25.7,
          23.65,
          30.95,
          39.35,
          43.2,
          62.45
         ],
         "yaxis": "y"
        },
        {
         "alignmentgroup": "True",
         "error_y": {
          "array": [
           0.6048053188292997,
           3.278317925560702,
           3.1030545223087933,
           7.221860089886452,
           0.6048053188292996,
           1.5389675281277306,
           1.669383750149485,
           2.8446625921465443,
           2.2687812633774627,
           3.501503436495454,
           2.303315687849743,
           3.662038546464179
          ]
         },
         "hovertemplate": "algorithm=WorstFit<br>grid=%{x}<br>seats=%{y}<extra></extra>",
         "legendgroup": "WorstFit",
         "marker": {
          "color": "#00cc96"
         },
         "name": "WorstFit",
         "offsetgroup": "WorstFit",
         "orientation": "v",
         "showlegend": true,
         "textposition": "auto",
         "type": "bar",
         "x": [
          "Online1",
          "Online10",
          "Online11",
          "Online12",
          "Online2",
          "Online3",
          "Online4",
          "Online5",
          "Online6",
          "Online7",
          "Online8",
          "Online9"
         ],
         "xaxis": "x",
         "y": [
          3.95,
          67.3,
          45.95,
          113.05,
          6.45,
          14.5,
          21.45,
          21.75,
          26.1,
          32.05,
          43.6,
          57.4
         ],
         "yaxis": "y"
        },
        {
         "alignmentgroup": "True",
         "error_y": {
          "array": [
           0.6048053188292994,
           3.6168465473902045,
           2.3169853371636977,
           4.081730799034823,
           0.6708203932499365,
           1.3088765773505315,
           1.1002392084403623,
           2.1392325234704344,
           2.221308291596596,
           1.4903196407411898,
           2.373094803704315,
           2.8543595465625264
          ]
         },
         "hovertemplate": "algorithm=MinCovidChairs<br>grid=%{x}<br>seats=%{y}<extra></extra>",
         "legendgroup": "MinCovidChairs",
         "marker": {
          "color": "#ab63fa"
         },
         "name": "MinCovidChairs",
         "offsetgroup": "MinCovidChairs",
         "orientation": "v",
         "showlegend": true,
         "textposition": "auto",
         "type": "bar",
         "x": [
          "Online1",
          "Online10",
          "Online11",
          "Online12",
          "Online2",
          "Online3",
          "Online4",
          "Online5",
          "Online6",
          "Online7",
          "Online8",
          "Online9"
         ],
         "xaxis": "x",
         "y": [
          6.45,
          75.15,
          61,
          139.15,
          6.65,
          16.15,
          25.5,
          24.55,
          32.75,
          40.3,
          47.5,
          67.4
         ],
         "yaxis": "y"
        }
       ],
       "layout": {
        "barmode": "group",
        "legend": {
         "title": {
          "text": "algorithm"
         },
         "tracegroupgap": 0
        },
        "margin": {
         "t": 60
        },
        "template": {
         "data": {
          "bar": [
           {
            "error_x": {
             "color": "#2a3f5f"
            },
            "error_y": {
             "color": "#2a3f5f"
            },
            "marker": {
             "line": {
              "color": "#E5ECF6",
              "width": 0.5
             }
            },
            "type": "bar"
           }
          ],
          "barpolar": [
           {
            "marker": {
             "line": {
              "color": "#E5ECF6",
              "width": 0.5
             }
            },
            "type": "barpolar"
           }
          ],
          "carpet": [
           {
            "aaxis": {
             "endlinecolor": "#2a3f5f",
             "gridcolor": "white",
             "linecolor": "white",
             "minorgridcolor": "white",
             "startlinecolor": "#2a3f5f"
            },
            "baxis": {
             "endlinecolor": "#2a3f5f",
             "gridcolor": "white",
             "linecolor": "white",
             "minorgridcolor": "white",
             "startlinecolor": "#2a3f5f"
            },
            "type": "carpet"
           }
          ],
          "choropleth": [
           {
            "colorbar": {
             "outlinewidth": 0,
             "ticks": ""
            },
            "type": "choropleth"
           }
          ],
          "contour": [
           {
            "colorbar": {
             "outlinewidth": 0,
             "ticks": ""
            },
            "colorscale": [
             [
              0,
              "#0d0887"
             ],
             [
              0.1111111111111111,
              "#46039f"
             ],
             [
              0.2222222222222222,
              "#7201a8"
             ],
             [
              0.3333333333333333,
              "#9c179e"
             ],
             [
              0.4444444444444444,
              "#bd3786"
             ],
             [
              0.5555555555555556,
              "#d8576b"
             ],
             [
              0.6666666666666666,
              "#ed7953"
             ],
             [
              0.7777777777777778,
              "#fb9f3a"
             ],
             [
              0.8888888888888888,
              "#fdca26"
             ],
             [
              1,
              "#f0f921"
             ]
            ],
            "type": "contour"
           }
          ],
          "contourcarpet": [
           {
            "colorbar": {
             "outlinewidth": 0,
             "ticks": ""
            },
            "type": "contourcarpet"
           }
          ],
          "heatmap": [
           {
            "colorbar": {
             "outlinewidth": 0,
             "ticks": ""
            },
            "colorscale": [
             [
              0,
              "#0d0887"
             ],
             [
              0.1111111111111111,
              "#46039f"
             ],
             [
              0.2222222222222222,
              "#7201a8"
             ],
             [
              0.3333333333333333,
              "#9c179e"
             ],
             [
              0.4444444444444444,
              "#bd3786"
             ],
             [
              0.5555555555555556,
              "#d8576b"
             ],
             [
              0.6666666666666666,
              "#ed7953"
             ],
             [
              0.7777777777777778,
              "#fb9f3a"
             ],
             [
              0.8888888888888888,
              "#fdca26"
             ],
             [
              1,
              "#f0f921"
             ]
            ],
            "type": "heatmap"
           }
          ],
          "heatmapgl": [
           {
            "colorbar": {
             "outlinewidth": 0,
             "ticks": ""
            },
            "colorscale": [
             [
              0,
              "#0d0887"
             ],
             [
              0.1111111111111111,
              "#46039f"
             ],
             [
              0.2222222222222222,
              "#7201a8"
             ],
             [
              0.3333333333333333,
              "#9c179e"
             ],
             [
              0.4444444444444444,
              "#bd3786"
             ],
             [
              0.5555555555555556,
              "#d8576b"
             ],
             [
              0.6666666666666666,
              "#ed7953"
             ],
             [
              0.7777777777777778,
              "#fb9f3a"
             ],
             [
              0.8888888888888888,
              "#fdca26"
             ],
             [
              1,
              "#f0f921"
             ]
            ],
            "type": "heatmapgl"
           }
          ],
          "histogram": [
           {
            "marker": {
             "colorbar": {
              "outlinewidth": 0,
              "ticks": ""
             }
            },
            "type": "histogram"
           }
          ],
          "histogram2d": [
           {
            "colorbar": {
             "outlinewidth": 0,
             "ticks": ""
            },
            "colorscale": [
             [
              0,
              "#0d0887"
             ],
             [
              0.1111111111111111,
              "#46039f"
             ],
             [
              0.2222222222222222,
              "#7201a8"
             ],
             [
              0.3333333333333333,
              "#9c179e"
             ],
             [
              0.4444444444444444,
              "#bd3786"
             ],
             [
              0.5555555555555556,
              "#d8576b"
             ],
             [
              0.6666666666666666,
              "#ed7953"
             ],
             [
              0.7777777777777778,
              "#fb9f3a"
             ],
             [
              0.8888888888888888,
              "#fdca26"
             ],
             [
              1,
              "#f0f921"
             ]
            ],
            "type": "histogram2d"
           }
          ],
          "histogram2dcontour": [
           {
            "colorbar": {
             "outlinewidth": 0,
             "ticks": ""
            },
            "colorscale": [
             [
              0,
              "#0d0887"
             ],
             [
              0.1111111111111111,
              "#46039f"
             ],
             [
              0.2222222222222222,
              "#7201a8"
             ],
             [
              0.3333333333333333,
              "#9c179e"
             ],
             [
              0.4444444444444444,
              "#bd3786"
             ],
             [
              0.5555555555555556,
              "#d8576b"
             ],
             [
              0.6666666666666666,
              "#ed7953"
             ],
             [
              0.7777777777777778,
              "#fb9f3a"
             ],
             [
              0.8888888888888888,
              "#fdca26"
             ],
             [
              1,
              "#f0f921"
             ]
            ],
            "type": "histogram2dcontour"
           }
          ],
          "mesh3d": [
           {
            "colorbar": {
             "outlinewidth": 0,
             "ticks": ""
            },
            "type": "mesh3d"
           }
          ],
          "parcoords": [
           {
            "line": {
             "colorbar": {
              "outlinewidth": 0,
              "ticks": ""
             }
            },
            "type": "parcoords"
           }
          ],
          "pie": [
           {
            "automargin": true,
            "type": "pie"
           }
          ],
          "scatter": [
           {
            "marker": {
             "colorbar": {
              "outlinewidth": 0,
              "ticks": ""
             }
            },
            "type": "scatter"
           }
          ],
          "scatter3d": [
           {
            "line": {
             "colorbar": {
              "outlinewidth": 0,
              "ticks": ""
             }
            },
            "marker": {
             "colorbar": {
              "outlinewidth": 0,
              "ticks": ""
             }
            },
            "type": "scatter3d"
           }
          ],
          "scattercarpet": [
           {
            "marker": {
             "colorbar": {
              "outlinewidth": 0,
              "ticks": ""
             }
            },
            "type": "scattercarpet"
           }
          ],
          "scattergeo": [
           {
            "marker": {
             "colorbar": {
              "outlinewidth": 0,
              "ticks": ""
             }
            },
            "type": "scattergeo"
           }
          ],
          "scattergl": [
           {
            "marker": {
             "colorbar": {
              "outlinewidth": 0,
              "ticks": ""
             }
            },
            "type": "scattergl"
           }
          ],
          "scattermapbox": [
           {
            "marker": {
             "colorbar": {
              "outlinewidth": 0,
              "ticks": ""
             }
            },
            "type": "scattermapbox"
           }
          ],
          "scatterpolar": [
           {
            "marker": {
             "colorbar": {
              "outlinewidth": 0,
              "ticks": ""
             }
            },
            "type": "scatterpolar"
           }
          ],
          "scatterpolargl": [
           {
            "marker": {
             "colorbar": {
              "outlinewidth": 0,
              "ticks": ""
             }
            },
            "type": "scatterpolargl"
           }
          ],
          "scatterternary": [
           {
            "marker": {
             "colorbar": {
              "outlinewidth": 0,
              "ticks": ""
             }
            },
            "type": "scatterternary"
           }
          ],
          "surface": [
           {
            "colorbar": {
             "outlinewidth": 0,
             "ticks": ""
            },
            "colorscale": [
             [
              0,
              "#0d0887"
             ],
             [
              0.1111111111111111,
              "#46039f"
             ],
             [
              0.2222222222222222,
              "#7201a8"
             ],
             [
              0.3333333333333333,
              "#9c179e"
             ],
             [
              0.4444444444444444,
              "#bd3786"
             ],
             [
              0.5555555555555556,
              "#d8576b"
             ],
             [
              0.6666666666666666,
              "#ed7953"
             ],
             [
              0.7777777777777778,
              "#fb9f3a"
             ],
             [
              0.8888888888888888,
              "#fdca26"
             ],
             [
              1,
              "#f0f921"
             ]
            ],
            "type": "surface"
           }
          ],
          "table": [
           {
            "cells": {
             "fill": {
              "color": "#EBF0F8"
             },
             "line": {
              "color": "white"
             }
            },
            "header": {
             "fill": {
              "color": "#C8D4E3"
             },
             "line": {
              "color": "white"
             }
            },
            "type": "table"
           }
          ]
         },
         "layout": {
          "annotationdefaults": {
           "arrowcolor": "#2a3f5f",
           "arrowhead": 0,
           "arrowwidth": 1
          },
          "coloraxis": {
           "colorbar": {
            "outlinewidth": 0,
            "ticks": ""
           }
          },
          "colorscale": {
           "diverging": [
            [
             0,
             "#8e0152"
            ],
            [
             0.1,
             "#c51b7d"
            ],
            [
             0.2,
             "#de77ae"
            ],
            [
             0.3,
             "#f1b6da"
            ],
            [
             0.4,
             "#fde0ef"
            ],
            [
             0.5,
             "#f7f7f7"
            ],
            [
             0.6,
             "#e6f5d0"
            ],
            [
             0.7,
             "#b8e186"
            ],
            [
             0.8,
             "#7fbc41"
            ],
            [
             0.9,
             "#4d9221"
            ],
            [
             1,
             "#276419"
            ]
           ],
           "sequential": [
            [
             0,
             "#0d0887"
            ],
            [
             0.1111111111111111,
             "#46039f"
            ],
            [
             0.2222222222222222,
             "#7201a8"
            ],
            [
             0.3333333333333333,
             "#9c179e"
            ],
            [
             0.4444444444444444,
             "#bd3786"
            ],
            [
             0.5555555555555556,
             "#d8576b"
            ],
            [
             0.6666666666666666,
             "#ed7953"
            ],
            [
             0.7777777777777778,
             "#fb9f3a"
            ],
            [
             0.8888888888888888,
             "#fdca26"
            ],
            [
             1,
             "#f0f921"
            ]
           ],
           "sequentialminus": [
            [
             0,
             "#0d0887"
            ],
            [
             0.1111111111111111,
             "#46039f"
            ],
            [
             0.2222222222222222,
             "#7201a8"
            ],
            [
             0.3333333333333333,
             "#9c179e"
            ],
            [
             0.4444444444444444,
             "#bd3786"
            ],
            [
             0.5555555555555556,
             "#d8576b"
            ],
            [
             0.6666666666666666,
             "#ed7953"
            ],
            [
             0.7777777777777778,
             "#fb9f3a"
            ],
            [
             0.8888888888888888,
             "#fdca26"
            ],
            [
             1,
             "#f0f921"
            ]
           ]
          },
          "colorway": [
           "#636efa",
           "#EF553B",
           "#00cc96",
           "#ab63fa",
           "#FFA15A",
           "#19d3f3",
           "#FF6692",
           "#B6E880",
           "#FF97FF",
           "#FECB52"
          ],
          "font": {
           "color": "#2a3f5f"
          },
          "geo": {
           "bgcolor": "white",
           "lakecolor": "white",
           "landcolor": "#E5ECF6",
           "showlakes": true,
           "showland": true,
           "subunitcolor": "white"
          },
          "hoverlabel": {
           "align": "left"
          },
          "hovermode": "closest",
          "mapbox": {
           "style": "light"
          },
          "paper_bgcolor": "white",
          "plot_bgcolor": "#E5ECF6",
          "polar": {
           "angularaxis": {
            "gridcolor": "white",
            "linecolor": "white",
            "ticks": ""
           },
           "bgcolor": "#E5ECF6",
           "radialaxis": {
            "gridcolor": "white",
            "linecolor": "white",
            "ticks": ""
           }
          },
          "scene": {
           "xaxis": {
            "backgroundcolor": "#E5ECF6",
            "gridcolor": "white",
            "gridwidth": 2,
            "linecolor": "white",
            "showbackground": true,
            "ticks": "",
            "zerolinecolor": "white"
           },
           "yaxis": {
            "backgroundcolor": "#E5ECF6",
            "gridcolor": "white",
            "gridwidth": 2,
            "linecolor": "white",
            "showbackground": true,
            "ticks": "",
            "zerolinecolor": "white"
           },
           "zaxis": {
            "backgroundcolor": "#E5ECF6",
            "gridcolor": "white",
            "gridwidth": 2,
            "linecolor": "white",
            "showbackground": true,
            "ticks": "",
            "zerolinecolor": "white"
           }
          },
          "shapedefaults": {
           "line": {
            "color": "#2a3f5f"
           }
          },
          "ternary": {
           "aaxis": {
            "gridcolor": "white",
            "linecolor": "white",
            "ticks": ""
           },
           "baxis": {
            "gridcolor": "white",
            "linecolor": "white",
            "ticks": ""
           },
           "bgcolor": "#E5ECF6",
           "caxis": {
            "gridcolor": "white",
            "linecolor": "white",
            "ticks": ""
           }
          },
          "title": {
           "x": 0.05
          },
          "xaxis": {
           "automargin": true,
           "gridcolor": "white",
           "linecolor": "white",
           "ticks": "",
           "title": {
            "standoff": 15
           },
           "zerolinecolor": "white",
           "zerolinewidth": 2
          },
          "yaxis": {
           "automargin": true,
           "gridcolor": "white",
           "linecolor": "white",
           "ticks": "",
           "title": {
            "standoff": 15
           },
           "zerolinecolor": "white",
           "zerolinewidth": 2
          }
         }
        },
        "xaxis": {
         "anchor": "y",
         "domain": [
          0,
          1
         ],
         "title": {
          "text": "grid"
         }
        },
        "yaxis": {
         "anchor": "x",
         "domain": [
          0,
          1
         ],
         "title": {
          "text": "seats"
         }
        }
       }
      }
     },
     "metadata": {}
    }
   ],
   "source": [
    "bar_mean = px.bar(df_sim_comb, x='grid', color='algorithm', y='seats', barmode='group', error_y='std')\n",
    "bar_mean.show()"
   ]
  },
  {
   "cell_type": "markdown",
   "metadata": {},
   "source": [
    "### Best performance of each algorithm per grid:"
   ]
  },
  {
   "cell_type": "code",
   "execution_count": 15,
   "metadata": {},
   "outputs": [
    {
     "output_type": "display_data",
     "data": {
      "application/vnd.plotly.v1+json": {
       "config": {
        "plotlyServerURL": "https://plot.ly"
       },
       "data": [
        {
         "alignmentgroup": "True",
         "hovertemplate": "algorithm=FirstFit<br>grid=%{x}<br>seats=%{y}<extra></extra>",
         "legendgroup": "FirstFit",
         "marker": {
          "color": "#636efa"
         },
         "name": "FirstFit",
         "offsetgroup": "FirstFit",
         "orientation": "v",
         "showlegend": true,
         "textposition": "auto",
         "type": "bar",
         "x": [
          "Online1",
          "Online10",
          "Online11",
          "Online12",
          "Online2",
          "Online3",
          "Online4",
          "Online5",
          "Online6",
          "Online7",
          "Online8",
          "Online9"
         ],
         "xaxis": "x",
         "y": [
          7,
          82,
          63,
          142,
          9,
          18,
          28,
          26,
          33,
          44,
          48,
          68
         ],
         "yaxis": "y"
        },
        {
         "alignmentgroup": "True",
         "hovertemplate": "algorithm=BestFit<br>grid=%{x}<br>seats=%{y}<extra></extra>",
         "legendgroup": "BestFit",
         "marker": {
          "color": "#EF553B"
         },
         "name": "BestFit",
         "offsetgroup": "BestFit",
         "orientation": "v",
         "showlegend": true,
         "textposition": "auto",
         "type": "bar",
         "x": [
          "Online1",
          "Online10",
          "Online11",
          "Online12",
          "Online2",
          "Online3",
          "Online4",
          "Online5",
          "Online6",
          "Online7",
          "Online8",
          "Online9"
         ],
         "xaxis": "x",
         "y": [
          7,
          79,
          64,
          148,
          9,
          18,
          28,
          30,
          35,
          44,
          50,
          68
         ],
         "yaxis": "y"
        },
        {
         "alignmentgroup": "True",
         "hovertemplate": "algorithm=WorstFit<br>grid=%{x}<br>seats=%{y}<extra></extra>",
         "legendgroup": "WorstFit",
         "marker": {
          "color": "#00cc96"
         },
         "name": "WorstFit",
         "offsetgroup": "WorstFit",
         "orientation": "v",
         "showlegend": true,
         "textposition": "auto",
         "type": "bar",
         "x": [
          "Online1",
          "Online10",
          "Online11",
          "Online12",
          "Online2",
          "Online3",
          "Online4",
          "Online5",
          "Online6",
          "Online7",
          "Online8",
          "Online9"
         ],
         "xaxis": "x",
         "y": [
          6,
          76,
          54,
          129,
          8,
          18,
          24,
          26,
          32,
          39,
          48,
          64
         ],
         "yaxis": "y"
        },
        {
         "alignmentgroup": "True",
         "hovertemplate": "algorithm=MinCovidChairs<br>grid=%{x}<br>seats=%{y}<extra></extra>",
         "legendgroup": "MinCovidChairs",
         "marker": {
          "color": "#ab63fa"
         },
         "name": "MinCovidChairs",
         "offsetgroup": "MinCovidChairs",
         "orientation": "v",
         "showlegend": true,
         "textposition": "auto",
         "type": "bar",
         "x": [
          "Online1",
          "Online10",
          "Online11",
          "Online12",
          "Online2",
          "Online3",
          "Online4",
          "Online5",
          "Online6",
          "Online7",
          "Online8",
          "Online9"
         ],
         "xaxis": "x",
         "y": [
          7,
          84,
          64,
          146,
          8,
          18,
          28,
          29,
          36,
          43,
          52,
          73
         ],
         "yaxis": "y"
        }
       ],
       "layout": {
        "barmode": "group",
        "legend": {
         "title": {
          "text": "algorithm"
         },
         "tracegroupgap": 0
        },
        "margin": {
         "t": 60
        },
        "template": {
         "data": {
          "bar": [
           {
            "error_x": {
             "color": "#2a3f5f"
            },
            "error_y": {
             "color": "#2a3f5f"
            },
            "marker": {
             "line": {
              "color": "#E5ECF6",
              "width": 0.5
             }
            },
            "type": "bar"
           }
          ],
          "barpolar": [
           {
            "marker": {
             "line": {
              "color": "#E5ECF6",
              "width": 0.5
             }
            },
            "type": "barpolar"
           }
          ],
          "carpet": [
           {
            "aaxis": {
             "endlinecolor": "#2a3f5f",
             "gridcolor": "white",
             "linecolor": "white",
             "minorgridcolor": "white",
             "startlinecolor": "#2a3f5f"
            },
            "baxis": {
             "endlinecolor": "#2a3f5f",
             "gridcolor": "white",
             "linecolor": "white",
             "minorgridcolor": "white",
             "startlinecolor": "#2a3f5f"
            },
            "type": "carpet"
           }
          ],
          "choropleth": [
           {
            "colorbar": {
             "outlinewidth": 0,
             "ticks": ""
            },
            "type": "choropleth"
           }
          ],
          "contour": [
           {
            "colorbar": {
             "outlinewidth": 0,
             "ticks": ""
            },
            "colorscale": [
             [
              0,
              "#0d0887"
             ],
             [
              0.1111111111111111,
              "#46039f"
             ],
             [
              0.2222222222222222,
              "#7201a8"
             ],
             [
              0.3333333333333333,
              "#9c179e"
             ],
             [
              0.4444444444444444,
              "#bd3786"
             ],
             [
              0.5555555555555556,
              "#d8576b"
             ],
             [
              0.6666666666666666,
              "#ed7953"
             ],
             [
              0.7777777777777778,
              "#fb9f3a"
             ],
             [
              0.8888888888888888,
              "#fdca26"
             ],
             [
              1,
              "#f0f921"
             ]
            ],
            "type": "contour"
           }
          ],
          "contourcarpet": [
           {
            "colorbar": {
             "outlinewidth": 0,
             "ticks": ""
            },
            "type": "contourcarpet"
           }
          ],
          "heatmap": [
           {
            "colorbar": {
             "outlinewidth": 0,
             "ticks": ""
            },
            "colorscale": [
             [
              0,
              "#0d0887"
             ],
             [
              0.1111111111111111,
              "#46039f"
             ],
             [
              0.2222222222222222,
              "#7201a8"
             ],
             [
              0.3333333333333333,
              "#9c179e"
             ],
             [
              0.4444444444444444,
              "#bd3786"
             ],
             [
              0.5555555555555556,
              "#d8576b"
             ],
             [
              0.6666666666666666,
              "#ed7953"
             ],
             [
              0.7777777777777778,
              "#fb9f3a"
             ],
             [
              0.8888888888888888,
              "#fdca26"
             ],
             [
              1,
              "#f0f921"
             ]
            ],
            "type": "heatmap"
           }
          ],
          "heatmapgl": [
           {
            "colorbar": {
             "outlinewidth": 0,
             "ticks": ""
            },
            "colorscale": [
             [
              0,
              "#0d0887"
             ],
             [
              0.1111111111111111,
              "#46039f"
             ],
             [
              0.2222222222222222,
              "#7201a8"
             ],
             [
              0.3333333333333333,
              "#9c179e"
             ],
             [
              0.4444444444444444,
              "#bd3786"
             ],
             [
              0.5555555555555556,
              "#d8576b"
             ],
             [
              0.6666666666666666,
              "#ed7953"
             ],
             [
              0.7777777777777778,
              "#fb9f3a"
             ],
             [
              0.8888888888888888,
              "#fdca26"
             ],
             [
              1,
              "#f0f921"
             ]
            ],
            "type": "heatmapgl"
           }
          ],
          "histogram": [
           {
            "marker": {
             "colorbar": {
              "outlinewidth": 0,
              "ticks": ""
             }
            },
            "type": "histogram"
           }
          ],
          "histogram2d": [
           {
            "colorbar": {
             "outlinewidth": 0,
             "ticks": ""
            },
            "colorscale": [
             [
              0,
              "#0d0887"
             ],
             [
              0.1111111111111111,
              "#46039f"
             ],
             [
              0.2222222222222222,
              "#7201a8"
             ],
             [
              0.3333333333333333,
              "#9c179e"
             ],
             [
              0.4444444444444444,
              "#bd3786"
             ],
             [
              0.5555555555555556,
              "#d8576b"
             ],
             [
              0.6666666666666666,
              "#ed7953"
             ],
             [
              0.7777777777777778,
              "#fb9f3a"
             ],
             [
              0.8888888888888888,
              "#fdca26"
             ],
             [
              1,
              "#f0f921"
             ]
            ],
            "type": "histogram2d"
           }
          ],
          "histogram2dcontour": [
           {
            "colorbar": {
             "outlinewidth": 0,
             "ticks": ""
            },
            "colorscale": [
             [
              0,
              "#0d0887"
             ],
             [
              0.1111111111111111,
              "#46039f"
             ],
             [
              0.2222222222222222,
              "#7201a8"
             ],
             [
              0.3333333333333333,
              "#9c179e"
             ],
             [
              0.4444444444444444,
              "#bd3786"
             ],
             [
              0.5555555555555556,
              "#d8576b"
             ],
             [
              0.6666666666666666,
              "#ed7953"
             ],
             [
              0.7777777777777778,
              "#fb9f3a"
             ],
             [
              0.8888888888888888,
              "#fdca26"
             ],
             [
              1,
              "#f0f921"
             ]
            ],
            "type": "histogram2dcontour"
           }
          ],
          "mesh3d": [
           {
            "colorbar": {
             "outlinewidth": 0,
             "ticks": ""
            },
            "type": "mesh3d"
           }
          ],
          "parcoords": [
           {
            "line": {
             "colorbar": {
              "outlinewidth": 0,
              "ticks": ""
             }
            },
            "type": "parcoords"
           }
          ],
          "pie": [
           {
            "automargin": true,
            "type": "pie"
           }
          ],
          "scatter": [
           {
            "marker": {
             "colorbar": {
              "outlinewidth": 0,
              "ticks": ""
             }
            },
            "type": "scatter"
           }
          ],
          "scatter3d": [
           {
            "line": {
             "colorbar": {
              "outlinewidth": 0,
              "ticks": ""
             }
            },
            "marker": {
             "colorbar": {
              "outlinewidth": 0,
              "ticks": ""
             }
            },
            "type": "scatter3d"
           }
          ],
          "scattercarpet": [
           {
            "marker": {
             "colorbar": {
              "outlinewidth": 0,
              "ticks": ""
             }
            },
            "type": "scattercarpet"
           }
          ],
          "scattergeo": [
           {
            "marker": {
             "colorbar": {
              "outlinewidth": 0,
              "ticks": ""
             }
            },
            "type": "scattergeo"
           }
          ],
          "scattergl": [
           {
            "marker": {
             "colorbar": {
              "outlinewidth": 0,
              "ticks": ""
             }
            },
            "type": "scattergl"
           }
          ],
          "scattermapbox": [
           {
            "marker": {
             "colorbar": {
              "outlinewidth": 0,
              "ticks": ""
             }
            },
            "type": "scattermapbox"
           }
          ],
          "scatterpolar": [
           {
            "marker": {
             "colorbar": {
              "outlinewidth": 0,
              "ticks": ""
             }
            },
            "type": "scatterpolar"
           }
          ],
          "scatterpolargl": [
           {
            "marker": {
             "colorbar": {
              "outlinewidth": 0,
              "ticks": ""
             }
            },
            "type": "scatterpolargl"
           }
          ],
          "scatterternary": [
           {
            "marker": {
             "colorbar": {
              "outlinewidth": 0,
              "ticks": ""
             }
            },
            "type": "scatterternary"
           }
          ],
          "surface": [
           {
            "colorbar": {
             "outlinewidth": 0,
             "ticks": ""
            },
            "colorscale": [
             [
              0,
              "#0d0887"
             ],
             [
              0.1111111111111111,
              "#46039f"
             ],
             [
              0.2222222222222222,
              "#7201a8"
             ],
             [
              0.3333333333333333,
              "#9c179e"
             ],
             [
              0.4444444444444444,
              "#bd3786"
             ],
             [
              0.5555555555555556,
              "#d8576b"
             ],
             [
              0.6666666666666666,
              "#ed7953"
             ],
             [
              0.7777777777777778,
              "#fb9f3a"
             ],
             [
              0.8888888888888888,
              "#fdca26"
             ],
             [
              1,
              "#f0f921"
             ]
            ],
            "type": "surface"
           }
          ],
          "table": [
           {
            "cells": {
             "fill": {
              "color": "#EBF0F8"
             },
             "line": {
              "color": "white"
             }
            },
            "header": {
             "fill": {
              "color": "#C8D4E3"
             },
             "line": {
              "color": "white"
             }
            },
            "type": "table"
           }
          ]
         },
         "layout": {
          "annotationdefaults": {
           "arrowcolor": "#2a3f5f",
           "arrowhead": 0,
           "arrowwidth": 1
          },
          "coloraxis": {
           "colorbar": {
            "outlinewidth": 0,
            "ticks": ""
           }
          },
          "colorscale": {
           "diverging": [
            [
             0,
             "#8e0152"
            ],
            [
             0.1,
             "#c51b7d"
            ],
            [
             0.2,
             "#de77ae"
            ],
            [
             0.3,
             "#f1b6da"
            ],
            [
             0.4,
             "#fde0ef"
            ],
            [
             0.5,
             "#f7f7f7"
            ],
            [
             0.6,
             "#e6f5d0"
            ],
            [
             0.7,
             "#b8e186"
            ],
            [
             0.8,
             "#7fbc41"
            ],
            [
             0.9,
             "#4d9221"
            ],
            [
             1,
             "#276419"
            ]
           ],
           "sequential": [
            [
             0,
             "#0d0887"
            ],
            [
             0.1111111111111111,
             "#46039f"
            ],
            [
             0.2222222222222222,
             "#7201a8"
            ],
            [
             0.3333333333333333,
             "#9c179e"
            ],
            [
             0.4444444444444444,
             "#bd3786"
            ],
            [
             0.5555555555555556,
             "#d8576b"
            ],
            [
             0.6666666666666666,
             "#ed7953"
            ],
            [
             0.7777777777777778,
             "#fb9f3a"
            ],
            [
             0.8888888888888888,
             "#fdca26"
            ],
            [
             1,
             "#f0f921"
            ]
           ],
           "sequentialminus": [
            [
             0,
             "#0d0887"
            ],
            [
             0.1111111111111111,
             "#46039f"
            ],
            [
             0.2222222222222222,
             "#7201a8"
            ],
            [
             0.3333333333333333,
             "#9c179e"
            ],
            [
             0.4444444444444444,
             "#bd3786"
            ],
            [
             0.5555555555555556,
             "#d8576b"
            ],
            [
             0.6666666666666666,
             "#ed7953"
            ],
            [
             0.7777777777777778,
             "#fb9f3a"
            ],
            [
             0.8888888888888888,
             "#fdca26"
            ],
            [
             1,
             "#f0f921"
            ]
           ]
          },
          "colorway": [
           "#636efa",
           "#EF553B",
           "#00cc96",
           "#ab63fa",
           "#FFA15A",
           "#19d3f3",
           "#FF6692",
           "#B6E880",
           "#FF97FF",
           "#FECB52"
          ],
          "font": {
           "color": "#2a3f5f"
          },
          "geo": {
           "bgcolor": "white",
           "lakecolor": "white",
           "landcolor": "#E5ECF6",
           "showlakes": true,
           "showland": true,
           "subunitcolor": "white"
          },
          "hoverlabel": {
           "align": "left"
          },
          "hovermode": "closest",
          "mapbox": {
           "style": "light"
          },
          "paper_bgcolor": "white",
          "plot_bgcolor": "#E5ECF6",
          "polar": {
           "angularaxis": {
            "gridcolor": "white",
            "linecolor": "white",
            "ticks": ""
           },
           "bgcolor": "#E5ECF6",
           "radialaxis": {
            "gridcolor": "white",
            "linecolor": "white",
            "ticks": ""
           }
          },
          "scene": {
           "xaxis": {
            "backgroundcolor": "#E5ECF6",
            "gridcolor": "white",
            "gridwidth": 2,
            "linecolor": "white",
            "showbackground": true,
            "ticks": "",
            "zerolinecolor": "white"
           },
           "yaxis": {
            "backgroundcolor": "#E5ECF6",
            "gridcolor": "white",
            "gridwidth": 2,
            "linecolor": "white",
            "showbackground": true,
            "ticks": "",
            "zerolinecolor": "white"
           },
           "zaxis": {
            "backgroundcolor": "#E5ECF6",
            "gridcolor": "white",
            "gridwidth": 2,
            "linecolor": "white",
            "showbackground": true,
            "ticks": "",
            "zerolinecolor": "white"
           }
          },
          "shapedefaults": {
           "line": {
            "color": "#2a3f5f"
           }
          },
          "ternary": {
           "aaxis": {
            "gridcolor": "white",
            "linecolor": "white",
            "ticks": ""
           },
           "baxis": {
            "gridcolor": "white",
            "linecolor": "white",
            "ticks": ""
           },
           "bgcolor": "#E5ECF6",
           "caxis": {
            "gridcolor": "white",
            "linecolor": "white",
            "ticks": ""
           }
          },
          "title": {
           "x": 0.05
          },
          "xaxis": {
           "automargin": true,
           "gridcolor": "white",
           "linecolor": "white",
           "ticks": "",
           "title": {
            "standoff": 15
           },
           "zerolinecolor": "white",
           "zerolinewidth": 2
          },
          "yaxis": {
           "automargin": true,
           "gridcolor": "white",
           "linecolor": "white",
           "ticks": "",
           "title": {
            "standoff": 15
           },
           "zerolinecolor": "white",
           "zerolinewidth": 2
          }
         }
        },
        "xaxis": {
         "anchor": "y",
         "domain": [
          0,
          1
         ],
         "title": {
          "text": "grid"
         }
        },
        "yaxis": {
         "anchor": "x",
         "domain": [
          0,
          1
         ],
         "title": {
          "text": "seats"
         }
        }
       }
      }
     },
     "metadata": {}
    }
   ],
   "source": [
    "df_sim_max = df_sim.groupby(['grid']).max().reset_index().melt(id_vars='grid', value_name='seats', var_name='algorithm')\n",
    "px.bar(df_sim_max, x='grid', color='algorithm', y='seats', barmode='group').show()"
   ]
  },
  {
   "cell_type": "markdown",
   "metadata": {},
   "source": [
    "### Ranking of algorithm in respect to each other per grid"
   ]
  },
  {
   "cell_type": "code",
   "execution_count": 16,
   "metadata": {},
   "outputs": [],
   "source": [
    "# For each grid - group_sequence combination, rank the algorithms in respect to each other\n",
    "df_sim.index.names = ['group_sequence', 'grid']\n",
    "df_ranking = df_sim.reset_index().melt(id_vars=['group_sequence','grid'], value_name='seats', var_name='algorithm').sort_values(['grid', 'group_sequence'])\n",
    "rank = df_ranking.groupby(['grid', 'group_sequence'])\n",
    "rank = rank['seats'].rank(method='min', ascending=False)\n",
    "df_ranking['rank'] = rank.astype('int16')\n",
    "# df_ranking # .head(n=50)"
   ]
  },
  {
   "cell_type": "markdown",
   "metadata": {},
   "source": [
    "Mean ranking of each algorithm per grid over all the simulations"
   ]
  },
  {
   "cell_type": "code",
   "execution_count": 17,
   "metadata": {},
   "outputs": [
    {
     "output_type": "execute_result",
     "data": {
      "text/plain": [
       "                         group_sequence   seats  rank  base\n",
       "grid     algorithm                                         \n",
       "Online1  BestFit                   10.5    5.70  1.30     5\n",
       "         FirstFit                  10.5    5.40  1.65     5\n",
       "         MinCovidChairs            10.5    6.45  1.00     5\n",
       "         WorstFit                  10.5    3.95  3.35     5\n",
       "Online10 BestFit                   10.5   68.95  2.55     5\n",
       "         FirstFit                  10.5   71.75  2.05     5\n",
       "         MinCovidChairs            10.5   75.15  1.10     5\n",
       "         WorstFit                  10.5   67.30  3.65     5\n",
       "Online11 BestFit                   10.5   58.30  2.10     5\n",
       "         FirstFit                  10.5   56.65  2.65     5\n",
       "         MinCovidChairs            10.5   61.00  1.15     5\n",
       "         WorstFit                  10.5   45.95  4.00     5\n",
       "Online12 BestFit                   10.5  134.35  2.05     5\n",
       "         FirstFit                  10.5  132.00  2.60     5\n",
       "         MinCovidChairs            10.5  139.15  1.05     5\n",
       "         WorstFit                  10.5  113.05  4.00     5\n",
       "Online2  BestFit                   10.5    6.60  2.25     5\n",
       "         FirstFit                  10.5    7.00  1.55     5\n",
       "         MinCovidChairs            10.5    6.65  1.55     5\n",
       "         WorstFit                  10.5    6.45  1.80     5\n",
       "Online3  BestFit                   10.5   15.10  2.10     5\n",
       "         FirstFit                  10.5   15.35  1.85     5\n",
       "         MinCovidChairs            10.5   16.15  1.10     5\n",
       "         WorstFit                  10.5   14.50  2.90     5\n",
       "Online4  BestFit                   10.5   25.70  1.55     5\n",
       "         FirstFit                  10.5   25.35  1.65     5\n",
       "         MinCovidChairs            10.5   25.50  1.70     5\n",
       "         WorstFit                  10.5   21.45  4.00     5\n",
       "Online5  BestFit                   10.5   23.65  2.05     5\n",
       "         FirstFit                  10.5   23.30  2.45     5\n",
       "         MinCovidChairs            10.5   24.55  1.45     5\n",
       "         WorstFit                  10.5   21.75  3.35     5\n",
       "Online6  BestFit                   10.5   30.95  2.05     5\n",
       "         FirstFit                  10.5   30.10  2.35     5\n",
       "         MinCovidChairs            10.5   32.75  1.05     5\n",
       "         WorstFit                  10.5   26.10  3.95     5\n",
       "Online7  BestFit                   10.5   39.35  1.65     5\n",
       "         FirstFit                  10.5   38.85  2.00     5\n",
       "         MinCovidChairs            10.5   40.30  1.55     5\n",
       "         WorstFit                  10.5   32.05  3.90     5\n",
       "Online8  BestFit                   10.5   43.20  2.95     5\n",
       "         FirstFit                  10.5   44.10  2.55     5\n",
       "         MinCovidChairs            10.5   47.50  1.05     5\n",
       "         WorstFit                  10.5   43.60  2.80     5\n",
       "Online9  BestFit                   10.5   62.45  2.35     5\n",
       "         FirstFit                  10.5   62.15  2.45     5\n",
       "         MinCovidChairs            10.5   67.40  1.05     5\n",
       "         WorstFit                  10.5   57.40  3.85     5"
      ],
      "text/html": "<div>\n<style scoped>\n    .dataframe tbody tr th:only-of-type {\n        vertical-align: middle;\n    }\n\n    .dataframe tbody tr th {\n        vertical-align: top;\n    }\n\n    .dataframe thead th {\n        text-align: right;\n    }\n</style>\n<table border=\"1\" class=\"dataframe\">\n  <thead>\n    <tr style=\"text-align: right;\">\n      <th></th>\n      <th></th>\n      <th>group_sequence</th>\n      <th>seats</th>\n      <th>rank</th>\n      <th>base</th>\n    </tr>\n    <tr>\n      <th>grid</th>\n      <th>algorithm</th>\n      <th></th>\n      <th></th>\n      <th></th>\n      <th></th>\n    </tr>\n  </thead>\n  <tbody>\n    <tr>\n      <th rowspan=\"4\" valign=\"top\">Online1</th>\n      <th>BestFit</th>\n      <td>10.5</td>\n      <td>5.70</td>\n      <td>1.30</td>\n      <td>5</td>\n    </tr>\n    <tr>\n      <th>FirstFit</th>\n      <td>10.5</td>\n      <td>5.40</td>\n      <td>1.65</td>\n      <td>5</td>\n    </tr>\n    <tr>\n      <th>MinCovidChairs</th>\n      <td>10.5</td>\n      <td>6.45</td>\n      <td>1.00</td>\n      <td>5</td>\n    </tr>\n    <tr>\n      <th>WorstFit</th>\n      <td>10.5</td>\n      <td>3.95</td>\n      <td>3.35</td>\n      <td>5</td>\n    </tr>\n    <tr>\n      <th rowspan=\"4\" valign=\"top\">Online10</th>\n      <th>BestFit</th>\n      <td>10.5</td>\n      <td>68.95</td>\n      <td>2.55</td>\n      <td>5</td>\n    </tr>\n    <tr>\n      <th>FirstFit</th>\n      <td>10.5</td>\n      <td>71.75</td>\n      <td>2.05</td>\n      <td>5</td>\n    </tr>\n    <tr>\n      <th>MinCovidChairs</th>\n      <td>10.5</td>\n      <td>75.15</td>\n      <td>1.10</td>\n      <td>5</td>\n    </tr>\n    <tr>\n      <th>WorstFit</th>\n      <td>10.5</td>\n      <td>67.30</td>\n      <td>3.65</td>\n      <td>5</td>\n    </tr>\n    <tr>\n      <th rowspan=\"4\" valign=\"top\">Online11</th>\n      <th>BestFit</th>\n      <td>10.5</td>\n      <td>58.30</td>\n      <td>2.10</td>\n      <td>5</td>\n    </tr>\n    <tr>\n      <th>FirstFit</th>\n      <td>10.5</td>\n      <td>56.65</td>\n      <td>2.65</td>\n      <td>5</td>\n    </tr>\n    <tr>\n      <th>MinCovidChairs</th>\n      <td>10.5</td>\n      <td>61.00</td>\n      <td>1.15</td>\n      <td>5</td>\n    </tr>\n    <tr>\n      <th>WorstFit</th>\n      <td>10.5</td>\n      <td>45.95</td>\n      <td>4.00</td>\n      <td>5</td>\n    </tr>\n    <tr>\n      <th rowspan=\"4\" valign=\"top\">Online12</th>\n      <th>BestFit</th>\n      <td>10.5</td>\n      <td>134.35</td>\n      <td>2.05</td>\n      <td>5</td>\n    </tr>\n    <tr>\n      <th>FirstFit</th>\n      <td>10.5</td>\n      <td>132.00</td>\n      <td>2.60</td>\n      <td>5</td>\n    </tr>\n    <tr>\n      <th>MinCovidChairs</th>\n      <td>10.5</td>\n      <td>139.15</td>\n      <td>1.05</td>\n      <td>5</td>\n    </tr>\n    <tr>\n      <th>WorstFit</th>\n      <td>10.5</td>\n      <td>113.05</td>\n      <td>4.00</td>\n      <td>5</td>\n    </tr>\n    <tr>\n      <th rowspan=\"4\" valign=\"top\">Online2</th>\n      <th>BestFit</th>\n      <td>10.5</td>\n      <td>6.60</td>\n      <td>2.25</td>\n      <td>5</td>\n    </tr>\n    <tr>\n      <th>FirstFit</th>\n      <td>10.5</td>\n      <td>7.00</td>\n      <td>1.55</td>\n      <td>5</td>\n    </tr>\n    <tr>\n      <th>MinCovidChairs</th>\n      <td>10.5</td>\n      <td>6.65</td>\n      <td>1.55</td>\n      <td>5</td>\n    </tr>\n    <tr>\n      <th>WorstFit</th>\n      <td>10.5</td>\n      <td>6.45</td>\n      <td>1.80</td>\n      <td>5</td>\n    </tr>\n    <tr>\n      <th rowspan=\"4\" valign=\"top\">Online3</th>\n      <th>BestFit</th>\n      <td>10.5</td>\n      <td>15.10</td>\n      <td>2.10</td>\n      <td>5</td>\n    </tr>\n    <tr>\n      <th>FirstFit</th>\n      <td>10.5</td>\n      <td>15.35</td>\n      <td>1.85</td>\n      <td>5</td>\n    </tr>\n    <tr>\n      <th>MinCovidChairs</th>\n      <td>10.5</td>\n      <td>16.15</td>\n      <td>1.10</td>\n      <td>5</td>\n    </tr>\n    <tr>\n      <th>WorstFit</th>\n      <td>10.5</td>\n      <td>14.50</td>\n      <td>2.90</td>\n      <td>5</td>\n    </tr>\n    <tr>\n      <th rowspan=\"4\" valign=\"top\">Online4</th>\n      <th>BestFit</th>\n      <td>10.5</td>\n      <td>25.70</td>\n      <td>1.55</td>\n      <td>5</td>\n    </tr>\n    <tr>\n      <th>FirstFit</th>\n      <td>10.5</td>\n      <td>25.35</td>\n      <td>1.65</td>\n      <td>5</td>\n    </tr>\n    <tr>\n      <th>MinCovidChairs</th>\n      <td>10.5</td>\n      <td>25.50</td>\n      <td>1.70</td>\n      <td>5</td>\n    </tr>\n    <tr>\n      <th>WorstFit</th>\n      <td>10.5</td>\n      <td>21.45</td>\n      <td>4.00</td>\n      <td>5</td>\n    </tr>\n    <tr>\n      <th rowspan=\"4\" valign=\"top\">Online5</th>\n      <th>BestFit</th>\n      <td>10.5</td>\n      <td>23.65</td>\n      <td>2.05</td>\n      <td>5</td>\n    </tr>\n    <tr>\n      <th>FirstFit</th>\n      <td>10.5</td>\n      <td>23.30</td>\n      <td>2.45</td>\n      <td>5</td>\n    </tr>\n    <tr>\n      <th>MinCovidChairs</th>\n      <td>10.5</td>\n      <td>24.55</td>\n      <td>1.45</td>\n      <td>5</td>\n    </tr>\n    <tr>\n      <th>WorstFit</th>\n      <td>10.5</td>\n      <td>21.75</td>\n      <td>3.35</td>\n      <td>5</td>\n    </tr>\n    <tr>\n      <th rowspan=\"4\" valign=\"top\">Online6</th>\n      <th>BestFit</th>\n      <td>10.5</td>\n      <td>30.95</td>\n      <td>2.05</td>\n      <td>5</td>\n    </tr>\n    <tr>\n      <th>FirstFit</th>\n      <td>10.5</td>\n      <td>30.10</td>\n      <td>2.35</td>\n      <td>5</td>\n    </tr>\n    <tr>\n      <th>MinCovidChairs</th>\n      <td>10.5</td>\n      <td>32.75</td>\n      <td>1.05</td>\n      <td>5</td>\n    </tr>\n    <tr>\n      <th>WorstFit</th>\n      <td>10.5</td>\n      <td>26.10</td>\n      <td>3.95</td>\n      <td>5</td>\n    </tr>\n    <tr>\n      <th rowspan=\"4\" valign=\"top\">Online7</th>\n      <th>BestFit</th>\n      <td>10.5</td>\n      <td>39.35</td>\n      <td>1.65</td>\n      <td>5</td>\n    </tr>\n    <tr>\n      <th>FirstFit</th>\n      <td>10.5</td>\n      <td>38.85</td>\n      <td>2.00</td>\n      <td>5</td>\n    </tr>\n    <tr>\n      <th>MinCovidChairs</th>\n      <td>10.5</td>\n      <td>40.30</td>\n      <td>1.55</td>\n      <td>5</td>\n    </tr>\n    <tr>\n      <th>WorstFit</th>\n      <td>10.5</td>\n      <td>32.05</td>\n      <td>3.90</td>\n      <td>5</td>\n    </tr>\n    <tr>\n      <th rowspan=\"4\" valign=\"top\">Online8</th>\n      <th>BestFit</th>\n      <td>10.5</td>\n      <td>43.20</td>\n      <td>2.95</td>\n      <td>5</td>\n    </tr>\n    <tr>\n      <th>FirstFit</th>\n      <td>10.5</td>\n      <td>44.10</td>\n      <td>2.55</td>\n      <td>5</td>\n    </tr>\n    <tr>\n      <th>MinCovidChairs</th>\n      <td>10.5</td>\n      <td>47.50</td>\n      <td>1.05</td>\n      <td>5</td>\n    </tr>\n    <tr>\n      <th>WorstFit</th>\n      <td>10.5</td>\n      <td>43.60</td>\n      <td>2.80</td>\n      <td>5</td>\n    </tr>\n    <tr>\n      <th rowspan=\"4\" valign=\"top\">Online9</th>\n      <th>BestFit</th>\n      <td>10.5</td>\n      <td>62.45</td>\n      <td>2.35</td>\n      <td>5</td>\n    </tr>\n    <tr>\n      <th>FirstFit</th>\n      <td>10.5</td>\n      <td>62.15</td>\n      <td>2.45</td>\n      <td>5</td>\n    </tr>\n    <tr>\n      <th>MinCovidChairs</th>\n      <td>10.5</td>\n      <td>67.40</td>\n      <td>1.05</td>\n      <td>5</td>\n    </tr>\n    <tr>\n      <th>WorstFit</th>\n      <td>10.5</td>\n      <td>57.40</td>\n      <td>3.85</td>\n      <td>5</td>\n    </tr>\n  </tbody>\n</table>\n</div>"
     },
     "metadata": {},
     "execution_count": 17
    }
   ],
   "source": [
    "df_ranking_mean = df_ranking.groupby(['grid', 'algorithm']).mean()\n",
    "df_ranking_mean.assign(**{'base': 5})"
   ]
  },
  {
   "cell_type": "code",
   "execution_count": 18,
   "metadata": {},
   "outputs": [],
   "source": [
    "# px.scatter(df_ranking_mean.assign(**{'base': 5}), \n",
    "#     # base='base', \n",
    "#     x=df_ranking_mean.index.get_level_values(0), color=df_ranking_mean.index.get_level_values(1), y='rank').update_yaxes(range=[5, 1])"
   ]
  },
  {
   "cell_type": "code",
   "execution_count": 19,
   "metadata": {},
   "outputs": [],
   "source": [
    "# grid_rank = df_ranking.groupby(['grid', 'algorithm'])\n",
    "# grid_rank = grid_rank['rank'].rank(method='min', ascending=False)\n",
    "# grid_rank\n",
    "# # ranking_per_grid = df_ranking['rank'] = grid_rank\n",
    "# # ranking_per_grid"
   ]
  },
  {
   "cell_type": "markdown",
   "metadata": {},
   "source": [
    "For each grid: the rank frequency of the algorithm:"
   ]
  },
  {
   "cell_type": "code",
   "execution_count": 20,
   "metadata": {},
   "outputs": [
    {
     "output_type": "execute_result",
     "data": {
      "text/plain": [
       "                         rank  value\n",
       "grid     algorithm                  \n",
       "Online1  BestFit            1   14.0\n",
       "         FirstFit           1   11.0\n",
       "         MinCovidChairs     1   20.0\n",
       "         WorstFit           1    1.0\n",
       "Online10 BestFit            1    1.0\n",
       "...                       ...    ...\n",
       "Online8  WorstFit           4    4.0\n",
       "Online9  BestFit            4    1.0\n",
       "         FirstFit           4    0.0\n",
       "         MinCovidChairs     4    0.0\n",
       "         WorstFit           4   17.0\n",
       "\n",
       "[192 rows x 2 columns]"
      ],
      "text/html": "<div>\n<style scoped>\n    .dataframe tbody tr th:only-of-type {\n        vertical-align: middle;\n    }\n\n    .dataframe tbody tr th {\n        vertical-align: top;\n    }\n\n    .dataframe thead th {\n        text-align: right;\n    }\n</style>\n<table border=\"1\" class=\"dataframe\">\n  <thead>\n    <tr style=\"text-align: right;\">\n      <th></th>\n      <th></th>\n      <th>rank</th>\n      <th>value</th>\n    </tr>\n    <tr>\n      <th>grid</th>\n      <th>algorithm</th>\n      <th></th>\n      <th></th>\n    </tr>\n  </thead>\n  <tbody>\n    <tr>\n      <th rowspan=\"4\" valign=\"top\">Online1</th>\n      <th>BestFit</th>\n      <td>1</td>\n      <td>14.0</td>\n    </tr>\n    <tr>\n      <th>FirstFit</th>\n      <td>1</td>\n      <td>11.0</td>\n    </tr>\n    <tr>\n      <th>MinCovidChairs</th>\n      <td>1</td>\n      <td>20.0</td>\n    </tr>\n    <tr>\n      <th>WorstFit</th>\n      <td>1</td>\n      <td>1.0</td>\n    </tr>\n    <tr>\n      <th>Online10</th>\n      <th>BestFit</th>\n      <td>1</td>\n      <td>1.0</td>\n    </tr>\n    <tr>\n      <th>...</th>\n      <th>...</th>\n      <td>...</td>\n      <td>...</td>\n    </tr>\n    <tr>\n      <th>Online8</th>\n      <th>WorstFit</th>\n      <td>4</td>\n      <td>4.0</td>\n    </tr>\n    <tr>\n      <th rowspan=\"4\" valign=\"top\">Online9</th>\n      <th>BestFit</th>\n      <td>4</td>\n      <td>1.0</td>\n    </tr>\n    <tr>\n      <th>FirstFit</th>\n      <td>4</td>\n      <td>0.0</td>\n    </tr>\n    <tr>\n      <th>MinCovidChairs</th>\n      <td>4</td>\n      <td>0.0</td>\n    </tr>\n    <tr>\n      <th>WorstFit</th>\n      <td>4</td>\n      <td>17.0</td>\n    </tr>\n  </tbody>\n</table>\n<p>192 rows × 2 columns</p>\n</div>"
     },
     "metadata": {},
     "execution_count": 20
    }
   ],
   "source": [
    "# Rank per \n",
    "def get_cum_ranking_per_rank(x):\n",
    "    result = x['rank'].value_counts().to_frame('count')\n",
    "    return result\n",
    "df_ranking_result = df_ranking.groupby(['grid', 'algorithm']).apply(get_cum_ranking_per_rank)\n",
    "df_ranking_result.index.names = ['grid', 'algorithm', 'rank']\n",
    "df_ranking_result = df_ranking_result.reset_index(level='rank').pivot(columns=['rank']).fillna(0).melt(ignore_index=False, var_name='rank', col_level=1)\n",
    "# print(df_ranking_result.info())\n",
    "# print(df_ranking_result.index.get_level_values(1))\n",
    "df_ranking_result\n",
    "# px.bar(df_ranking_result, x=df_ranking_result.index.get_level_values(0), color=df_ranking_result.index.get_level_values(1), y='rank', barmode='group').show()"
   ]
  }
 ],
 "metadata": {
  "kernelspec": {
   "display_name": "Python 3",
   "language": "python",
   "name": "python3"
  },
  "language_info": {
   "codemirror_mode": {
    "name": "ipython",
    "version": 3
   },
   "file_extension": ".py",
   "mimetype": "text/x-python",
   "name": "python",
   "nbconvert_exporter": "python",
   "pygments_lexer": "ipython3",
   "version": "3.8.3-final"
  }
 },
 "nbformat": 4,
 "nbformat_minor": 2
}